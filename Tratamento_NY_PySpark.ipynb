{
  "nbformat": 4,
  "nbformat_minor": 0,
  "metadata": {
    "colab": {
      "provenance": [],
      "collapsed_sections": [
        "DKG-tGRtNx5F",
        "JmcTz9X9XP4c"
      ],
      "include_colab_link": true
    },
    "kernelspec": {
      "name": "python3",
      "display_name": "Python 3"
    },
    "language_info": {
      "name": "python"
    }
  },
  "cells": [
    {
      "cell_type": "markdown",
      "metadata": {
        "id": "view-in-github",
        "colab_type": "text"
      },
      "source": [
        "<a href=\"https://colab.research.google.com/github/AndersonGabrielCalasans/Projeto-Final-Engenharia-de-Dados-SoulCode/blob/main/Tratamento_NY_PySpark.ipynb\" target=\"_parent\"><img src=\"https://colab.research.google.com/assets/colab-badge.svg\" alt=\"Open In Colab\"/></a>"
      ]
    },
    {
      "cell_type": "markdown",
      "source": [
        "# 👮‍♀️ **Tratamento do Data Frame de Nova York com PySpark**\n",
        "\n",
        "Link para a documentação completa do projeto: [clique aqui](https://www.notion.so/Mindful-Data-Consultoria-d495964059c34acb9c8fe3d21dbb5cf6)\n"
      ],
      "metadata": {
        "id": "DFxmRD-SOJrA"
      }
    },
    {
      "cell_type": "markdown",
      "source": [
        "## **📚 1 - Instalação e importação das bibliotecas**"
      ],
      "metadata": {
        "id": "DKG-tGRtNx5F"
      }
    },
    {
      "cell_type": "code",
      "execution_count": 1,
      "metadata": {
        "id": "ATnCAToIM_Pb"
      },
      "outputs": [],
      "source": [
        "# Instaladores \n",
        "\n",
        "# Google Cloud Storage\n",
        "%%capture\n",
        "%pip install gcsfs\n",
        "\n",
        "# PySpark\n",
        "%pip install pyspark\n",
        "\n",
        "# Conector MySQL\n",
        "%pip install mysql-connector-python\n",
        "%pip install PyMySQL"
      ]
    },
    {
      "cell_type": "code",
      "source": [
        "# Conexão do Storage\n",
        "from google.cloud import storage\n",
        "\n",
        "# Importa sistema operacional\n",
        "import os\n",
        "\n",
        "# Conector do MySQL\n",
        "from mysql.connector import Error\n",
        "from sqlalchemy import create_engine\n",
        "\n",
        "# Pandas\n",
        "import pandas as pd\n",
        "\n",
        "# Pyspark\n",
        "from pyspark.sql import SparkSession\n",
        "from pyspark.sql.types import *\n",
        "import pyspark.sql.functions as F\n",
        "from pyspark.sql.window import Window\n",
        "from pyspark.sql.types import NullType\n",
        "\n",
        "# MongoClient\n",
        "from pymongo import MongoClient\n",
        "import pymongo\n",
        "\n",
        "# setando configurações de display do pandas\n",
        "pd.set_option('display.max_columns',100)"
      ],
      "metadata": {
        "id": "Z7cm-v9YOtyA"
      },
      "execution_count": 2,
      "outputs": []
    },
    {
      "cell_type": "markdown",
      "source": [
        "## 🔗 **2 - Conexões com o DataLake e SparkSession**"
      ],
      "metadata": {
        "id": "OzJLDu9DPbIe"
      }
    },
    {
      "cell_type": "markdown",
      "source": [
        "### 🔊 **Conectando com a Google Cloud Storage**"
      ],
      "metadata": {
        "id": "6UIZMWFAfzsI"
      }
    },
    {
      "cell_type": "code",
      "source": [
        "# Configuração da chave de segurança\n",
        "serviceAccount = '/content/chave-projeto-final.json'\n",
        "os.environ['GOOGLE_APPLICATION_CREDENTIALS'] = serviceAccount"
      ],
      "metadata": {
        "id": "YpvfLAemNjpm"
      },
      "execution_count": 3,
      "outputs": []
    },
    {
      "cell_type": "markdown",
      "source": [
        "### 🔊 **SparkSession**"
      ],
      "metadata": {
        "id": "LpKAXLOeTKkZ"
      }
    },
    {
      "cell_type": "code",
      "source": [
        "# Criando a spark session com o config de conector da gcs\n",
        "spark = (\n",
        "    SparkSession.builder\n",
        "                .master('local')\n",
        "                .appName('ProjetoFinal')\n",
        "                .config('spark.ui.port', '4050')\n",
        "                .config(\"spark.jars\", 'https://storage.googleapis.com/hadoop-lib/gcs/gcs-connector-hadoop2-latest.jar')\n",
        "                .getOrCreate()\n",
        ")"
      ],
      "metadata": {
        "id": "qvCnFWRefuR4"
      },
      "execution_count": 4,
      "outputs": []
    },
    {
      "cell_type": "markdown",
      "source": [
        "## ⚒️ **3 - Extração das bases de dados**"
      ],
      "metadata": {
        "id": "Tf30K0sVP4Th"
      }
    },
    {
      "cell_type": "markdown",
      "source": [
        "### 📋 **Criando Schema**"
      ],
      "metadata": {
        "id": "uiqXI_EdN_Qv"
      }
    },
    {
      "cell_type": "code",
      "source": [
        "# Criando esquema de dados para determinar seus tipos\n",
        "esquema = (\n",
        "    StructType([\n",
        "        StructField('CMPLNT_NUM', IntegerType()), StructField('CMPLNT_FR_DT', StringType()),\n",
        "        StructField('CMPLNT_FR_TM', StringType()), StructField('CMPLNT_TO_DT', StringType()),\n",
        "        StructField('CMPLNT_TO_TM', StringType()), StructField('ADDR_PCT_CD', StringType()),\n",
        "        StructField('RPT_DT', StringType()), StructField('KY_CD', IntegerType()),\n",
        "        StructField('OFNS_DESC', StringType()), StructField('PD_CD', FloatType()),\n",
        "        StructField('PD_DESC', StringType()), StructField('CRM_ATPT_CPTD_CD', StringType()),\n",
        "        StructField('LAW_CAT_CD', StringType()), StructField('BORO_NM', StringType()),\n",
        "        StructField('LOC_OF_OCCUR_DESC', StringType()), StructField('PREM_TYP_DESC', StringType()),\n",
        "        StructField('JURIS_DESC', StringType()), StructField('JURISDICTION_CODE', FloatType()),\n",
        "        StructField('PARKS_NM', StringType()), StructField('HADEVELOPT', StringType()),\n",
        "        StructField('HOUSING_PSA', StringType()), StructField('X_COORD_CD ', FloatType()),\n",
        "        StructField('Y_COORD_CD', FloatType()), StructField('SUSP_AGE_GROUP', StringType()),\n",
        "        StructField('SUSP_RACE', StringType()), StructField('SUSP_SEX', StringType()),\n",
        "        StructField('TRANSIT_DISTRICT', FloatType()), StructField('Latitude', FloatType()),\n",
        "        StructField('Longitude', FloatType()), StructField('Lat_Lon', StringType()),\n",
        "        StructField('PATROL_BORO', StringType()), StructField('STATION_NAME', StringType()),\n",
        "        StructField('VIC_AGE_GROUP', StringType()), StructField('VIC_RACE', StringType()),\n",
        "        StructField('VIC_SEX', StringType())]))"
      ],
      "metadata": {
        "id": "OmtGlckTf9gY"
      },
      "execution_count": 5,
      "outputs": []
    },
    {
      "cell_type": "markdown",
      "source": [
        "### 📋 **Configurando Data Frame**"
      ],
      "metadata": {
        "id": "518znubmTVEh"
      }
    },
    {
      "cell_type": "code",
      "source": [
        "# Fazer acesso a bucket\n",
        "client = storage.Client()\n",
        "\n",
        "# Criar uma variável\n",
        "bucket = client.get_bucket('projeto_final_soulcode')\n",
        "\n",
        "# Escolher arquivo dentro da bucket\n",
        "bucket.blob('Arquivos-PreTratados/ny_geral_orig.csv')\n",
        "\n",
        "# Criar uma variável para receber o caminho do arquivo\n",
        "path = 'gs://projeto_final_soulcode/Arquivos-PreTratados/ny_geral_orig.csv'"
      ],
      "metadata": {
        "id": "JtNdactPVjIh"
      },
      "execution_count": 6,
      "outputs": []
    },
    {
      "cell_type": "code",
      "source": [
        "# Criando Data Frame\n",
        "df = (\n",
        "    spark.read.format('csv')\n",
        "              .option('header', 'true')\n",
        "              .option('inferschema', 'false')\n",
        "              .option('delimiter', ',')\n",
        "              .load(path, schema = esquema)\n",
        ")"
      ],
      "metadata": {
        "id": "eQ2TF7aHgCXg"
      },
      "execution_count": 7,
      "outputs": []
    },
    {
      "cell_type": "code",
      "source": [
        "# Verificando esquema\n",
        "df.printSchema()"
      ],
      "metadata": {
        "colab": {
          "base_uri": "https://localhost:8080/"
        },
        "id": "lG1jTy-YgJjA",
        "outputId": "f1313f43-cbe9-476e-890d-403d760e57b0"
      },
      "execution_count": 8,
      "outputs": [
        {
          "output_type": "stream",
          "name": "stdout",
          "text": [
            "root\n",
            " |-- CMPLNT_NUM: integer (nullable = true)\n",
            " |-- CMPLNT_FR_DT: string (nullable = true)\n",
            " |-- CMPLNT_FR_TM: string (nullable = true)\n",
            " |-- CMPLNT_TO_DT: string (nullable = true)\n",
            " |-- CMPLNT_TO_TM: string (nullable = true)\n",
            " |-- ADDR_PCT_CD: string (nullable = true)\n",
            " |-- RPT_DT: string (nullable = true)\n",
            " |-- KY_CD: integer (nullable = true)\n",
            " |-- OFNS_DESC: string (nullable = true)\n",
            " |-- PD_CD: float (nullable = true)\n",
            " |-- PD_DESC: string (nullable = true)\n",
            " |-- CRM_ATPT_CPTD_CD: string (nullable = true)\n",
            " |-- LAW_CAT_CD: string (nullable = true)\n",
            " |-- BORO_NM: string (nullable = true)\n",
            " |-- LOC_OF_OCCUR_DESC: string (nullable = true)\n",
            " |-- PREM_TYP_DESC: string (nullable = true)\n",
            " |-- JURIS_DESC: string (nullable = true)\n",
            " |-- JURISDICTION_CODE: float (nullable = true)\n",
            " |-- PARKS_NM: string (nullable = true)\n",
            " |-- HADEVELOPT: string (nullable = true)\n",
            " |-- HOUSING_PSA: string (nullable = true)\n",
            " |-- X_COORD_CD : float (nullable = true)\n",
            " |-- Y_COORD_CD: float (nullable = true)\n",
            " |-- SUSP_AGE_GROUP: string (nullable = true)\n",
            " |-- SUSP_RACE: string (nullable = true)\n",
            " |-- SUSP_SEX: string (nullable = true)\n",
            " |-- TRANSIT_DISTRICT: float (nullable = true)\n",
            " |-- Latitude: float (nullable = true)\n",
            " |-- Longitude: float (nullable = true)\n",
            " |-- Lat_Lon: string (nullable = true)\n",
            " |-- PATROL_BORO: string (nullable = true)\n",
            " |-- STATION_NAME: string (nullable = true)\n",
            " |-- VIC_AGE_GROUP: string (nullable = true)\n",
            " |-- VIC_RACE: string (nullable = true)\n",
            " |-- VIC_SEX: string (nullable = true)\n",
            "\n"
          ]
        }
      ]
    },
    {
      "cell_type": "code",
      "source": [
        "# Visualizando dados\n",
        "df.show(truncate=False)"
      ],
      "metadata": {
        "colab": {
          "base_uri": "https://localhost:8080/"
        },
        "id": "yynatvQGgJ7Z",
        "outputId": "285049fe-489c-4262-8c11-97f4167e07f7"
      },
      "execution_count": 9,
      "outputs": [
        {
          "output_type": "stream",
          "name": "stdout",
          "text": [
            "+----------+------------+------------+------------+------------+-----------+----------+-----+-------------------------------+-----+-------+----------------+----------+-------+-----------------+-------------+-------------------+-----------------+--------+----------+-----------+-----------+----------+--------------+------------------------+--------+----------------+---------+----------+-----------------------------+-----------+------------+-------------+------------------------+-------+\n",
            "|CMPLNT_NUM|CMPLNT_FR_DT|CMPLNT_FR_TM|CMPLNT_TO_DT|CMPLNT_TO_TM|ADDR_PCT_CD|RPT_DT    |KY_CD|OFNS_DESC                      |PD_CD|PD_DESC|CRM_ATPT_CPTD_CD|LAW_CAT_CD|BORO_NM|LOC_OF_OCCUR_DESC|PREM_TYP_DESC|JURIS_DESC         |JURISDICTION_CODE|PARKS_NM|HADEVELOPT|HOUSING_PSA|X_COORD_CD |Y_COORD_CD|SUSP_AGE_GROUP|SUSP_RACE               |SUSP_SEX|TRANSIT_DISTRICT|Latitude |Longitude |Lat_Lon                      |PATROL_BORO|STATION_NAME|VIC_AGE_GROUP|VIC_RACE                |VIC_SEX|\n",
            "+----------+------------+------------+------------+------------+-----------+----------+-----+-------------------------------+-----+-------+----------------+----------+-------+-----------------+-------------+-------------------+-----------------+--------+----------+-----------+-----------+----------+--------------+------------------------+--------+----------------+---------+----------+-----------------------------+-----------+------------+-------------+------------------------+-------+\n",
            "|589015329 |07/09/2018  |14:25:00    |null        |null        |41.0       |07/09/2018|101  |MURDER & NON-NEGL. MANSLAUGHTER|null |null   |COMPLETED       |FELONY    |null   |INSIDE           |null         |OTHER              |null             |null    |null      |null       |1017934.0  |232221.0  |25-44         |WHITE HISPANIC          |M       |null            |40.804012|-73.878334|(40.804012949, -73.878331833)|null       |null        |25-44        |BLACK                   |M      |\n",
            "|842779485 |03/14/2018  |05:00:00    |null        |null        |73.0       |03/14/2018|101  |MURDER & NON-NEGL. MANSLAUGHTER|null |null   |COMPLETED       |FELONY    |null   |INSIDE           |null         |N.Y. POLICE DEPT   |null             |null    |null      |null       |1009869.0  |180290.0  |25-44         |BLACK                   |M       |null            |40.661503|-73.90766 |(40.661502264, -73.907661037)|null       |null        |<18          |BLACK                   |F      |\n",
            "|886259402 |04/18/2018  |20:40:00    |null        |null        |79.0       |04/18/2018|101  |MURDER & NON-NEGL. MANSLAUGHTER|null |null   |COMPLETED       |FELONY    |null   |OUTSIDE          |null         |N.Y. POLICE DEPT   |null             |null    |null      |null       |999636.0   |192000.0  |null          |null                    |null    |null            |40.69367 |-73.94452 |(40.693667261, -73.94451783) |null       |null        |25-44        |BLACK                   |M      |\n",
            "|175402761 |05/18/2018  |08:05:00    |null        |null        |18.0       |05/18/2018|101  |MURDER & NON-NEGL. MANSLAUGHTER|null |null   |COMPLETED       |FELONY    |null   |OUTSIDE          |null         |N.Y. POLICE DEPT   |null             |null    |null      |null       |990284.0   |214597.0  |45-64         |BLACK                   |F       |null            |40.755703|-73.978226|(40.755701867, -73.978221916)|null       |null        |<18          |WHITE                   |M      |\n",
            "|321494527 |09/10/2018  |08:00:00    |null        |null        |48.0       |09/10/2018|101  |MURDER & NON-NEGL. MANSLAUGHTER|null |null   |COMPLETED       |FELONY    |null   |INSIDE           |null         |N.Y. POLICE DEPT   |null             |null    |null      |null       |1016309.0  |247659.0  |45-64         |BLACK                   |M       |null            |40.846394|-73.884125|(40.846391886, -73.88412771) |null       |null        |45-64        |BLACK                   |F      |\n",
            "|423646073 |12/10/2018  |17:58:00    |null        |null        |52.0       |12/10/2018|101  |MURDER & NON-NEGL. MANSLAUGHTER|null |null   |COMPLETED       |FELONY    |null   |OUTSIDE          |null         |N.Y. POLICE DEPT   |null             |null    |null      |null       |1014313.0  |254676.0  |18-24         |WHITE HISPANIC          |M       |null            |40.865658|-73.89131 |(40.865658464, -73.891310558)|null       |null        |<18          |WHITE HISPANIC          |M      |\n",
            "|343227375 |06/07/2018  |22:35:00    |null        |null        |70.0       |06/07/2018|101  |MURDER & NON-NEGL. MANSLAUGHTER|null |null   |COMPLETED       |FELONY    |null   |INSIDE           |null         |N.Y. POLICE DEPT   |null             |null    |null      |null       |995107.0   |175859.0  |18-24         |WHITE HISPANIC          |M       |null            |40.649372|-73.96088 |(40.649370543, -73.960875898)|null       |null        |18-24        |ASIAN / PACIFIC ISLANDER|M      |\n",
            "|311276266 |08/13/2018  |11:00:00    |null        |null        |109.0      |08/13/2018|101  |MURDER & NON-NEGL. MANSLAUGHTER|null |null   |COMPLETED       |FELONY    |null   |INSIDE           |null         |N.Y. POLICE DEPT   |null             |null    |null      |null       |1031254.0  |214109.0  |25-44         |ASIAN / PACIFIC ISLANDER|M       |null            |40.75424 |-73.830345|(40.75423956, -73.83034561)  |null       |null        |45-64        |ASIAN / PACIFIC ISLANDER|M      |\n",
            "|953934118 |11/15/2018  |12:00:00    |null        |null        |47.0       |11/15/2018|101  |MURDER & NON-NEGL. MANSLAUGHTER|null |null   |COMPLETED       |FELONY    |null   |INSIDE           |null         |N.Y. HOUSING POLICE|null             |null    |null      |null       |1026486.0  |262591.0  |25-44         |BLACK                   |F       |null            |40.887333|-73.84725 |(40.887332818, -73.847250013)|null       |null        |18-24        |BLACK                   |M      |\n",
            "|702063713 |04/17/2018  |16:05:00    |null        |null        |83.0       |04/17/2018|101  |MURDER & NON-NEGL. MANSLAUGHTER|null |null   |COMPLETED       |FELONY    |null   |INSIDE           |null         |N.Y. POLICE DEPT   |null             |null    |null      |null       |1008203.0  |191229.0  |25-44         |BLACK                   |M       |null            |40.691532|-73.91363 |(40.691532006, -73.91362704) |null       |null        |45-64        |BLACK                   |M      |\n",
            "|808457635 |06/19/2018  |16:06:00    |null        |null        |49.0       |06/19/2018|101  |MURDER & NON-NEGL. MANSLAUGHTER|null |null   |COMPLETED       |FELONY    |null   |OUTSIDE          |null         |N.Y. POLICE DEPT   |null             |null    |null      |null       |1021208.0  |246602.0  |25-44         |WHITE HISPANIC          |M       |null            |40.84347 |-73.866425|(40.843471589, -73.866426662)|null       |null        |18-24        |WHITE HISPANIC          |M      |\n",
            "|177533925 |10/05/2018  |18:56:00    |null        |null        |75.0       |10/05/2018|101  |MURDER & NON-NEGL. MANSLAUGHTER|null |null   |COMPLETED       |FELONY    |null   |OUTSIDE          |null         |N.Y. POLICE DEPT   |null             |null    |null      |null       |1014721.0  |184153.0  |null          |null                    |null    |null            |40.67209 |-73.89015 |(40.672089966, -73.890155181)|null       |null        |18-24        |UNKNOWN                 |F      |\n",
            "|323132610 |12/21/2018  |16:30:00    |null        |null        |120.0      |12/21/2018|101  |MURDER & NON-NEGL. MANSLAUGHTER|null |null   |COMPLETED       |FELONY    |null   |INSIDE           |null         |N.Y. POLICE DEPT   |null             |null    |null      |null       |954477.0   |169652.0  |25-44         |WHITE                   |M       |null            |40.63229 |-74.10727 |(40.632290269, -74.107267443)|null       |null        |25-44        |WHITE                   |M      |\n",
            "|743273165 |12/16/2018  |11:58:00    |null        |null        |101.0      |12/16/2018|101  |MURDER & NON-NEGL. MANSLAUGHTER|null |null   |COMPLETED       |FELONY    |null   |OUTSIDE          |null         |N.Y. POLICE DEPT   |null             |null    |null      |null       |1053650.0  |158969.0  |18-24         |WHITE HISPANIC          |M       |null            |40.602745|-73.75008 |(40.602745951, -73.750077865)|null       |null        |18-24        |WHITE HISPANIC          |M      |\n",
            "|526914446 |02/15/2018  |22:05:00    |null        |null        |49.0       |02/15/2018|101  |MURDER & NON-NEGL. MANSLAUGHTER|null |null   |COMPLETED       |FELONY    |null   |INSIDE           |null         |N.Y. POLICE DEPT   |null             |null    |null      |null       |1020008.0  |252680.0  |18-24         |WHITE HISPANIC          |M       |null            |40.860157|-73.87073 |(40.860158821, -73.870731317)|null       |null        |25-44        |WHITE HISPANIC          |M      |\n",
            "|175995867 |05/23/2018  |12:45:00    |null        |null        |90.0       |05/23/2018|101  |MURDER & NON-NEGL. MANSLAUGHTER|null |null   |COMPLETED       |FELONY    |null   |OUTSIDE          |null         |N.Y. POLICE DEPT   |null             |null    |null      |null       |997689.0   |197266.0  |18-24         |BLACK HISPANIC          |M       |null            |40.708126|-73.95153 |(40.70812437, -73.951528419) |null       |null        |18-24        |BLACK HISPANIC          |M      |\n",
            "|247764317 |12/14/2018  |00:42:00    |null        |null        |44.0       |12/14/2018|101  |MURDER & NON-NEGL. MANSLAUGHTER|null |null   |COMPLETED       |FELONY    |null   |INSIDE           |null         |N.Y. POLICE DEPT   |null             |null    |null      |null       |1008274.0  |245226.0  |25-44         |WHITE HISPANIC          |M       |null            |40.83974 |-73.91318 |(40.839739531, -73.913178032)|null       |null        |18-24        |WHITE HISPANIC          |M      |\n",
            "|992886425 |08/31/2018  |00:37:00    |null        |null        |50.0       |08/31/2018|101  |MURDER & NON-NEGL. MANSLAUGHTER|null |null   |COMPLETED       |FELONY    |null   |OUTSIDE          |null         |N.Y. POLICE DEPT   |null             |null    |null      |null       |1010866.0  |260043.0  |18-24         |BLACK HISPANIC          |M       |null            |40.8804  |-73.903755|(40.880400291, -73.90375164) |null       |null        |18-24        |WHITE HISPANIC          |M      |\n",
            "|995799148 |05/24/2018  |22:34:00    |null        |null        |43.0       |05/24/2018|101  |MURDER & NON-NEGL. MANSLAUGHTER|null |null   |COMPLETED       |FELONY    |null   |INSIDE           |null         |N.Y. HOUSING POLICE|null             |null    |BRONXDALE |null       |1020544.0  |239892.0  |25-44         |BLACK                   |M       |null            |40.825058|-73.868866|(40.825057345, -73.868862814)|null       |null        |<18          |BLACK                   |M      |\n",
            "|310985311 |05/20/2018  |02:03:00    |null        |null        |30.0       |05/20/2018|101  |MURDER & NON-NEGL. MANSLAUGHTER|null |null   |COMPLETED       |FELONY    |null   |INSIDE           |null         |N.Y. POLICE DEPT   |null             |null    |null      |null       |998949.0   |240295.0  |null          |null                    |null    |null            |40.826225|-73.94689 |(40.826225799, -73.946889641)|null       |null        |25-44        |BLACK                   |M      |\n",
            "+----------+------------+------------+------------+------------+-----------+----------+-----+-------------------------------+-----+-------+----------------+----------+-------+-----------------+-------------+-------------------+-----------------+--------+----------+-----------+-----------+----------+--------------+------------------------+--------+----------------+---------+----------+-----------------------------+-----------+------------+-------------+------------------------+-------+\n",
            "only showing top 20 rows\n",
            "\n"
          ]
        }
      ]
    },
    {
      "cell_type": "code",
      "source": [
        "# Conferindo quantidade de linhas e colunas do df\n",
        "print(f'Quantidade de colunas do df:', len(df.columns))\n",
        "print(f'Quantidade de linhas do df:', df.count())"
      ],
      "metadata": {
        "colab": {
          "base_uri": "https://localhost:8080/"
        },
        "id": "f2QqFW0l7GBI",
        "outputId": "087a86b2-da3d-44b4-bf54-b08bc27a35f1"
      },
      "execution_count": 10,
      "outputs": [
        {
          "output_type": "stream",
          "name": "stdout",
          "text": [
            "Quantidade de colunas do df: 35\n",
            "Quantidade de linhas do df: 1560\n"
          ]
        }
      ]
    },
    {
      "cell_type": "code",
      "source": [
        "# BackUp do dataframe\n",
        "dfback = df"
      ],
      "metadata": {
        "id": "a45ujvNgx1VK"
      },
      "execution_count": 11,
      "outputs": []
    },
    {
      "cell_type": "markdown",
      "source": [
        "##📝 **6 - Tratamento do Data Frame**"
      ],
      "metadata": {
        "id": "JmcTz9X9XP4c"
      }
    },
    {
      "cell_type": "markdown",
      "source": [
        "###▶️ **Renomeando colunas**"
      ],
      "metadata": {
        "id": "mvcS6c4rlnCj"
      }
    },
    {
      "cell_type": "code",
      "source": [
        "# Renomeando colunas\n",
        "df = (\n",
        "    df.withColumnRenamed('CMPLNT_NUM', 'id_ocorrencia')\n",
        "      .withColumnRenamed('CMPLNT_FR_DT', 'dt_inicio_ocorrencia')\n",
        "      .withColumnRenamed('CMPLNT_FR_TM', 'hr_inicio_ocorrencia')\n",
        "      .withColumnRenamed('CMPLNT_TO_DT', 'dt_final_ocorrencia')\n",
        "      .withColumnRenamed('CMPLNT_TO_TM', 'hr_final_ocorrencia')\n",
        "      .withColumnRenamed('ADDR_PCT_CD', 'cod_delegacia')\n",
        "      .withColumnRenamed('RPT_DT', 'dt_comunicacao').withColumnRenamed('KY_CD', 'cod_class_ofensa')\n",
        "      .withColumnRenamed('OFNS_DESC', 'tipo_crime').withColumnRenamed('PD_CD', 'cod_class_interna')\n",
        "      .withColumnRenamed('PD_DESC', 'desc_class_interna')\n",
        "      .withColumnRenamed('CRM_ATPT_CPTD_CD', 'tentado_consumado')\n",
        "      .withColumnRenamed('LAW_CAT_CD', 'nivel_ofensa').withColumnRenamed('BORO_NM', 'distrito')\n",
        "      .withColumnRenamed('LOC_OF_OCCUR_DESC', 'loc_esp_ocorrencia')\n",
        "      .withColumnRenamed('PREM_TYP_DESC', 'desc_local')\n",
        "      .withColumnRenamed('JURIS_DESC', 'desc_foro').withColumnRenamed('JURISDICTION_CODE', 'cod_foro')\n",
        "      .withColumnRenamed('PARKS_NM', 'nome_parque').withColumnRenamed('HADEVELOPT', 'nome_nycha')\n",
        "      .withColumnRenamed('HOUSING_PSA', 'cod_nycha').withColumnRenamed('X_COORD_CD ', 'coord_x')\n",
        "      .withColumnRenamed('Y_COORD_CD', 'coord_y')\n",
        "      .withColumnRenamed('SUSP_AGE_GROUP', 'faixa_etaria_suspeito')\n",
        "      .withColumnRenamed('SUSP_RACE', 'cor_pele_suspeito')\n",
        "      .withColumnRenamed('SUSP_SEX', 'sexo_suspeito')\n",
        "      .withColumnRenamed('TRANSIT_DISTRICT', 'cod_dist_transito')\n",
        "      .withColumnRenamed('Latitude', 'latitude')\n",
        "      .withColumnRenamed('Longitude', 'longitude').withColumnRenamed('Lat_Lon', 'latitude_longitude')\n",
        "      .withColumnRenamed('PATROL_BORO', 'distrito_patrulha')\n",
        "      .withColumnRenamed('STATION_NAME', 'estacao_transporte')\n",
        "      .withColumnRenamed('VIC_AGE_GROUP', 'faixa_etaria_vitima')\n",
        "      .withColumnRenamed('VIC_RACE', 'cor_pele_vitima')\n",
        "      .withColumnRenamed('VIC_SEX', 'sexo_vitima'))"
      ],
      "metadata": {
        "id": "FEAlGBpRnFcc"
      },
      "execution_count": 12,
      "outputs": []
    },
    {
      "cell_type": "code",
      "source": [
        "# Verificando alteração\n",
        "df.printSchema()"
      ],
      "metadata": {
        "colab": {
          "base_uri": "https://localhost:8080/"
        },
        "id": "e1QN9NQnvOaJ",
        "outputId": "4c193d1e-1320-43c0-b453-97df1773e243"
      },
      "execution_count": 13,
      "outputs": [
        {
          "output_type": "stream",
          "name": "stdout",
          "text": [
            "root\n",
            " |-- id_ocorrencia: integer (nullable = true)\n",
            " |-- dt_inicio_ocorrencia: string (nullable = true)\n",
            " |-- hr_inicio_ocorrencia: string (nullable = true)\n",
            " |-- dt_final_ocorrencia: string (nullable = true)\n",
            " |-- hr_final_ocorrencia: string (nullable = true)\n",
            " |-- cod_delegacia: string (nullable = true)\n",
            " |-- dt_comunicacao: string (nullable = true)\n",
            " |-- cod_class_ofensa: integer (nullable = true)\n",
            " |-- tipo_crime: string (nullable = true)\n",
            " |-- cod_class_interna: float (nullable = true)\n",
            " |-- desc_class_interna: string (nullable = true)\n",
            " |-- tentado_consumado: string (nullable = true)\n",
            " |-- nivel_ofensa: string (nullable = true)\n",
            " |-- distrito: string (nullable = true)\n",
            " |-- loc_esp_ocorrencia: string (nullable = true)\n",
            " |-- desc_local: string (nullable = true)\n",
            " |-- desc_foro: string (nullable = true)\n",
            " |-- cod_foro: float (nullable = true)\n",
            " |-- nome_parque: string (nullable = true)\n",
            " |-- nome_nycha: string (nullable = true)\n",
            " |-- cod_nycha: string (nullable = true)\n",
            " |-- coord_x: float (nullable = true)\n",
            " |-- coord_y: float (nullable = true)\n",
            " |-- faixa_etaria_suspeito: string (nullable = true)\n",
            " |-- cor_pele_suspeito: string (nullable = true)\n",
            " |-- sexo_suspeito: string (nullable = true)\n",
            " |-- cod_dist_transito: float (nullable = true)\n",
            " |-- latitude: float (nullable = true)\n",
            " |-- longitude: float (nullable = true)\n",
            " |-- latitude_longitude: string (nullable = true)\n",
            " |-- distrito_patrulha: string (nullable = true)\n",
            " |-- estacao_transporte: string (nullable = true)\n",
            " |-- faixa_etaria_vitima: string (nullable = true)\n",
            " |-- cor_pele_vitima: string (nullable = true)\n",
            " |-- sexo_vitima: string (nullable = true)\n",
            "\n"
          ]
        }
      ]
    },
    {
      "cell_type": "markdown",
      "source": [
        "###▶️ **Conferindo se há espaços extras**"
      ],
      "metadata": {
        "id": "PoHjh1ifX_lS"
      }
    },
    {
      "cell_type": "code",
      "source": [
        "# Usando o trim que tira apenas os espaços do início e fim da string\n",
        "df = df.select([F.trim(F.col(c)).alias(c) for c in df.columns])\n",
        "df.show(5, truncate=False)"
      ],
      "metadata": {
        "colab": {
          "base_uri": "https://localhost:8080/"
        },
        "id": "Kf_hvVnhX8sM",
        "outputId": "482d1437-5142-4a61-c340-f4c10bb4d7cf"
      },
      "execution_count": 14,
      "outputs": [
        {
          "output_type": "stream",
          "name": "stdout",
          "text": [
            "+-------------+--------------------+--------------------+-------------------+-------------------+-------------+--------------+----------------+-------------------------------+-----------------+------------------+-----------------+------------+--------+------------------+----------+----------------+--------+-----------+----------+---------+---------+--------+---------------------+-----------------+-------------+-----------------+---------+----------+-----------------------------+-----------------+------------------+-------------------+---------------+-----------+\n",
            "|id_ocorrencia|dt_inicio_ocorrencia|hr_inicio_ocorrencia|dt_final_ocorrencia|hr_final_ocorrencia|cod_delegacia|dt_comunicacao|cod_class_ofensa|tipo_crime                     |cod_class_interna|desc_class_interna|tentado_consumado|nivel_ofensa|distrito|loc_esp_ocorrencia|desc_local|desc_foro       |cod_foro|nome_parque|nome_nycha|cod_nycha|coord_x  |coord_y |faixa_etaria_suspeito|cor_pele_suspeito|sexo_suspeito|cod_dist_transito|latitude |longitude |latitude_longitude           |distrito_patrulha|estacao_transporte|faixa_etaria_vitima|cor_pele_vitima|sexo_vitima|\n",
            "+-------------+--------------------+--------------------+-------------------+-------------------+-------------+--------------+----------------+-------------------------------+-----------------+------------------+-----------------+------------+--------+------------------+----------+----------------+--------+-----------+----------+---------+---------+--------+---------------------+-----------------+-------------+-----------------+---------+----------+-----------------------------+-----------------+------------------+-------------------+---------------+-----------+\n",
            "|589015329    |07/09/2018          |14:25:00            |null               |null               |41.0         |07/09/2018    |101             |MURDER & NON-NEGL. MANSLAUGHTER|null             |null              |COMPLETED        |FELONY      |null    |INSIDE            |null      |OTHER           |null    |null       |null      |null     |1017934.0|232221.0|25-44                |WHITE HISPANIC   |M            |null             |40.804012|-73.878334|(40.804012949, -73.878331833)|null             |null              |25-44              |BLACK          |M          |\n",
            "|842779485    |03/14/2018          |05:00:00            |null               |null               |73.0         |03/14/2018    |101             |MURDER & NON-NEGL. MANSLAUGHTER|null             |null              |COMPLETED        |FELONY      |null    |INSIDE            |null      |N.Y. POLICE DEPT|null    |null       |null      |null     |1009869.0|180290.0|25-44                |BLACK            |M            |null             |40.661503|-73.90766 |(40.661502264, -73.907661037)|null             |null              |<18                |BLACK          |F          |\n",
            "|886259402    |04/18/2018          |20:40:00            |null               |null               |79.0         |04/18/2018    |101             |MURDER & NON-NEGL. MANSLAUGHTER|null             |null              |COMPLETED        |FELONY      |null    |OUTSIDE           |null      |N.Y. POLICE DEPT|null    |null       |null      |null     |999636.0 |192000.0|null                 |null             |null         |null             |40.69367 |-73.94452 |(40.693667261, -73.94451783) |null             |null              |25-44              |BLACK          |M          |\n",
            "|175402761    |05/18/2018          |08:05:00            |null               |null               |18.0         |05/18/2018    |101             |MURDER & NON-NEGL. MANSLAUGHTER|null             |null              |COMPLETED        |FELONY      |null    |OUTSIDE           |null      |N.Y. POLICE DEPT|null    |null       |null      |null     |990284.0 |214597.0|45-64                |BLACK            |F            |null             |40.755703|-73.978226|(40.755701867, -73.978221916)|null             |null              |<18                |WHITE          |M          |\n",
            "|321494527    |09/10/2018          |08:00:00            |null               |null               |48.0         |09/10/2018    |101             |MURDER & NON-NEGL. MANSLAUGHTER|null             |null              |COMPLETED        |FELONY      |null    |INSIDE            |null      |N.Y. POLICE DEPT|null    |null       |null      |null     |1016309.0|247659.0|45-64                |BLACK            |M            |null             |40.846394|-73.884125|(40.846391886, -73.88412771) |null             |null              |45-64              |BLACK          |F          |\n",
            "+-------------+--------------------+--------------------+-------------------+-------------------+-------------+--------------+----------------+-------------------------------+-----------------+------------------+-----------------+------------+--------+------------------+----------+----------------+--------+-----------+----------+---------+---------+--------+---------------------+-----------------+-------------+-----------------+---------+----------+-----------------------------+-----------------+------------------+-------------------+---------------+-----------+\n",
            "only showing top 5 rows\n",
            "\n"
          ]
        }
      ]
    },
    {
      "cell_type": "markdown",
      "source": [
        "###▶️ **Conferindo se há linhas duplicadas**"
      ],
      "metadata": {
        "id": "NnFzP30zld9j"
      }
    },
    {
      "cell_type": "code",
      "source": [
        "# Contando quantas linhas duplicadas existem no df\n",
        "total_linhas = df.count()\n",
        "total_linhas_distintas = df.distinct().count()\n",
        "\n",
        "print('O total de linhas duplicadas é de: ', total_linhas - total_linhas_distintas)"
      ],
      "metadata": {
        "colab": {
          "base_uri": "https://localhost:8080/"
        },
        "id": "yVv3zEpvla7r",
        "outputId": "d1f2ad69-f41f-43df-e218-a0145d8f6d6c"
      },
      "execution_count": 15,
      "outputs": [
        {
          "output_type": "stream",
          "name": "stdout",
          "text": [
            "O total de linhas duplicadas é de:  0\n"
          ]
        }
      ]
    },
    {
      "cell_type": "markdown",
      "source": [
        "###▶️ **Conferindo se há dados nulos**"
      ],
      "metadata": {
        "id": "g9GCoDwl9Fmc"
      }
    },
    {
      "cell_type": "code",
      "source": [
        "# Função para mostrar a quantidade de dados nulos, nan e vazios de cada coluna\n",
        "df.select(([F.count(F.when(F.col(c).contains('None') | \n",
        "                       F.col(c).contains('NULL') | \n",
        "                       (F.col(c) == '' ) | \n",
        "                       F.col(c).isNull() | \n",
        "                       F.isnan(c), c)).alias(c) for c in df.columns])\n",
        ").show()"
      ],
      "metadata": {
        "colab": {
          "base_uri": "https://localhost:8080/"
        },
        "id": "a0yMhW_x2Rku",
        "outputId": "8d70083d-bb8f-4511-9525-90edb4abfa67"
      },
      "execution_count": 16,
      "outputs": [
        {
          "output_type": "stream",
          "name": "stdout",
          "text": [
            "+-------------+--------------------+--------------------+-------------------+-------------------+-------------+--------------+----------------+----------+-----------------+------------------+-----------------+------------+--------+------------------+----------+---------+--------+-----------+----------+---------+-------+-------+---------------------+-----------------+-------------+-----------------+--------+---------+------------------+-----------------+------------------+-------------------+---------------+-----------+\n",
            "|id_ocorrencia|dt_inicio_ocorrencia|hr_inicio_ocorrencia|dt_final_ocorrencia|hr_final_ocorrencia|cod_delegacia|dt_comunicacao|cod_class_ofensa|tipo_crime|cod_class_interna|desc_class_interna|tentado_consumado|nivel_ofensa|distrito|loc_esp_ocorrencia|desc_local|desc_foro|cod_foro|nome_parque|nome_nycha|cod_nycha|coord_x|coord_y|faixa_etaria_suspeito|cor_pele_suspeito|sexo_suspeito|cod_dist_transito|latitude|longitude|latitude_longitude|distrito_patrulha|estacao_transporte|faixa_etaria_vitima|cor_pele_vitima|sexo_vitima|\n",
            "+-------------+--------------------+--------------------+-------------------+-------------------+-------------+--------------+----------------+----------+-----------------+------------------+-----------------+------------+--------+------------------+----------+---------+--------+-----------+----------+---------+-------+-------+---------------------+-----------------+-------------+-----------------+--------+---------+------------------+-----------------+------------------+-------------------+---------------+-----------+\n",
            "|            0|                   0|                   0|               1520|               1519|            3|             0|               0|         0|             1509|              1509|                0|           0|    1509|                18|      1509|        0|    1509|       1558|      1500|     1558|      3|      3|                  530|              530|          530|             1559|       3|        3|                 3|             1509|              1559|                  0|              0|          0|\n",
            "+-------------+--------------------+--------------------+-------------------+-------------------+-------------+--------------+----------------+----------+-----------------+------------------+-----------------+------------+--------+------------------+----------+---------+--------+-----------+----------+---------+-------+-------+---------------------+-----------------+-------------+-----------------+--------+---------+------------------+-----------------+------------------+-------------------+---------------+-----------+\n",
            "\n"
          ]
        }
      ]
    },
    {
      "cell_type": "code",
      "source": [
        "# Análise aprofundada das colunas que tem dados nulos\n",
        "df.groupBy(\"distrito\").count().show(truncate=False)"
      ],
      "metadata": {
        "colab": {
          "base_uri": "https://localhost:8080/"
        },
        "id": "Sxu6f7SZ3m6u",
        "outputId": "f7e01469-69d5-4984-b7ad-9ffd90a7d9c0"
      },
      "execution_count": 17,
      "outputs": [
        {
          "output_type": "stream",
          "name": "stdout",
          "text": [
            "+-------------+-----+\n",
            "|distrito     |count|\n",
            "+-------------+-----+\n",
            "|null         |1509 |\n",
            "|QUEENS       |5    |\n",
            "|BROOKLYN     |16   |\n",
            "|BRONX        |15   |\n",
            "|MANHATTAN    |11   |\n",
            "|STATEN ISLAND|4    |\n",
            "+-------------+-----+\n",
            "\n"
          ]
        }
      ]
    },
    {
      "cell_type": "code",
      "source": [
        "df.show(5, truncate=False)"
      ],
      "metadata": {
        "colab": {
          "base_uri": "https://localhost:8080/"
        },
        "id": "ypKoNnX0vsuT",
        "outputId": "9a327a39-f863-4692-cc1a-ee5beacd506f"
      },
      "execution_count": 18,
      "outputs": [
        {
          "output_type": "stream",
          "name": "stdout",
          "text": [
            "+-------------+--------------------+--------------------+-------------------+-------------------+-------------+--------------+----------------+-------------------------------+-----------------+------------------+-----------------+------------+--------+------------------+----------+----------------+--------+-----------+----------+---------+---------+--------+---------------------+-----------------+-------------+-----------------+---------+----------+-----------------------------+-----------------+------------------+-------------------+---------------+-----------+\n",
            "|id_ocorrencia|dt_inicio_ocorrencia|hr_inicio_ocorrencia|dt_final_ocorrencia|hr_final_ocorrencia|cod_delegacia|dt_comunicacao|cod_class_ofensa|tipo_crime                     |cod_class_interna|desc_class_interna|tentado_consumado|nivel_ofensa|distrito|loc_esp_ocorrencia|desc_local|desc_foro       |cod_foro|nome_parque|nome_nycha|cod_nycha|coord_x  |coord_y |faixa_etaria_suspeito|cor_pele_suspeito|sexo_suspeito|cod_dist_transito|latitude |longitude |latitude_longitude           |distrito_patrulha|estacao_transporte|faixa_etaria_vitima|cor_pele_vitima|sexo_vitima|\n",
            "+-------------+--------------------+--------------------+-------------------+-------------------+-------------+--------------+----------------+-------------------------------+-----------------+------------------+-----------------+------------+--------+------------------+----------+----------------+--------+-----------+----------+---------+---------+--------+---------------------+-----------------+-------------+-----------------+---------+----------+-----------------------------+-----------------+------------------+-------------------+---------------+-----------+\n",
            "|589015329    |07/09/2018          |14:25:00            |null               |null               |41.0         |07/09/2018    |101             |MURDER & NON-NEGL. MANSLAUGHTER|null             |null              |COMPLETED        |FELONY      |null    |INSIDE            |null      |OTHER           |null    |null       |null      |null     |1017934.0|232221.0|25-44                |WHITE HISPANIC   |M            |null             |40.804012|-73.878334|(40.804012949, -73.878331833)|null             |null              |25-44              |BLACK          |M          |\n",
            "|842779485    |03/14/2018          |05:00:00            |null               |null               |73.0         |03/14/2018    |101             |MURDER & NON-NEGL. MANSLAUGHTER|null             |null              |COMPLETED        |FELONY      |null    |INSIDE            |null      |N.Y. POLICE DEPT|null    |null       |null      |null     |1009869.0|180290.0|25-44                |BLACK            |M            |null             |40.661503|-73.90766 |(40.661502264, -73.907661037)|null             |null              |<18                |BLACK          |F          |\n",
            "|886259402    |04/18/2018          |20:40:00            |null               |null               |79.0         |04/18/2018    |101             |MURDER & NON-NEGL. MANSLAUGHTER|null             |null              |COMPLETED        |FELONY      |null    |OUTSIDE           |null      |N.Y. POLICE DEPT|null    |null       |null      |null     |999636.0 |192000.0|null                 |null             |null         |null             |40.69367 |-73.94452 |(40.693667261, -73.94451783) |null             |null              |25-44              |BLACK          |M          |\n",
            "|175402761    |05/18/2018          |08:05:00            |null               |null               |18.0         |05/18/2018    |101             |MURDER & NON-NEGL. MANSLAUGHTER|null             |null              |COMPLETED        |FELONY      |null    |OUTSIDE           |null      |N.Y. POLICE DEPT|null    |null       |null      |null     |990284.0 |214597.0|45-64                |BLACK            |F            |null             |40.755703|-73.978226|(40.755701867, -73.978221916)|null             |null              |<18                |WHITE          |M          |\n",
            "|321494527    |09/10/2018          |08:00:00            |null               |null               |48.0         |09/10/2018    |101             |MURDER & NON-NEGL. MANSLAUGHTER|null             |null              |COMPLETED        |FELONY      |null    |INSIDE            |null      |N.Y. POLICE DEPT|null    |null       |null      |null     |1016309.0|247659.0|45-64                |BLACK            |M            |null             |40.846394|-73.884125|(40.846391886, -73.88412771) |null             |null              |45-64              |BLACK          |F          |\n",
            "+-------------+--------------------+--------------------+-------------------+-------------------+-------------+--------------+----------------+-------------------------------+-----------------+------------------+-----------------+------------+--------+------------------+----------+----------------+--------+-----------+----------+---------+---------+--------+---------------------+-----------------+-------------+-----------------+---------+----------+-----------------------------+-----------------+------------------+-------------------+---------------+-----------+\n",
            "only showing top 5 rows\n",
            "\n"
          ]
        }
      ]
    },
    {
      "cell_type": "markdown",
      "source": [
        "###▶️ **Drop de colunas**\n",
        "\n",
        "Decidimos dar drop nas colunas \"coord_x\", \"coord_y\", \"latitude\", \"longitude\", pois já temos os dados de localização global na coluna \"latitude_longitude\"."
      ],
      "metadata": {
        "id": "RdMv-UX7lWMD"
      }
    },
    {
      "cell_type": "code",
      "source": [
        "# Dropando colunas  \n",
        "df = df.drop(\"coord_x\",\"coord_y\",\"latitude\",\"longitude\")\n",
        "\n",
        "# Verificando alteração\n",
        "df.show(5, truncate=False)"
      ],
      "metadata": {
        "colab": {
          "base_uri": "https://localhost:8080/"
        },
        "id": "1Exfgl_4lqa7",
        "outputId": "2d7e38f9-8a52-40ed-fbf8-816bbcd1dede"
      },
      "execution_count": 19,
      "outputs": [
        {
          "output_type": "stream",
          "name": "stdout",
          "text": [
            "+-------------+--------------------+--------------------+-------------------+-------------------+-------------+--------------+----------------+-------------------------------+-----------------+------------------+-----------------+------------+--------+------------------+----------+----------------+--------+-----------+----------+---------+---------------------+-----------------+-------------+-----------------+-----------------------------+-----------------+------------------+-------------------+---------------+-----------+\n",
            "|id_ocorrencia|dt_inicio_ocorrencia|hr_inicio_ocorrencia|dt_final_ocorrencia|hr_final_ocorrencia|cod_delegacia|dt_comunicacao|cod_class_ofensa|tipo_crime                     |cod_class_interna|desc_class_interna|tentado_consumado|nivel_ofensa|distrito|loc_esp_ocorrencia|desc_local|desc_foro       |cod_foro|nome_parque|nome_nycha|cod_nycha|faixa_etaria_suspeito|cor_pele_suspeito|sexo_suspeito|cod_dist_transito|latitude_longitude           |distrito_patrulha|estacao_transporte|faixa_etaria_vitima|cor_pele_vitima|sexo_vitima|\n",
            "+-------------+--------------------+--------------------+-------------------+-------------------+-------------+--------------+----------------+-------------------------------+-----------------+------------------+-----------------+------------+--------+------------------+----------+----------------+--------+-----------+----------+---------+---------------------+-----------------+-------------+-----------------+-----------------------------+-----------------+------------------+-------------------+---------------+-----------+\n",
            "|589015329    |07/09/2018          |14:25:00            |null               |null               |41.0         |07/09/2018    |101             |MURDER & NON-NEGL. MANSLAUGHTER|null             |null              |COMPLETED        |FELONY      |null    |INSIDE            |null      |OTHER           |null    |null       |null      |null     |25-44                |WHITE HISPANIC   |M            |null             |(40.804012949, -73.878331833)|null             |null              |25-44              |BLACK          |M          |\n",
            "|842779485    |03/14/2018          |05:00:00            |null               |null               |73.0         |03/14/2018    |101             |MURDER & NON-NEGL. MANSLAUGHTER|null             |null              |COMPLETED        |FELONY      |null    |INSIDE            |null      |N.Y. POLICE DEPT|null    |null       |null      |null     |25-44                |BLACK            |M            |null             |(40.661502264, -73.907661037)|null             |null              |<18                |BLACK          |F          |\n",
            "|886259402    |04/18/2018          |20:40:00            |null               |null               |79.0         |04/18/2018    |101             |MURDER & NON-NEGL. MANSLAUGHTER|null             |null              |COMPLETED        |FELONY      |null    |OUTSIDE           |null      |N.Y. POLICE DEPT|null    |null       |null      |null     |null                 |null             |null         |null             |(40.693667261, -73.94451783) |null             |null              |25-44              |BLACK          |M          |\n",
            "|175402761    |05/18/2018          |08:05:00            |null               |null               |18.0         |05/18/2018    |101             |MURDER & NON-NEGL. MANSLAUGHTER|null             |null              |COMPLETED        |FELONY      |null    |OUTSIDE           |null      |N.Y. POLICE DEPT|null    |null       |null      |null     |45-64                |BLACK            |F            |null             |(40.755701867, -73.978221916)|null             |null              |<18                |WHITE          |M          |\n",
            "|321494527    |09/10/2018          |08:00:00            |null               |null               |48.0         |09/10/2018    |101             |MURDER & NON-NEGL. MANSLAUGHTER|null             |null              |COMPLETED        |FELONY      |null    |INSIDE            |null      |N.Y. POLICE DEPT|null    |null       |null      |null     |45-64                |BLACK            |M            |null             |(40.846391886, -73.88412771) |null             |null              |45-64              |BLACK          |F          |\n",
            "+-------------+--------------------+--------------------+-------------------+-------------------+-------------+--------------+----------------+-------------------------------+-----------------+------------------+-----------------+------------+--------+------------------+----------+----------------+--------+-----------+----------+---------+---------------------+-----------------+-------------+-----------------+-----------------------------+-----------------+------------------+-------------------+---------------+-----------+\n",
            "only showing top 5 rows\n",
            "\n"
          ]
        }
      ]
    },
    {
      "cell_type": "code",
      "source": [
        "# Dropando colunas em que a grande maioria dos dados são nulos (+95%)\n",
        "\n",
        "# Listando colunas\n",
        "cols = ('dt_final_ocorrencia', 'hr_final_ocorrencia', 'cod_class_interna', 'desc_class_interna',\n",
        "        'distrito', 'desc_local', 'cod_foro', 'nome_parque', 'nome_nycha', 'cod_nycha',\n",
        "        'cod_dist_transito', 'distrito_patrulha', 'estacao_transporte')\n",
        "\n",
        "# Dropando todas de vez\n",
        "df = df.drop(*cols)\n",
        "\n",
        "# Verificando alteração\n",
        "df.show(5, truncate=False)"
      ],
      "metadata": {
        "colab": {
          "base_uri": "https://localhost:8080/"
        },
        "id": "b5nEs3A4zD7K",
        "outputId": "2a9ac541-a0e6-4afa-e823-47cc181c8384"
      },
      "execution_count": 20,
      "outputs": [
        {
          "output_type": "stream",
          "name": "stdout",
          "text": [
            "+-------------+--------------------+--------------------+-------------+--------------+----------------+-------------------------------+-----------------+------------+------------------+----------------+---------------------+-----------------+-------------+-----------------------------+-------------------+---------------+-----------+\n",
            "|id_ocorrencia|dt_inicio_ocorrencia|hr_inicio_ocorrencia|cod_delegacia|dt_comunicacao|cod_class_ofensa|tipo_crime                     |tentado_consumado|nivel_ofensa|loc_esp_ocorrencia|desc_foro       |faixa_etaria_suspeito|cor_pele_suspeito|sexo_suspeito|latitude_longitude           |faixa_etaria_vitima|cor_pele_vitima|sexo_vitima|\n",
            "+-------------+--------------------+--------------------+-------------+--------------+----------------+-------------------------------+-----------------+------------+------------------+----------------+---------------------+-----------------+-------------+-----------------------------+-------------------+---------------+-----------+\n",
            "|589015329    |07/09/2018          |14:25:00            |41.0         |07/09/2018    |101             |MURDER & NON-NEGL. MANSLAUGHTER|COMPLETED        |FELONY      |INSIDE            |OTHER           |25-44                |WHITE HISPANIC   |M            |(40.804012949, -73.878331833)|25-44              |BLACK          |M          |\n",
            "|842779485    |03/14/2018          |05:00:00            |73.0         |03/14/2018    |101             |MURDER & NON-NEGL. MANSLAUGHTER|COMPLETED        |FELONY      |INSIDE            |N.Y. POLICE DEPT|25-44                |BLACK            |M            |(40.661502264, -73.907661037)|<18                |BLACK          |F          |\n",
            "|886259402    |04/18/2018          |20:40:00            |79.0         |04/18/2018    |101             |MURDER & NON-NEGL. MANSLAUGHTER|COMPLETED        |FELONY      |OUTSIDE           |N.Y. POLICE DEPT|null                 |null             |null         |(40.693667261, -73.94451783) |25-44              |BLACK          |M          |\n",
            "|175402761    |05/18/2018          |08:05:00            |18.0         |05/18/2018    |101             |MURDER & NON-NEGL. MANSLAUGHTER|COMPLETED        |FELONY      |OUTSIDE           |N.Y. POLICE DEPT|45-64                |BLACK            |F            |(40.755701867, -73.978221916)|<18                |WHITE          |M          |\n",
            "|321494527    |09/10/2018          |08:00:00            |48.0         |09/10/2018    |101             |MURDER & NON-NEGL. MANSLAUGHTER|COMPLETED        |FELONY      |INSIDE            |N.Y. POLICE DEPT|45-64                |BLACK            |M            |(40.846391886, -73.88412771) |45-64              |BLACK          |F          |\n",
            "+-------------+--------------------+--------------------+-------------+--------------+----------------+-------------------------------+-----------------+------------+------------------+----------------+---------------------+-----------------+-------------+-----------------------------+-------------------+---------------+-----------+\n",
            "only showing top 5 rows\n",
            "\n"
          ]
        }
      ]
    },
    {
      "cell_type": "code",
      "source": [
        "# Conferindo quantidade de linhas e colunas do df\n",
        "print(f'Quantidade de colunas do df:', len(df.columns))\n",
        "print(f'Quantidade de linhas do df:', df.count())"
      ],
      "metadata": {
        "colab": {
          "base_uri": "https://localhost:8080/"
        },
        "id": "fJRLnBJO6hCX",
        "outputId": "3a689e47-6946-4bea-c83b-0c46b49a644b"
      },
      "execution_count": 21,
      "outputs": [
        {
          "output_type": "stream",
          "name": "stdout",
          "text": [
            "Quantidade de colunas do df: 18\n",
            "Quantidade de linhas do df: 1560\n"
          ]
        }
      ]
    },
    {
      "cell_type": "markdown",
      "source": [
        "###▶️ **Criação/junção de colunas**"
      ],
      "metadata": {
        "id": "P4UVUVVcwAFq"
      }
    },
    {
      "cell_type": "code",
      "source": [
        "# Criando coluna juntando os dados de data e hora\n",
        "df = df.withColumn('data_ocorrencia', \n",
        "                   F.concat(F.col('dt_inicio_ocorrencia'),\n",
        "                            F.lit(' '), \n",
        "                            F.col('hr_inicio_ocorrencia')))\n",
        "\n",
        "# Verificando alteração\n",
        "df.show(truncate=False)"
      ],
      "metadata": {
        "colab": {
          "base_uri": "https://localhost:8080/"
        },
        "id": "9xc4KKS7wAXp",
        "outputId": "ffba02ca-df18-4b89-d030-b082fd073e8c"
      },
      "execution_count": 22,
      "outputs": [
        {
          "output_type": "stream",
          "name": "stdout",
          "text": [
            "+-------------+--------------------+--------------------+-------------+--------------+----------------+-------------------------------+-----------------+------------+------------------+-------------------+---------------------+------------------------+-------------+-----------------------------+-------------------+------------------------+-----------+-------------------+\n",
            "|id_ocorrencia|dt_inicio_ocorrencia|hr_inicio_ocorrencia|cod_delegacia|dt_comunicacao|cod_class_ofensa|tipo_crime                     |tentado_consumado|nivel_ofensa|loc_esp_ocorrencia|desc_foro          |faixa_etaria_suspeito|cor_pele_suspeito       |sexo_suspeito|latitude_longitude           |faixa_etaria_vitima|cor_pele_vitima         |sexo_vitima|data_ocorrencia    |\n",
            "+-------------+--------------------+--------------------+-------------+--------------+----------------+-------------------------------+-----------------+------------+------------------+-------------------+---------------------+------------------------+-------------+-----------------------------+-------------------+------------------------+-----------+-------------------+\n",
            "|589015329    |07/09/2018          |14:25:00            |41.0         |07/09/2018    |101             |MURDER & NON-NEGL. MANSLAUGHTER|COMPLETED        |FELONY      |INSIDE            |OTHER              |25-44                |WHITE HISPANIC          |M            |(40.804012949, -73.878331833)|25-44              |BLACK                   |M          |07/09/2018 14:25:00|\n",
            "|842779485    |03/14/2018          |05:00:00            |73.0         |03/14/2018    |101             |MURDER & NON-NEGL. MANSLAUGHTER|COMPLETED        |FELONY      |INSIDE            |N.Y. POLICE DEPT   |25-44                |BLACK                   |M            |(40.661502264, -73.907661037)|<18                |BLACK                   |F          |03/14/2018 05:00:00|\n",
            "|886259402    |04/18/2018          |20:40:00            |79.0         |04/18/2018    |101             |MURDER & NON-NEGL. MANSLAUGHTER|COMPLETED        |FELONY      |OUTSIDE           |N.Y. POLICE DEPT   |null                 |null                    |null         |(40.693667261, -73.94451783) |25-44              |BLACK                   |M          |04/18/2018 20:40:00|\n",
            "|175402761    |05/18/2018          |08:05:00            |18.0         |05/18/2018    |101             |MURDER & NON-NEGL. MANSLAUGHTER|COMPLETED        |FELONY      |OUTSIDE           |N.Y. POLICE DEPT   |45-64                |BLACK                   |F            |(40.755701867, -73.978221916)|<18                |WHITE                   |M          |05/18/2018 08:05:00|\n",
            "|321494527    |09/10/2018          |08:00:00            |48.0         |09/10/2018    |101             |MURDER & NON-NEGL. MANSLAUGHTER|COMPLETED        |FELONY      |INSIDE            |N.Y. POLICE DEPT   |45-64                |BLACK                   |M            |(40.846391886, -73.88412771) |45-64              |BLACK                   |F          |09/10/2018 08:00:00|\n",
            "|423646073    |12/10/2018          |17:58:00            |52.0         |12/10/2018    |101             |MURDER & NON-NEGL. MANSLAUGHTER|COMPLETED        |FELONY      |OUTSIDE           |N.Y. POLICE DEPT   |18-24                |WHITE HISPANIC          |M            |(40.865658464, -73.891310558)|<18                |WHITE HISPANIC          |M          |12/10/2018 17:58:00|\n",
            "|343227375    |06/07/2018          |22:35:00            |70.0         |06/07/2018    |101             |MURDER & NON-NEGL. MANSLAUGHTER|COMPLETED        |FELONY      |INSIDE            |N.Y. POLICE DEPT   |18-24                |WHITE HISPANIC          |M            |(40.649370543, -73.960875898)|18-24              |ASIAN / PACIFIC ISLANDER|M          |06/07/2018 22:35:00|\n",
            "|311276266    |08/13/2018          |11:00:00            |109.0        |08/13/2018    |101             |MURDER & NON-NEGL. MANSLAUGHTER|COMPLETED        |FELONY      |INSIDE            |N.Y. POLICE DEPT   |25-44                |ASIAN / PACIFIC ISLANDER|M            |(40.75423956, -73.83034561)  |45-64              |ASIAN / PACIFIC ISLANDER|M          |08/13/2018 11:00:00|\n",
            "|953934118    |11/15/2018          |12:00:00            |47.0         |11/15/2018    |101             |MURDER & NON-NEGL. MANSLAUGHTER|COMPLETED        |FELONY      |INSIDE            |N.Y. HOUSING POLICE|25-44                |BLACK                   |F            |(40.887332818, -73.847250013)|18-24              |BLACK                   |M          |11/15/2018 12:00:00|\n",
            "|702063713    |04/17/2018          |16:05:00            |83.0         |04/17/2018    |101             |MURDER & NON-NEGL. MANSLAUGHTER|COMPLETED        |FELONY      |INSIDE            |N.Y. POLICE DEPT   |25-44                |BLACK                   |M            |(40.691532006, -73.91362704) |45-64              |BLACK                   |M          |04/17/2018 16:05:00|\n",
            "|808457635    |06/19/2018          |16:06:00            |49.0         |06/19/2018    |101             |MURDER & NON-NEGL. MANSLAUGHTER|COMPLETED        |FELONY      |OUTSIDE           |N.Y. POLICE DEPT   |25-44                |WHITE HISPANIC          |M            |(40.843471589, -73.866426662)|18-24              |WHITE HISPANIC          |M          |06/19/2018 16:06:00|\n",
            "|177533925    |10/05/2018          |18:56:00            |75.0         |10/05/2018    |101             |MURDER & NON-NEGL. MANSLAUGHTER|COMPLETED        |FELONY      |OUTSIDE           |N.Y. POLICE DEPT   |null                 |null                    |null         |(40.672089966, -73.890155181)|18-24              |UNKNOWN                 |F          |10/05/2018 18:56:00|\n",
            "|323132610    |12/21/2018          |16:30:00            |120.0        |12/21/2018    |101             |MURDER & NON-NEGL. MANSLAUGHTER|COMPLETED        |FELONY      |INSIDE            |N.Y. POLICE DEPT   |25-44                |WHITE                   |M            |(40.632290269, -74.107267443)|25-44              |WHITE                   |M          |12/21/2018 16:30:00|\n",
            "|743273165    |12/16/2018          |11:58:00            |101.0        |12/16/2018    |101             |MURDER & NON-NEGL. MANSLAUGHTER|COMPLETED        |FELONY      |OUTSIDE           |N.Y. POLICE DEPT   |18-24                |WHITE HISPANIC          |M            |(40.602745951, -73.750077865)|18-24              |WHITE HISPANIC          |M          |12/16/2018 11:58:00|\n",
            "|526914446    |02/15/2018          |22:05:00            |49.0         |02/15/2018    |101             |MURDER & NON-NEGL. MANSLAUGHTER|COMPLETED        |FELONY      |INSIDE            |N.Y. POLICE DEPT   |18-24                |WHITE HISPANIC          |M            |(40.860158821, -73.870731317)|25-44              |WHITE HISPANIC          |M          |02/15/2018 22:05:00|\n",
            "|175995867    |05/23/2018          |12:45:00            |90.0         |05/23/2018    |101             |MURDER & NON-NEGL. MANSLAUGHTER|COMPLETED        |FELONY      |OUTSIDE           |N.Y. POLICE DEPT   |18-24                |BLACK HISPANIC          |M            |(40.70812437, -73.951528419) |18-24              |BLACK HISPANIC          |M          |05/23/2018 12:45:00|\n",
            "|247764317    |12/14/2018          |00:42:00            |44.0         |12/14/2018    |101             |MURDER & NON-NEGL. MANSLAUGHTER|COMPLETED        |FELONY      |INSIDE            |N.Y. POLICE DEPT   |25-44                |WHITE HISPANIC          |M            |(40.839739531, -73.913178032)|18-24              |WHITE HISPANIC          |M          |12/14/2018 00:42:00|\n",
            "|992886425    |08/31/2018          |00:37:00            |50.0         |08/31/2018    |101             |MURDER & NON-NEGL. MANSLAUGHTER|COMPLETED        |FELONY      |OUTSIDE           |N.Y. POLICE DEPT   |18-24                |BLACK HISPANIC          |M            |(40.880400291, -73.90375164) |18-24              |WHITE HISPANIC          |M          |08/31/2018 00:37:00|\n",
            "|995799148    |05/24/2018          |22:34:00            |43.0         |05/24/2018    |101             |MURDER & NON-NEGL. MANSLAUGHTER|COMPLETED        |FELONY      |INSIDE            |N.Y. HOUSING POLICE|25-44                |BLACK                   |M            |(40.825057345, -73.868862814)|<18                |BLACK                   |M          |05/24/2018 22:34:00|\n",
            "|310985311    |05/20/2018          |02:03:00            |30.0         |05/20/2018    |101             |MURDER & NON-NEGL. MANSLAUGHTER|COMPLETED        |FELONY      |INSIDE            |N.Y. POLICE DEPT   |null                 |null                    |null         |(40.826225799, -73.946889641)|25-44              |BLACK                   |M          |05/20/2018 02:03:00|\n",
            "+-------------+--------------------+--------------------+-------------+--------------+----------------+-------------------------------+-----------------+------------+------------------+-------------------+---------------------+------------------------+-------------+-----------------------------+-------------------+------------------------+-----------+-------------------+\n",
            "only showing top 20 rows\n",
            "\n"
          ]
        }
      ]
    },
    {
      "cell_type": "code",
      "source": [
        "# Criando a coluna distrito a partir do cod da delegacia\n",
        "df = df.withColumn('distrito', F.when(F.col('cod_delegacia') < 35, 'Manhattan')\n",
        "                          .when(F.col('cod_delegacia') < 53, 'Bronx')\n",
        "                          .when(F.col('cod_delegacia') < 95, 'Brooklyn')\n",
        "                          .when(F.col('cod_delegacia') < 116, 'Queens')\n",
        "                          .when(F.col('cod_delegacia') < 124, 'Staten Island')\n",
        "                          .otherwise('Desconhecido')\n",
        ")\n",
        "\n",
        "# Verificando alteração\n",
        "df.show(5)"
      ],
      "metadata": {
        "colab": {
          "base_uri": "https://localhost:8080/"
        },
        "id": "7QyikziOaBbt",
        "outputId": "058b90d9-94ef-4ac7-d30c-4ed88aed61b1"
      },
      "execution_count": 23,
      "outputs": [
        {
          "output_type": "stream",
          "name": "stdout",
          "text": [
            "+-------------+--------------------+--------------------+-------------+--------------+----------------+--------------------+-----------------+------------+------------------+----------------+---------------------+-----------------+-------------+--------------------+-------------------+---------------+-----------+-------------------+---------+\n",
            "|id_ocorrencia|dt_inicio_ocorrencia|hr_inicio_ocorrencia|cod_delegacia|dt_comunicacao|cod_class_ofensa|          tipo_crime|tentado_consumado|nivel_ofensa|loc_esp_ocorrencia|       desc_foro|faixa_etaria_suspeito|cor_pele_suspeito|sexo_suspeito|  latitude_longitude|faixa_etaria_vitima|cor_pele_vitima|sexo_vitima|    data_ocorrencia| distrito|\n",
            "+-------------+--------------------+--------------------+-------------+--------------+----------------+--------------------+-----------------+------------+------------------+----------------+---------------------+-----------------+-------------+--------------------+-------------------+---------------+-----------+-------------------+---------+\n",
            "|    589015329|          07/09/2018|            14:25:00|         41.0|    07/09/2018|             101|MURDER & NON-NEGL...|        COMPLETED|      FELONY|            INSIDE|           OTHER|                25-44|   WHITE HISPANIC|            M|(40.804012949, -7...|              25-44|          BLACK|          M|07/09/2018 14:25:00|    Bronx|\n",
            "|    842779485|          03/14/2018|            05:00:00|         73.0|    03/14/2018|             101|MURDER & NON-NEGL...|        COMPLETED|      FELONY|            INSIDE|N.Y. POLICE DEPT|                25-44|            BLACK|            M|(40.661502264, -7...|                <18|          BLACK|          F|03/14/2018 05:00:00| Brooklyn|\n",
            "|    886259402|          04/18/2018|            20:40:00|         79.0|    04/18/2018|             101|MURDER & NON-NEGL...|        COMPLETED|      FELONY|           OUTSIDE|N.Y. POLICE DEPT|                 null|             null|         null|(40.693667261, -7...|              25-44|          BLACK|          M|04/18/2018 20:40:00| Brooklyn|\n",
            "|    175402761|          05/18/2018|            08:05:00|         18.0|    05/18/2018|             101|MURDER & NON-NEGL...|        COMPLETED|      FELONY|           OUTSIDE|N.Y. POLICE DEPT|                45-64|            BLACK|            F|(40.755701867, -7...|                <18|          WHITE|          M|05/18/2018 08:05:00|Manhattan|\n",
            "|    321494527|          09/10/2018|            08:00:00|         48.0|    09/10/2018|             101|MURDER & NON-NEGL...|        COMPLETED|      FELONY|            INSIDE|N.Y. POLICE DEPT|                45-64|            BLACK|            M|(40.846391886, -7...|              45-64|          BLACK|          F|09/10/2018 08:00:00|    Bronx|\n",
            "+-------------+--------------------+--------------------+-------------+--------------+----------------+--------------------+-----------------+------------+------------------+----------------+---------------------+-----------------+-------------+--------------------+-------------------+---------------+-----------+-------------------+---------+\n",
            "only showing top 5 rows\n",
            "\n"
          ]
        }
      ]
    },
    {
      "cell_type": "code",
      "source": [
        "# Criando coluna periodo_ocorrencia\n",
        "df = df.withColumn('periodo_ocorrencia', F.when(F.col(\"hr_inicio_ocorrencia\").between(\"06:00:00\", \"11:59:59\"), 'Manhã')\n",
        "                                    .when(F.col(\"hr_inicio_ocorrencia\").between(\"12:00:00\", \"17:59:59\"), 'Tarde')\n",
        "                                    .when(F.col(\"hr_inicio_ocorrencia\").between(\"18:00:00\", \"23:59:59\"), 'Noite')\n",
        "                                    .when(F.col(\"hr_inicio_ocorrencia\").between(\"00:00:00\", \"05:59:59\"), 'Madrugada')\n",
        "                                    .otherwise(F.col('hr_inicio_ocorrencia'))\n",
        ")\n",
        "\n",
        "# Verificando alteração\n",
        "df.show(5)"
      ],
      "metadata": {
        "colab": {
          "base_uri": "https://localhost:8080/"
        },
        "id": "dDbRSdp0A5Uz",
        "outputId": "73a695d6-df13-405b-f099-7bce7c31f9e8"
      },
      "execution_count": 24,
      "outputs": [
        {
          "output_type": "stream",
          "name": "stdout",
          "text": [
            "+-------------+--------------------+--------------------+-------------+--------------+----------------+--------------------+-----------------+------------+------------------+----------------+---------------------+-----------------+-------------+--------------------+-------------------+---------------+-----------+-------------------+---------+------------------+\n",
            "|id_ocorrencia|dt_inicio_ocorrencia|hr_inicio_ocorrencia|cod_delegacia|dt_comunicacao|cod_class_ofensa|          tipo_crime|tentado_consumado|nivel_ofensa|loc_esp_ocorrencia|       desc_foro|faixa_etaria_suspeito|cor_pele_suspeito|sexo_suspeito|  latitude_longitude|faixa_etaria_vitima|cor_pele_vitima|sexo_vitima|    data_ocorrencia| distrito|periodo_ocorrencia|\n",
            "+-------------+--------------------+--------------------+-------------+--------------+----------------+--------------------+-----------------+------------+------------------+----------------+---------------------+-----------------+-------------+--------------------+-------------------+---------------+-----------+-------------------+---------+------------------+\n",
            "|    589015329|          07/09/2018|            14:25:00|         41.0|    07/09/2018|             101|MURDER & NON-NEGL...|        COMPLETED|      FELONY|            INSIDE|           OTHER|                25-44|   WHITE HISPANIC|            M|(40.804012949, -7...|              25-44|          BLACK|          M|07/09/2018 14:25:00|    Bronx|             Tarde|\n",
            "|    842779485|          03/14/2018|            05:00:00|         73.0|    03/14/2018|             101|MURDER & NON-NEGL...|        COMPLETED|      FELONY|            INSIDE|N.Y. POLICE DEPT|                25-44|            BLACK|            M|(40.661502264, -7...|                <18|          BLACK|          F|03/14/2018 05:00:00| Brooklyn|         Madrugada|\n",
            "|    886259402|          04/18/2018|            20:40:00|         79.0|    04/18/2018|             101|MURDER & NON-NEGL...|        COMPLETED|      FELONY|           OUTSIDE|N.Y. POLICE DEPT|                 null|             null|         null|(40.693667261, -7...|              25-44|          BLACK|          M|04/18/2018 20:40:00| Brooklyn|             Noite|\n",
            "|    175402761|          05/18/2018|            08:05:00|         18.0|    05/18/2018|             101|MURDER & NON-NEGL...|        COMPLETED|      FELONY|           OUTSIDE|N.Y. POLICE DEPT|                45-64|            BLACK|            F|(40.755701867, -7...|                <18|          WHITE|          M|05/18/2018 08:05:00|Manhattan|             Manhã|\n",
            "|    321494527|          09/10/2018|            08:00:00|         48.0|    09/10/2018|             101|MURDER & NON-NEGL...|        COMPLETED|      FELONY|            INSIDE|N.Y. POLICE DEPT|                45-64|            BLACK|            M|(40.846391886, -7...|              45-64|          BLACK|          F|09/10/2018 08:00:00|    Bronx|             Manhã|\n",
            "+-------------+--------------------+--------------------+-------------+--------------+----------------+--------------------+-----------------+------------+------------------+----------------+---------------------+-----------------+-------------+--------------------+-------------------+---------------+-----------+-------------------+---------+------------------+\n",
            "only showing top 5 rows\n",
            "\n"
          ]
        }
      ]
    },
    {
      "cell_type": "code",
      "source": [
        "# Criando uma coluna com a informação da cidade\n",
        "df = df.withColumn('cidade', F.lit('Nova York'))\n",
        "\n",
        "# Verificando alteração\n",
        "df.show(5)"
      ],
      "metadata": {
        "colab": {
          "base_uri": "https://localhost:8080/"
        },
        "id": "y6CCN_DgVzpW",
        "outputId": "4d45f5d5-aecf-4e34-acca-3d81a9efde32"
      },
      "execution_count": 25,
      "outputs": [
        {
          "output_type": "stream",
          "name": "stdout",
          "text": [
            "+-------------+--------------------+--------------------+-------------+--------------+----------------+--------------------+-----------------+------------+------------------+----------------+---------------------+-----------------+-------------+--------------------+-------------------+---------------+-----------+-------------------+---------+------------------+---------+\n",
            "|id_ocorrencia|dt_inicio_ocorrencia|hr_inicio_ocorrencia|cod_delegacia|dt_comunicacao|cod_class_ofensa|          tipo_crime|tentado_consumado|nivel_ofensa|loc_esp_ocorrencia|       desc_foro|faixa_etaria_suspeito|cor_pele_suspeito|sexo_suspeito|  latitude_longitude|faixa_etaria_vitima|cor_pele_vitima|sexo_vitima|    data_ocorrencia| distrito|periodo_ocorrencia|   cidade|\n",
            "+-------------+--------------------+--------------------+-------------+--------------+----------------+--------------------+-----------------+------------+------------------+----------------+---------------------+-----------------+-------------+--------------------+-------------------+---------------+-----------+-------------------+---------+------------------+---------+\n",
            "|    589015329|          07/09/2018|            14:25:00|         41.0|    07/09/2018|             101|MURDER & NON-NEGL...|        COMPLETED|      FELONY|            INSIDE|           OTHER|                25-44|   WHITE HISPANIC|            M|(40.804012949, -7...|              25-44|          BLACK|          M|07/09/2018 14:25:00|    Bronx|             Tarde|Nova York|\n",
            "|    842779485|          03/14/2018|            05:00:00|         73.0|    03/14/2018|             101|MURDER & NON-NEGL...|        COMPLETED|      FELONY|            INSIDE|N.Y. POLICE DEPT|                25-44|            BLACK|            M|(40.661502264, -7...|                <18|          BLACK|          F|03/14/2018 05:00:00| Brooklyn|         Madrugada|Nova York|\n",
            "|    886259402|          04/18/2018|            20:40:00|         79.0|    04/18/2018|             101|MURDER & NON-NEGL...|        COMPLETED|      FELONY|           OUTSIDE|N.Y. POLICE DEPT|                 null|             null|         null|(40.693667261, -7...|              25-44|          BLACK|          M|04/18/2018 20:40:00| Brooklyn|             Noite|Nova York|\n",
            "|    175402761|          05/18/2018|            08:05:00|         18.0|    05/18/2018|             101|MURDER & NON-NEGL...|        COMPLETED|      FELONY|           OUTSIDE|N.Y. POLICE DEPT|                45-64|            BLACK|            F|(40.755701867, -7...|                <18|          WHITE|          M|05/18/2018 08:05:00|Manhattan|             Manhã|Nova York|\n",
            "|    321494527|          09/10/2018|            08:00:00|         48.0|    09/10/2018|             101|MURDER & NON-NEGL...|        COMPLETED|      FELONY|            INSIDE|N.Y. POLICE DEPT|                45-64|            BLACK|            M|(40.846391886, -7...|              45-64|          BLACK|          F|09/10/2018 08:00:00|    Bronx|             Manhã|Nova York|\n",
            "+-------------+--------------------+--------------------+-------------+--------------+----------------+--------------------+-----------------+------------+------------------+----------------+---------------------+-----------------+-------------+--------------------+-------------------+---------------+-----------+-------------------+---------+------------------+---------+\n",
            "only showing top 5 rows\n",
            "\n"
          ]
        }
      ]
    },
    {
      "cell_type": "code",
      "source": [
        "# Drop de colunas que não serão necessárias para análise\n",
        "\n",
        "# Listando colunas\n",
        "cols = ('id_ocorrencia', 'dt_inicio_ocorrencia', 'hr_inicio_ocorrencia', 'cod_delegacia', 'nivel_ofensa', 'cod_class_ofensa', 'dt_comunicacao')\n",
        "\n",
        "# Dropando todas\n",
        "df = df.drop(*cols)\n",
        "\n",
        "# Verificando alteração\n",
        "df.show(5, truncate=False)"
      ],
      "metadata": {
        "colab": {
          "base_uri": "https://localhost:8080/"
        },
        "id": "KKeozzOy8GBp",
        "outputId": "0150e325-46fc-49ff-b3d7-554238b6e193"
      },
      "execution_count": 26,
      "outputs": [
        {
          "output_type": "stream",
          "name": "stdout",
          "text": [
            "+-------------------------------+-----------------+------------------+----------------+---------------------+-----------------+-------------+-----------------------------+-------------------+---------------+-----------+-------------------+---------+------------------+---------+\n",
            "|tipo_crime                     |tentado_consumado|loc_esp_ocorrencia|desc_foro       |faixa_etaria_suspeito|cor_pele_suspeito|sexo_suspeito|latitude_longitude           |faixa_etaria_vitima|cor_pele_vitima|sexo_vitima|data_ocorrencia    |distrito |periodo_ocorrencia|cidade   |\n",
            "+-------------------------------+-----------------+------------------+----------------+---------------------+-----------------+-------------+-----------------------------+-------------------+---------------+-----------+-------------------+---------+------------------+---------+\n",
            "|MURDER & NON-NEGL. MANSLAUGHTER|COMPLETED        |INSIDE            |OTHER           |25-44                |WHITE HISPANIC   |M            |(40.804012949, -73.878331833)|25-44              |BLACK          |M          |07/09/2018 14:25:00|Bronx    |Tarde             |Nova York|\n",
            "|MURDER & NON-NEGL. MANSLAUGHTER|COMPLETED        |INSIDE            |N.Y. POLICE DEPT|25-44                |BLACK            |M            |(40.661502264, -73.907661037)|<18                |BLACK          |F          |03/14/2018 05:00:00|Brooklyn |Madrugada         |Nova York|\n",
            "|MURDER & NON-NEGL. MANSLAUGHTER|COMPLETED        |OUTSIDE           |N.Y. POLICE DEPT|null                 |null             |null         |(40.693667261, -73.94451783) |25-44              |BLACK          |M          |04/18/2018 20:40:00|Brooklyn |Noite             |Nova York|\n",
            "|MURDER & NON-NEGL. MANSLAUGHTER|COMPLETED        |OUTSIDE           |N.Y. POLICE DEPT|45-64                |BLACK            |F            |(40.755701867, -73.978221916)|<18                |WHITE          |M          |05/18/2018 08:05:00|Manhattan|Manhã             |Nova York|\n",
            "|MURDER & NON-NEGL. MANSLAUGHTER|COMPLETED        |INSIDE            |N.Y. POLICE DEPT|45-64                |BLACK            |M            |(40.846391886, -73.88412771) |45-64              |BLACK          |F          |09/10/2018 08:00:00|Bronx    |Manhã             |Nova York|\n",
            "+-------------------------------+-----------------+------------------+----------------+---------------------+-----------------+-------------+-----------------------------+-------------------+---------------+-----------+-------------------+---------+------------------+---------+\n",
            "only showing top 5 rows\n",
            "\n"
          ]
        }
      ]
    },
    {
      "cell_type": "code",
      "source": [
        "# Conferindo quantidade de linhas e colunas do df\n",
        "print(f'Quantidade de colunas do df:', len(df.columns))\n",
        "print(f'Quantidade de linhas do df:', df.count())"
      ],
      "metadata": {
        "colab": {
          "base_uri": "https://localhost:8080/"
        },
        "id": "nDe52Vwu_sES",
        "outputId": "ce44a98f-3865-4f9b-ef44-1084cc08df55"
      },
      "execution_count": 27,
      "outputs": [
        {
          "output_type": "stream",
          "name": "stdout",
          "text": [
            "Quantidade de colunas do df: 15\n",
            "Quantidade de linhas do df: 1560\n"
          ]
        }
      ]
    },
    {
      "cell_type": "markdown",
      "source": [
        "###▶️ **Mudando tipos de dados das colunas**"
      ],
      "metadata": {
        "id": "KAcebD_althz"
      }
    },
    {
      "cell_type": "markdown",
      "source": [
        "Para conseguir mudar a coluna data_ocorrencia do tipo string para tipo timestamp devemos substituir os \"/\" por \"-\".\n"
      ],
      "metadata": {
        "id": "g_Iltc36ZW9G"
      }
    },
    {
      "cell_type": "code",
      "source": [
        "# Replace dos valores\n",
        "df = df.withColumn('data_ocorrencia', F.regexp_replace('data_ocorrencia', '/', '-'))\n",
        "\n",
        "# Verificando alterações\n",
        "df.show(truncate=False)"
      ],
      "metadata": {
        "colab": {
          "base_uri": "https://localhost:8080/"
        },
        "id": "MGDCVzcnCQHb",
        "outputId": "61c99d98-1924-4242-8b1a-80fb6fac5b53"
      },
      "execution_count": 28,
      "outputs": [
        {
          "output_type": "stream",
          "name": "stdout",
          "text": [
            "+-------------------------------+-----------------+------------------+-------------------+---------------------+------------------------+-------------+-----------------------------+-------------------+------------------------+-----------+-------------------+-------------+------------------+---------+\n",
            "|tipo_crime                     |tentado_consumado|loc_esp_ocorrencia|desc_foro          |faixa_etaria_suspeito|cor_pele_suspeito       |sexo_suspeito|latitude_longitude           |faixa_etaria_vitima|cor_pele_vitima         |sexo_vitima|data_ocorrencia    |distrito     |periodo_ocorrencia|cidade   |\n",
            "+-------------------------------+-----------------+------------------+-------------------+---------------------+------------------------+-------------+-----------------------------+-------------------+------------------------+-----------+-------------------+-------------+------------------+---------+\n",
            "|MURDER & NON-NEGL. MANSLAUGHTER|COMPLETED        |INSIDE            |OTHER              |25-44                |WHITE HISPANIC          |M            |(40.804012949, -73.878331833)|25-44              |BLACK                   |M          |07-09-2018 14:25:00|Bronx        |Tarde             |Nova York|\n",
            "|MURDER & NON-NEGL. MANSLAUGHTER|COMPLETED        |INSIDE            |N.Y. POLICE DEPT   |25-44                |BLACK                   |M            |(40.661502264, -73.907661037)|<18                |BLACK                   |F          |03-14-2018 05:00:00|Brooklyn     |Madrugada         |Nova York|\n",
            "|MURDER & NON-NEGL. MANSLAUGHTER|COMPLETED        |OUTSIDE           |N.Y. POLICE DEPT   |null                 |null                    |null         |(40.693667261, -73.94451783) |25-44              |BLACK                   |M          |04-18-2018 20:40:00|Brooklyn     |Noite             |Nova York|\n",
            "|MURDER & NON-NEGL. MANSLAUGHTER|COMPLETED        |OUTSIDE           |N.Y. POLICE DEPT   |45-64                |BLACK                   |F            |(40.755701867, -73.978221916)|<18                |WHITE                   |M          |05-18-2018 08:05:00|Manhattan    |Manhã             |Nova York|\n",
            "|MURDER & NON-NEGL. MANSLAUGHTER|COMPLETED        |INSIDE            |N.Y. POLICE DEPT   |45-64                |BLACK                   |M            |(40.846391886, -73.88412771) |45-64              |BLACK                   |F          |09-10-2018 08:00:00|Bronx        |Manhã             |Nova York|\n",
            "|MURDER & NON-NEGL. MANSLAUGHTER|COMPLETED        |OUTSIDE           |N.Y. POLICE DEPT   |18-24                |WHITE HISPANIC          |M            |(40.865658464, -73.891310558)|<18                |WHITE HISPANIC          |M          |12-10-2018 17:58:00|Bronx        |Tarde             |Nova York|\n",
            "|MURDER & NON-NEGL. MANSLAUGHTER|COMPLETED        |INSIDE            |N.Y. POLICE DEPT   |18-24                |WHITE HISPANIC          |M            |(40.649370543, -73.960875898)|18-24              |ASIAN / PACIFIC ISLANDER|M          |06-07-2018 22:35:00|Brooklyn     |Noite             |Nova York|\n",
            "|MURDER & NON-NEGL. MANSLAUGHTER|COMPLETED        |INSIDE            |N.Y. POLICE DEPT   |25-44                |ASIAN / PACIFIC ISLANDER|M            |(40.75423956, -73.83034561)  |45-64              |ASIAN / PACIFIC ISLANDER|M          |08-13-2018 11:00:00|Queens       |Manhã             |Nova York|\n",
            "|MURDER & NON-NEGL. MANSLAUGHTER|COMPLETED        |INSIDE            |N.Y. HOUSING POLICE|25-44                |BLACK                   |F            |(40.887332818, -73.847250013)|18-24              |BLACK                   |M          |11-15-2018 12:00:00|Bronx        |Tarde             |Nova York|\n",
            "|MURDER & NON-NEGL. MANSLAUGHTER|COMPLETED        |INSIDE            |N.Y. POLICE DEPT   |25-44                |BLACK                   |M            |(40.691532006, -73.91362704) |45-64              |BLACK                   |M          |04-17-2018 16:05:00|Brooklyn     |Tarde             |Nova York|\n",
            "|MURDER & NON-NEGL. MANSLAUGHTER|COMPLETED        |OUTSIDE           |N.Y. POLICE DEPT   |25-44                |WHITE HISPANIC          |M            |(40.843471589, -73.866426662)|18-24              |WHITE HISPANIC          |M          |06-19-2018 16:06:00|Bronx        |Tarde             |Nova York|\n",
            "|MURDER & NON-NEGL. MANSLAUGHTER|COMPLETED        |OUTSIDE           |N.Y. POLICE DEPT   |null                 |null                    |null         |(40.672089966, -73.890155181)|18-24              |UNKNOWN                 |F          |10-05-2018 18:56:00|Brooklyn     |Noite             |Nova York|\n",
            "|MURDER & NON-NEGL. MANSLAUGHTER|COMPLETED        |INSIDE            |N.Y. POLICE DEPT   |25-44                |WHITE                   |M            |(40.632290269, -74.107267443)|25-44              |WHITE                   |M          |12-21-2018 16:30:00|Staten Island|Tarde             |Nova York|\n",
            "|MURDER & NON-NEGL. MANSLAUGHTER|COMPLETED        |OUTSIDE           |N.Y. POLICE DEPT   |18-24                |WHITE HISPANIC          |M            |(40.602745951, -73.750077865)|18-24              |WHITE HISPANIC          |M          |12-16-2018 11:58:00|Queens       |Manhã             |Nova York|\n",
            "|MURDER & NON-NEGL. MANSLAUGHTER|COMPLETED        |INSIDE            |N.Y. POLICE DEPT   |18-24                |WHITE HISPANIC          |M            |(40.860158821, -73.870731317)|25-44              |WHITE HISPANIC          |M          |02-15-2018 22:05:00|Bronx        |Noite             |Nova York|\n",
            "|MURDER & NON-NEGL. MANSLAUGHTER|COMPLETED        |OUTSIDE           |N.Y. POLICE DEPT   |18-24                |BLACK HISPANIC          |M            |(40.70812437, -73.951528419) |18-24              |BLACK HISPANIC          |M          |05-23-2018 12:45:00|Brooklyn     |Tarde             |Nova York|\n",
            "|MURDER & NON-NEGL. MANSLAUGHTER|COMPLETED        |INSIDE            |N.Y. POLICE DEPT   |25-44                |WHITE HISPANIC          |M            |(40.839739531, -73.913178032)|18-24              |WHITE HISPANIC          |M          |12-14-2018 00:42:00|Bronx        |Madrugada         |Nova York|\n",
            "|MURDER & NON-NEGL. MANSLAUGHTER|COMPLETED        |OUTSIDE           |N.Y. POLICE DEPT   |18-24                |BLACK HISPANIC          |M            |(40.880400291, -73.90375164) |18-24              |WHITE HISPANIC          |M          |08-31-2018 00:37:00|Bronx        |Madrugada         |Nova York|\n",
            "|MURDER & NON-NEGL. MANSLAUGHTER|COMPLETED        |INSIDE            |N.Y. HOUSING POLICE|25-44                |BLACK                   |M            |(40.825057345, -73.868862814)|<18                |BLACK                   |M          |05-24-2018 22:34:00|Bronx        |Noite             |Nova York|\n",
            "|MURDER & NON-NEGL. MANSLAUGHTER|COMPLETED        |INSIDE            |N.Y. POLICE DEPT   |null                 |null                    |null         |(40.826225799, -73.946889641)|25-44              |BLACK                   |M          |05-20-2018 02:03:00|Manhattan    |Madrugada         |Nova York|\n",
            "+-------------------------------+-----------------+------------------+-------------------+---------------------+------------------------+-------------+-----------------------------+-------------------+------------------------+-----------+-------------------+-------------+------------------+---------+\n",
            "only showing top 20 rows\n",
            "\n"
          ]
        }
      ]
    },
    {
      "cell_type": "code",
      "source": [
        "# Converter data do formato string para o formado date - yyyy-MM-dd\n",
        "df = df.withColumn('data_ocorrencia', F.to_timestamp('data_ocorrencia','MM-dd-yyyy HH:mm:ss'))\n",
        "\n",
        "# Verificando alterações\n",
        "df.show(5, truncate=False)"
      ],
      "metadata": {
        "colab": {
          "base_uri": "https://localhost:8080/"
        },
        "id": "eXFY6f2Elv5r",
        "outputId": "8bbbc921-f605-47bf-da8c-1706665ce384"
      },
      "execution_count": 29,
      "outputs": [
        {
          "output_type": "stream",
          "name": "stdout",
          "text": [
            "+-------------------------------+-----------------+------------------+----------------+---------------------+-----------------+-------------+-----------------------------+-------------------+---------------+-----------+-------------------+---------+------------------+---------+\n",
            "|tipo_crime                     |tentado_consumado|loc_esp_ocorrencia|desc_foro       |faixa_etaria_suspeito|cor_pele_suspeito|sexo_suspeito|latitude_longitude           |faixa_etaria_vitima|cor_pele_vitima|sexo_vitima|data_ocorrencia    |distrito |periodo_ocorrencia|cidade   |\n",
            "+-------------------------------+-----------------+------------------+----------------+---------------------+-----------------+-------------+-----------------------------+-------------------+---------------+-----------+-------------------+---------+------------------+---------+\n",
            "|MURDER & NON-NEGL. MANSLAUGHTER|COMPLETED        |INSIDE            |OTHER           |25-44                |WHITE HISPANIC   |M            |(40.804012949, -73.878331833)|25-44              |BLACK          |M          |2018-07-09 14:25:00|Bronx    |Tarde             |Nova York|\n",
            "|MURDER & NON-NEGL. MANSLAUGHTER|COMPLETED        |INSIDE            |N.Y. POLICE DEPT|25-44                |BLACK            |M            |(40.661502264, -73.907661037)|<18                |BLACK          |F          |2018-03-14 05:00:00|Brooklyn |Madrugada         |Nova York|\n",
            "|MURDER & NON-NEGL. MANSLAUGHTER|COMPLETED        |OUTSIDE           |N.Y. POLICE DEPT|null                 |null             |null         |(40.693667261, -73.94451783) |25-44              |BLACK          |M          |2018-04-18 20:40:00|Brooklyn |Noite             |Nova York|\n",
            "|MURDER & NON-NEGL. MANSLAUGHTER|COMPLETED        |OUTSIDE           |N.Y. POLICE DEPT|45-64                |BLACK            |F            |(40.755701867, -73.978221916)|<18                |WHITE          |M          |2018-05-18 08:05:00|Manhattan|Manhã             |Nova York|\n",
            "|MURDER & NON-NEGL. MANSLAUGHTER|COMPLETED        |INSIDE            |N.Y. POLICE DEPT|45-64                |BLACK            |M            |(40.846391886, -73.88412771) |45-64              |BLACK          |F          |2018-09-10 08:00:00|Bronx    |Manhã             |Nova York|\n",
            "+-------------------------------+-----------------+------------------+----------------+---------------------+-----------------+-------------+-----------------------------+-------------------+---------------+-----------+-------------------+---------+------------------+---------+\n",
            "only showing top 5 rows\n",
            "\n"
          ]
        }
      ]
    },
    {
      "cell_type": "code",
      "source": [
        "df.printSchema()"
      ],
      "metadata": {
        "colab": {
          "base_uri": "https://localhost:8080/"
        },
        "id": "0-wG4VPZBWpz",
        "outputId": "bd32fe2a-8b2a-44f5-972f-6e430c1ecce9"
      },
      "execution_count": 30,
      "outputs": [
        {
          "output_type": "stream",
          "name": "stdout",
          "text": [
            "root\n",
            " |-- tipo_crime: string (nullable = true)\n",
            " |-- tentado_consumado: string (nullable = true)\n",
            " |-- loc_esp_ocorrencia: string (nullable = true)\n",
            " |-- desc_foro: string (nullable = true)\n",
            " |-- faixa_etaria_suspeito: string (nullable = true)\n",
            " |-- cor_pele_suspeito: string (nullable = true)\n",
            " |-- sexo_suspeito: string (nullable = true)\n",
            " |-- latitude_longitude: string (nullable = true)\n",
            " |-- faixa_etaria_vitima: string (nullable = true)\n",
            " |-- cor_pele_vitima: string (nullable = true)\n",
            " |-- sexo_vitima: string (nullable = true)\n",
            " |-- data_ocorrencia: timestamp (nullable = true)\n",
            " |-- distrito: string (nullable = false)\n",
            " |-- periodo_ocorrencia: string (nullable = true)\n",
            " |-- cidade: string (nullable = false)\n",
            "\n"
          ]
        }
      ]
    },
    {
      "cell_type": "markdown",
      "source": [
        "###▶️ **Encontrando e adequando inconsistências**"
      ],
      "metadata": {
        "id": "d86oCGPalzxj"
      }
    },
    {
      "cell_type": "markdown",
      "source": [
        "#### ✏️ **tipo_crime**"
      ],
      "metadata": {
        "id": "EM-q2IpbQbKa"
      }
    },
    {
      "cell_type": "code",
      "source": [
        "# Inconsistências: dados em inglês\n",
        "df.select('tipo_crime').distinct().show(truncate=False)"
      ],
      "metadata": {
        "colab": {
          "base_uri": "https://localhost:8080/"
        },
        "id": "wLpBuVcal4XE",
        "outputId": "8c670864-05ec-4d9f-b162-29eff8b8786d"
      },
      "execution_count": 31,
      "outputs": [
        {
          "output_type": "stream",
          "name": "stdout",
          "text": [
            "+-------------------------------+\n",
            "|tipo_crime                     |\n",
            "+-------------------------------+\n",
            "|HOMICIDE-NEGLIGENT-VEHICLE     |\n",
            "|MURDER & NON-NEGL. MANSLAUGHTER|\n",
            "|HOMICIDE-NEGLIGENT,UNCLASSIFIE |\n",
            "+-------------------------------+\n",
            "\n"
          ]
        }
      ]
    },
    {
      "cell_type": "code",
      "source": [
        "# Traduzindo dados\n",
        "df = (df.withColumn('tipo_crime', F.when(F.col('tipo_crime') == 'HOMICIDE-NEGLIGENT-VEHICLE', 'Homicídio Culposo') \n",
        "        .otherwise(F.col('tipo_crime')))\n",
        "        .withColumn('tipo_crime', F.when(F.col('tipo_crime') == 'MURDER & NON-NEGL. MANSLAUGHTER', 'Homicídio Doloso') \n",
        "        .otherwise(F.col('tipo_crime')))\n",
        "        .withColumn('tipo_crime', F.when(F.col('tipo_crime') == 'HOMICIDE-NEGLIGENT,UNCLASSIFIE', 'Homicídio Culposo') \n",
        "        .otherwise(F.col('tipo_crime')))\n",
        ")\n",
        "\n",
        "df.show(truncate=False)"
      ],
      "metadata": {
        "colab": {
          "base_uri": "https://localhost:8080/"
        },
        "id": "64T6h-ucLGM0",
        "outputId": "d2b7097e-10e2-45b3-a424-2e29b7354e10"
      },
      "execution_count": 32,
      "outputs": [
        {
          "output_type": "stream",
          "name": "stdout",
          "text": [
            "+----------------+-----------------+------------------+-------------------+---------------------+------------------------+-------------+-----------------------------+-------------------+------------------------+-----------+-------------------+-------------+------------------+---------+\n",
            "|tipo_crime      |tentado_consumado|loc_esp_ocorrencia|desc_foro          |faixa_etaria_suspeito|cor_pele_suspeito       |sexo_suspeito|latitude_longitude           |faixa_etaria_vitima|cor_pele_vitima         |sexo_vitima|data_ocorrencia    |distrito     |periodo_ocorrencia|cidade   |\n",
            "+----------------+-----------------+------------------+-------------------+---------------------+------------------------+-------------+-----------------------------+-------------------+------------------------+-----------+-------------------+-------------+------------------+---------+\n",
            "|Homicídio Doloso|COMPLETED        |INSIDE            |OTHER              |25-44                |WHITE HISPANIC          |M            |(40.804012949, -73.878331833)|25-44              |BLACK                   |M          |2018-07-09 14:25:00|Bronx        |Tarde             |Nova York|\n",
            "|Homicídio Doloso|COMPLETED        |INSIDE            |N.Y. POLICE DEPT   |25-44                |BLACK                   |M            |(40.661502264, -73.907661037)|<18                |BLACK                   |F          |2018-03-14 05:00:00|Brooklyn     |Madrugada         |Nova York|\n",
            "|Homicídio Doloso|COMPLETED        |OUTSIDE           |N.Y. POLICE DEPT   |null                 |null                    |null         |(40.693667261, -73.94451783) |25-44              |BLACK                   |M          |2018-04-18 20:40:00|Brooklyn     |Noite             |Nova York|\n",
            "|Homicídio Doloso|COMPLETED        |OUTSIDE           |N.Y. POLICE DEPT   |45-64                |BLACK                   |F            |(40.755701867, -73.978221916)|<18                |WHITE                   |M          |2018-05-18 08:05:00|Manhattan    |Manhã             |Nova York|\n",
            "|Homicídio Doloso|COMPLETED        |INSIDE            |N.Y. POLICE DEPT   |45-64                |BLACK                   |M            |(40.846391886, -73.88412771) |45-64              |BLACK                   |F          |2018-09-10 08:00:00|Bronx        |Manhã             |Nova York|\n",
            "|Homicídio Doloso|COMPLETED        |OUTSIDE           |N.Y. POLICE DEPT   |18-24                |WHITE HISPANIC          |M            |(40.865658464, -73.891310558)|<18                |WHITE HISPANIC          |M          |2018-12-10 17:58:00|Bronx        |Tarde             |Nova York|\n",
            "|Homicídio Doloso|COMPLETED        |INSIDE            |N.Y. POLICE DEPT   |18-24                |WHITE HISPANIC          |M            |(40.649370543, -73.960875898)|18-24              |ASIAN / PACIFIC ISLANDER|M          |2018-06-07 22:35:00|Brooklyn     |Noite             |Nova York|\n",
            "|Homicídio Doloso|COMPLETED        |INSIDE            |N.Y. POLICE DEPT   |25-44                |ASIAN / PACIFIC ISLANDER|M            |(40.75423956, -73.83034561)  |45-64              |ASIAN / PACIFIC ISLANDER|M          |2018-08-13 11:00:00|Queens       |Manhã             |Nova York|\n",
            "|Homicídio Doloso|COMPLETED        |INSIDE            |N.Y. HOUSING POLICE|25-44                |BLACK                   |F            |(40.887332818, -73.847250013)|18-24              |BLACK                   |M          |2018-11-15 12:00:00|Bronx        |Tarde             |Nova York|\n",
            "|Homicídio Doloso|COMPLETED        |INSIDE            |N.Y. POLICE DEPT   |25-44                |BLACK                   |M            |(40.691532006, -73.91362704) |45-64              |BLACK                   |M          |2018-04-17 16:05:00|Brooklyn     |Tarde             |Nova York|\n",
            "|Homicídio Doloso|COMPLETED        |OUTSIDE           |N.Y. POLICE DEPT   |25-44                |WHITE HISPANIC          |M            |(40.843471589, -73.866426662)|18-24              |WHITE HISPANIC          |M          |2018-06-19 16:06:00|Bronx        |Tarde             |Nova York|\n",
            "|Homicídio Doloso|COMPLETED        |OUTSIDE           |N.Y. POLICE DEPT   |null                 |null                    |null         |(40.672089966, -73.890155181)|18-24              |UNKNOWN                 |F          |2018-10-05 18:56:00|Brooklyn     |Noite             |Nova York|\n",
            "|Homicídio Doloso|COMPLETED        |INSIDE            |N.Y. POLICE DEPT   |25-44                |WHITE                   |M            |(40.632290269, -74.107267443)|25-44              |WHITE                   |M          |2018-12-21 16:30:00|Staten Island|Tarde             |Nova York|\n",
            "|Homicídio Doloso|COMPLETED        |OUTSIDE           |N.Y. POLICE DEPT   |18-24                |WHITE HISPANIC          |M            |(40.602745951, -73.750077865)|18-24              |WHITE HISPANIC          |M          |2018-12-16 11:58:00|Queens       |Manhã             |Nova York|\n",
            "|Homicídio Doloso|COMPLETED        |INSIDE            |N.Y. POLICE DEPT   |18-24                |WHITE HISPANIC          |M            |(40.860158821, -73.870731317)|25-44              |WHITE HISPANIC          |M          |2018-02-15 22:05:00|Bronx        |Noite             |Nova York|\n",
            "|Homicídio Doloso|COMPLETED        |OUTSIDE           |N.Y. POLICE DEPT   |18-24                |BLACK HISPANIC          |M            |(40.70812437, -73.951528419) |18-24              |BLACK HISPANIC          |M          |2018-05-23 12:45:00|Brooklyn     |Tarde             |Nova York|\n",
            "|Homicídio Doloso|COMPLETED        |INSIDE            |N.Y. POLICE DEPT   |25-44                |WHITE HISPANIC          |M            |(40.839739531, -73.913178032)|18-24              |WHITE HISPANIC          |M          |2018-12-14 00:42:00|Bronx        |Madrugada         |Nova York|\n",
            "|Homicídio Doloso|COMPLETED        |OUTSIDE           |N.Y. POLICE DEPT   |18-24                |BLACK HISPANIC          |M            |(40.880400291, -73.90375164) |18-24              |WHITE HISPANIC          |M          |2018-08-31 00:37:00|Bronx        |Madrugada         |Nova York|\n",
            "|Homicídio Doloso|COMPLETED        |INSIDE            |N.Y. HOUSING POLICE|25-44                |BLACK                   |M            |(40.825057345, -73.868862814)|<18                |BLACK                   |M          |2018-05-24 22:34:00|Bronx        |Noite             |Nova York|\n",
            "|Homicídio Doloso|COMPLETED        |INSIDE            |N.Y. POLICE DEPT   |null                 |null                    |null         |(40.826225799, -73.946889641)|25-44              |BLACK                   |M          |2018-05-20 02:03:00|Manhattan    |Madrugada         |Nova York|\n",
            "+----------------+-----------------+------------------+-------------------+---------------------+------------------------+-------------+-----------------------------+-------------------+------------------------+-----------+-------------------+-------------+------------------+---------+\n",
            "only showing top 20 rows\n",
            "\n"
          ]
        }
      ]
    },
    {
      "cell_type": "code",
      "source": [
        "# Verificando se mudanças foram feitas\n",
        "df.select('tipo_crime').distinct().show(truncate=False)"
      ],
      "metadata": {
        "colab": {
          "base_uri": "https://localhost:8080/"
        },
        "id": "aYVnqCHGPfZs",
        "outputId": "caf11056-5e08-46a8-fffe-d5fce0d6183d"
      },
      "execution_count": 33,
      "outputs": [
        {
          "output_type": "stream",
          "name": "stdout",
          "text": [
            "+-----------------+\n",
            "|tipo_crime       |\n",
            "+-----------------+\n",
            "|Homicídio Doloso |\n",
            "|Homicídio Culposo|\n",
            "+-----------------+\n",
            "\n"
          ]
        }
      ]
    },
    {
      "cell_type": "markdown",
      "source": [
        "#### ✏️ **tentado_consumado**"
      ],
      "metadata": {
        "id": "6c47tKAXQiSt"
      }
    },
    {
      "cell_type": "code",
      "source": [
        "# Inconsistências: dados em inglês\n",
        "df.select('tentado_consumado').distinct().show(truncate=False)"
      ],
      "metadata": {
        "colab": {
          "base_uri": "https://localhost:8080/"
        },
        "id": "8GMrFaV-JODz",
        "outputId": "6ce65d6b-2ee0-404d-d61c-a6d8c5d6bfce"
      },
      "execution_count": 34,
      "outputs": [
        {
          "output_type": "stream",
          "name": "stdout",
          "text": [
            "+-----------------+\n",
            "|tentado_consumado|\n",
            "+-----------------+\n",
            "|ATTEMPTED        |\n",
            "|COMPLETED        |\n",
            "+-----------------+\n",
            "\n"
          ]
        }
      ]
    },
    {
      "cell_type": "code",
      "source": [
        "# Há apenas um dado em que consta como ATTEMPTED (tentado)\n",
        "# para nossa análise, será relevante apenas crimes consumados\n",
        "df.groupby('tentado_consumado').count().show(truncate=False)"
      ],
      "metadata": {
        "colab": {
          "base_uri": "https://localhost:8080/"
        },
        "id": "7Z9wJqOsQMoc",
        "outputId": "4575d052-19c3-4b13-fcb5-571007b981c5"
      },
      "execution_count": 35,
      "outputs": [
        {
          "output_type": "stream",
          "name": "stdout",
          "text": [
            "+-----------------+-----+\n",
            "|tentado_consumado|count|\n",
            "+-----------------+-----+\n",
            "|ATTEMPTED        |1    |\n",
            "|COMPLETED        |1559 |\n",
            "+-----------------+-----+\n",
            "\n"
          ]
        }
      ]
    },
    {
      "cell_type": "code",
      "source": [
        "# Dando drop na linha em que o homicidio não foi consumado\n",
        "df = df.where(F.col('tentado_consumado') == 'COMPLETED')\n",
        "\n",
        "df.count()"
      ],
      "metadata": {
        "colab": {
          "base_uri": "https://localhost:8080/"
        },
        "id": "dplzuDl8RMkN",
        "outputId": "d6b7d01b-34b5-49af-d52b-58d216be358b"
      },
      "execution_count": 36,
      "outputs": [
        {
          "output_type": "execute_result",
          "data": {
            "text/plain": [
              "1559"
            ]
          },
          "metadata": {},
          "execution_count": 36
        }
      ]
    },
    {
      "cell_type": "code",
      "source": [
        "# Faremos um drop na coluna tentado_consumado, pois ela consta apenas um dado\n",
        "df = df.drop('tentado_consumado')\n",
        "\n",
        "df.show(truncate=False)"
      ],
      "metadata": {
        "colab": {
          "base_uri": "https://localhost:8080/"
        },
        "id": "jQRpR8s3R91l",
        "outputId": "dfb7734f-6009-4f71-9439-c41e23bbf5c8"
      },
      "execution_count": 37,
      "outputs": [
        {
          "output_type": "stream",
          "name": "stdout",
          "text": [
            "+----------------+------------------+-------------------+---------------------+------------------------+-------------+-----------------------------+-------------------+------------------------+-----------+-------------------+-------------+------------------+---------+\n",
            "|tipo_crime      |loc_esp_ocorrencia|desc_foro          |faixa_etaria_suspeito|cor_pele_suspeito       |sexo_suspeito|latitude_longitude           |faixa_etaria_vitima|cor_pele_vitima         |sexo_vitima|data_ocorrencia    |distrito     |periodo_ocorrencia|cidade   |\n",
            "+----------------+------------------+-------------------+---------------------+------------------------+-------------+-----------------------------+-------------------+------------------------+-----------+-------------------+-------------+------------------+---------+\n",
            "|Homicídio Doloso|INSIDE            |OTHER              |25-44                |WHITE HISPANIC          |M            |(40.804012949, -73.878331833)|25-44              |BLACK                   |M          |2018-07-09 14:25:00|Bronx        |Tarde             |Nova York|\n",
            "|Homicídio Doloso|INSIDE            |N.Y. POLICE DEPT   |25-44                |BLACK                   |M            |(40.661502264, -73.907661037)|<18                |BLACK                   |F          |2018-03-14 05:00:00|Brooklyn     |Madrugada         |Nova York|\n",
            "|Homicídio Doloso|OUTSIDE           |N.Y. POLICE DEPT   |null                 |null                    |null         |(40.693667261, -73.94451783) |25-44              |BLACK                   |M          |2018-04-18 20:40:00|Brooklyn     |Noite             |Nova York|\n",
            "|Homicídio Doloso|OUTSIDE           |N.Y. POLICE DEPT   |45-64                |BLACK                   |F            |(40.755701867, -73.978221916)|<18                |WHITE                   |M          |2018-05-18 08:05:00|Manhattan    |Manhã             |Nova York|\n",
            "|Homicídio Doloso|INSIDE            |N.Y. POLICE DEPT   |45-64                |BLACK                   |M            |(40.846391886, -73.88412771) |45-64              |BLACK                   |F          |2018-09-10 08:00:00|Bronx        |Manhã             |Nova York|\n",
            "|Homicídio Doloso|OUTSIDE           |N.Y. POLICE DEPT   |18-24                |WHITE HISPANIC          |M            |(40.865658464, -73.891310558)|<18                |WHITE HISPANIC          |M          |2018-12-10 17:58:00|Bronx        |Tarde             |Nova York|\n",
            "|Homicídio Doloso|INSIDE            |N.Y. POLICE DEPT   |18-24                |WHITE HISPANIC          |M            |(40.649370543, -73.960875898)|18-24              |ASIAN / PACIFIC ISLANDER|M          |2018-06-07 22:35:00|Brooklyn     |Noite             |Nova York|\n",
            "|Homicídio Doloso|INSIDE            |N.Y. POLICE DEPT   |25-44                |ASIAN / PACIFIC ISLANDER|M            |(40.75423956, -73.83034561)  |45-64              |ASIAN / PACIFIC ISLANDER|M          |2018-08-13 11:00:00|Queens       |Manhã             |Nova York|\n",
            "|Homicídio Doloso|INSIDE            |N.Y. HOUSING POLICE|25-44                |BLACK                   |F            |(40.887332818, -73.847250013)|18-24              |BLACK                   |M          |2018-11-15 12:00:00|Bronx        |Tarde             |Nova York|\n",
            "|Homicídio Doloso|INSIDE            |N.Y. POLICE DEPT   |25-44                |BLACK                   |M            |(40.691532006, -73.91362704) |45-64              |BLACK                   |M          |2018-04-17 16:05:00|Brooklyn     |Tarde             |Nova York|\n",
            "|Homicídio Doloso|OUTSIDE           |N.Y. POLICE DEPT   |25-44                |WHITE HISPANIC          |M            |(40.843471589, -73.866426662)|18-24              |WHITE HISPANIC          |M          |2018-06-19 16:06:00|Bronx        |Tarde             |Nova York|\n",
            "|Homicídio Doloso|OUTSIDE           |N.Y. POLICE DEPT   |null                 |null                    |null         |(40.672089966, -73.890155181)|18-24              |UNKNOWN                 |F          |2018-10-05 18:56:00|Brooklyn     |Noite             |Nova York|\n",
            "|Homicídio Doloso|INSIDE            |N.Y. POLICE DEPT   |25-44                |WHITE                   |M            |(40.632290269, -74.107267443)|25-44              |WHITE                   |M          |2018-12-21 16:30:00|Staten Island|Tarde             |Nova York|\n",
            "|Homicídio Doloso|OUTSIDE           |N.Y. POLICE DEPT   |18-24                |WHITE HISPANIC          |M            |(40.602745951, -73.750077865)|18-24              |WHITE HISPANIC          |M          |2018-12-16 11:58:00|Queens       |Manhã             |Nova York|\n",
            "|Homicídio Doloso|INSIDE            |N.Y. POLICE DEPT   |18-24                |WHITE HISPANIC          |M            |(40.860158821, -73.870731317)|25-44              |WHITE HISPANIC          |M          |2018-02-15 22:05:00|Bronx        |Noite             |Nova York|\n",
            "|Homicídio Doloso|OUTSIDE           |N.Y. POLICE DEPT   |18-24                |BLACK HISPANIC          |M            |(40.70812437, -73.951528419) |18-24              |BLACK HISPANIC          |M          |2018-05-23 12:45:00|Brooklyn     |Tarde             |Nova York|\n",
            "|Homicídio Doloso|INSIDE            |N.Y. POLICE DEPT   |25-44                |WHITE HISPANIC          |M            |(40.839739531, -73.913178032)|18-24              |WHITE HISPANIC          |M          |2018-12-14 00:42:00|Bronx        |Madrugada         |Nova York|\n",
            "|Homicídio Doloso|OUTSIDE           |N.Y. POLICE DEPT   |18-24                |BLACK HISPANIC          |M            |(40.880400291, -73.90375164) |18-24              |WHITE HISPANIC          |M          |2018-08-31 00:37:00|Bronx        |Madrugada         |Nova York|\n",
            "|Homicídio Doloso|INSIDE            |N.Y. HOUSING POLICE|25-44                |BLACK                   |M            |(40.825057345, -73.868862814)|<18                |BLACK                   |M          |2018-05-24 22:34:00|Bronx        |Noite             |Nova York|\n",
            "|Homicídio Doloso|INSIDE            |N.Y. POLICE DEPT   |null                 |null                    |null         |(40.826225799, -73.946889641)|25-44              |BLACK                   |M          |2018-05-20 02:03:00|Manhattan    |Madrugada         |Nova York|\n",
            "+----------------+------------------+-------------------+---------------------+------------------------+-------------+-----------------------------+-------------------+------------------------+-----------+-------------------+-------------+------------------+---------+\n",
            "only showing top 20 rows\n",
            "\n"
          ]
        }
      ]
    },
    {
      "cell_type": "markdown",
      "source": [
        "#### ✏️ **loc_esp_ocorrencia**"
      ],
      "metadata": {
        "id": "-UeNZ_YjSahu"
      }
    },
    {
      "cell_type": "code",
      "source": [
        "# Inconsistência: dados incompletos\n",
        "df.select('loc_esp_ocorrencia').distinct().show(truncate=False)"
      ],
      "metadata": {
        "colab": {
          "base_uri": "https://localhost:8080/"
        },
        "id": "iHIxaT_0JPkx",
        "outputId": "2b4eed88-de59-4e5e-e8ac-978f80d8c303"
      },
      "execution_count": 38,
      "outputs": [
        {
          "output_type": "stream",
          "name": "stdout",
          "text": [
            "+------------------+\n",
            "|loc_esp_ocorrencia|\n",
            "+------------------+\n",
            "|OPPOSITE OF       |\n",
            "|REAR OF           |\n",
            "|null              |\n",
            "|INSIDE            |\n",
            "|OUTSIDE           |\n",
            "|FRONT OF          |\n",
            "+------------------+\n",
            "\n"
          ]
        }
      ]
    },
    {
      "cell_type": "code",
      "source": [
        "# Faremos um drop, pois estes dados sozinhos não nos trazem insights\n",
        "df = df.drop('loc_esp_ocorrencia')\n",
        "\n",
        "df.show(truncate=False)"
      ],
      "metadata": {
        "colab": {
          "base_uri": "https://localhost:8080/"
        },
        "id": "Gy1qmGnjSllv",
        "outputId": "1f3d216e-232f-4a0a-e079-cb7f247e8ac3"
      },
      "execution_count": 39,
      "outputs": [
        {
          "output_type": "stream",
          "name": "stdout",
          "text": [
            "+----------------+-------------------+---------------------+------------------------+-------------+-----------------------------+-------------------+------------------------+-----------+-------------------+-------------+------------------+---------+\n",
            "|tipo_crime      |desc_foro          |faixa_etaria_suspeito|cor_pele_suspeito       |sexo_suspeito|latitude_longitude           |faixa_etaria_vitima|cor_pele_vitima         |sexo_vitima|data_ocorrencia    |distrito     |periodo_ocorrencia|cidade   |\n",
            "+----------------+-------------------+---------------------+------------------------+-------------+-----------------------------+-------------------+------------------------+-----------+-------------------+-------------+------------------+---------+\n",
            "|Homicídio Doloso|OTHER              |25-44                |WHITE HISPANIC          |M            |(40.804012949, -73.878331833)|25-44              |BLACK                   |M          |2018-07-09 14:25:00|Bronx        |Tarde             |Nova York|\n",
            "|Homicídio Doloso|N.Y. POLICE DEPT   |25-44                |BLACK                   |M            |(40.661502264, -73.907661037)|<18                |BLACK                   |F          |2018-03-14 05:00:00|Brooklyn     |Madrugada         |Nova York|\n",
            "|Homicídio Doloso|N.Y. POLICE DEPT   |null                 |null                    |null         |(40.693667261, -73.94451783) |25-44              |BLACK                   |M          |2018-04-18 20:40:00|Brooklyn     |Noite             |Nova York|\n",
            "|Homicídio Doloso|N.Y. POLICE DEPT   |45-64                |BLACK                   |F            |(40.755701867, -73.978221916)|<18                |WHITE                   |M          |2018-05-18 08:05:00|Manhattan    |Manhã             |Nova York|\n",
            "|Homicídio Doloso|N.Y. POLICE DEPT   |45-64                |BLACK                   |M            |(40.846391886, -73.88412771) |45-64              |BLACK                   |F          |2018-09-10 08:00:00|Bronx        |Manhã             |Nova York|\n",
            "|Homicídio Doloso|N.Y. POLICE DEPT   |18-24                |WHITE HISPANIC          |M            |(40.865658464, -73.891310558)|<18                |WHITE HISPANIC          |M          |2018-12-10 17:58:00|Bronx        |Tarde             |Nova York|\n",
            "|Homicídio Doloso|N.Y. POLICE DEPT   |18-24                |WHITE HISPANIC          |M            |(40.649370543, -73.960875898)|18-24              |ASIAN / PACIFIC ISLANDER|M          |2018-06-07 22:35:00|Brooklyn     |Noite             |Nova York|\n",
            "|Homicídio Doloso|N.Y. POLICE DEPT   |25-44                |ASIAN / PACIFIC ISLANDER|M            |(40.75423956, -73.83034561)  |45-64              |ASIAN / PACIFIC ISLANDER|M          |2018-08-13 11:00:00|Queens       |Manhã             |Nova York|\n",
            "|Homicídio Doloso|N.Y. HOUSING POLICE|25-44                |BLACK                   |F            |(40.887332818, -73.847250013)|18-24              |BLACK                   |M          |2018-11-15 12:00:00|Bronx        |Tarde             |Nova York|\n",
            "|Homicídio Doloso|N.Y. POLICE DEPT   |25-44                |BLACK                   |M            |(40.691532006, -73.91362704) |45-64              |BLACK                   |M          |2018-04-17 16:05:00|Brooklyn     |Tarde             |Nova York|\n",
            "|Homicídio Doloso|N.Y. POLICE DEPT   |25-44                |WHITE HISPANIC          |M            |(40.843471589, -73.866426662)|18-24              |WHITE HISPANIC          |M          |2018-06-19 16:06:00|Bronx        |Tarde             |Nova York|\n",
            "|Homicídio Doloso|N.Y. POLICE DEPT   |null                 |null                    |null         |(40.672089966, -73.890155181)|18-24              |UNKNOWN                 |F          |2018-10-05 18:56:00|Brooklyn     |Noite             |Nova York|\n",
            "|Homicídio Doloso|N.Y. POLICE DEPT   |25-44                |WHITE                   |M            |(40.632290269, -74.107267443)|25-44              |WHITE                   |M          |2018-12-21 16:30:00|Staten Island|Tarde             |Nova York|\n",
            "|Homicídio Doloso|N.Y. POLICE DEPT   |18-24                |WHITE HISPANIC          |M            |(40.602745951, -73.750077865)|18-24              |WHITE HISPANIC          |M          |2018-12-16 11:58:00|Queens       |Manhã             |Nova York|\n",
            "|Homicídio Doloso|N.Y. POLICE DEPT   |18-24                |WHITE HISPANIC          |M            |(40.860158821, -73.870731317)|25-44              |WHITE HISPANIC          |M          |2018-02-15 22:05:00|Bronx        |Noite             |Nova York|\n",
            "|Homicídio Doloso|N.Y. POLICE DEPT   |18-24                |BLACK HISPANIC          |M            |(40.70812437, -73.951528419) |18-24              |BLACK HISPANIC          |M          |2018-05-23 12:45:00|Brooklyn     |Tarde             |Nova York|\n",
            "|Homicídio Doloso|N.Y. POLICE DEPT   |25-44                |WHITE HISPANIC          |M            |(40.839739531, -73.913178032)|18-24              |WHITE HISPANIC          |M          |2018-12-14 00:42:00|Bronx        |Madrugada         |Nova York|\n",
            "|Homicídio Doloso|N.Y. POLICE DEPT   |18-24                |BLACK HISPANIC          |M            |(40.880400291, -73.90375164) |18-24              |WHITE HISPANIC          |M          |2018-08-31 00:37:00|Bronx        |Madrugada         |Nova York|\n",
            "|Homicídio Doloso|N.Y. HOUSING POLICE|25-44                |BLACK                   |M            |(40.825057345, -73.868862814)|<18                |BLACK                   |M          |2018-05-24 22:34:00|Bronx        |Noite             |Nova York|\n",
            "|Homicídio Doloso|N.Y. POLICE DEPT   |null                 |null                    |null         |(40.826225799, -73.946889641)|25-44              |BLACK                   |M          |2018-05-20 02:03:00|Manhattan    |Madrugada         |Nova York|\n",
            "+----------------+-------------------+---------------------+------------------------+-------------+-----------------------------+-------------------+------------------------+-----------+-------------------+-------------+------------------+---------+\n",
            "only showing top 20 rows\n",
            "\n"
          ]
        }
      ]
    },
    {
      "cell_type": "markdown",
      "source": [
        "#### ✏️ **desc_foro**"
      ],
      "metadata": {
        "id": "Nl516rRiTDXg"
      }
    },
    {
      "cell_type": "code",
      "source": [
        "# Inconsistências: dados em inglês\n",
        "df.select('desc_foro').distinct().show(truncate=False)"
      ],
      "metadata": {
        "colab": {
          "base_uri": "https://localhost:8080/"
        },
        "id": "8sLods2jJQGp",
        "outputId": "bc7abaf7-c2e5-46a5-a31a-8b624152f45b"
      },
      "execution_count": 40,
      "outputs": [
        {
          "output_type": "stream",
          "name": "stdout",
          "text": [
            "+-------------------+\n",
            "|desc_foro          |\n",
            "+-------------------+\n",
            "|N.Y. POLICE DEPT   |\n",
            "|N.Y. TRANSIT POLICE|\n",
            "|N.Y. HOUSING POLICE|\n",
            "|OTHER              |\n",
            "+-------------------+\n",
            "\n"
          ]
        }
      ]
    },
    {
      "cell_type": "code",
      "source": [
        "# Traduzindo os dados\n",
        "df = (df.withColumn('desc_foro', F.when(F.col('desc_foro') == 'N.Y. POLICE DEPT', 'Departamento de Polícia de Nova York') \n",
        "        .otherwise(F.col('desc_foro')))\n",
        "        .withColumn('desc_foro', F.when(F.col('desc_foro') == 'N.Y. TRANSIT POLICE', 'Polícia de Trânsito de Nova York') \n",
        "        .otherwise(F.col('desc_foro')))\n",
        "        .withColumn('desc_foro', F.when(F.col('desc_foro') == 'N.Y. HOUSING POLICE', 'Polícia de Moradia de Nova York') \n",
        "        .otherwise(F.col('desc_foro')))\n",
        "        .withColumn('desc_foro', F.when(F.col('desc_foro') == 'OTHER', 'Outro')\n",
        "        .otherwise(F.col('desc_foro')))\n",
        ")\n",
        "\n",
        "df.show(truncate=False)"
      ],
      "metadata": {
        "colab": {
          "base_uri": "https://localhost:8080/"
        },
        "id": "bYlJhI6CTLSm",
        "outputId": "6bcb9790-674c-4033-a5fe-658533db883e"
      },
      "execution_count": 41,
      "outputs": [
        {
          "output_type": "stream",
          "name": "stdout",
          "text": [
            "+----------------+------------------------------------+---------------------+------------------------+-------------+-----------------------------+-------------------+------------------------+-----------+-------------------+-------------+------------------+---------+\n",
            "|tipo_crime      |desc_foro                           |faixa_etaria_suspeito|cor_pele_suspeito       |sexo_suspeito|latitude_longitude           |faixa_etaria_vitima|cor_pele_vitima         |sexo_vitima|data_ocorrencia    |distrito     |periodo_ocorrencia|cidade   |\n",
            "+----------------+------------------------------------+---------------------+------------------------+-------------+-----------------------------+-------------------+------------------------+-----------+-------------------+-------------+------------------+---------+\n",
            "|Homicídio Doloso|Outro                               |25-44                |WHITE HISPANIC          |M            |(40.804012949, -73.878331833)|25-44              |BLACK                   |M          |2018-07-09 14:25:00|Bronx        |Tarde             |Nova York|\n",
            "|Homicídio Doloso|Departamento de Polícia de Nova York|25-44                |BLACK                   |M            |(40.661502264, -73.907661037)|<18                |BLACK                   |F          |2018-03-14 05:00:00|Brooklyn     |Madrugada         |Nova York|\n",
            "|Homicídio Doloso|Departamento de Polícia de Nova York|null                 |null                    |null         |(40.693667261, -73.94451783) |25-44              |BLACK                   |M          |2018-04-18 20:40:00|Brooklyn     |Noite             |Nova York|\n",
            "|Homicídio Doloso|Departamento de Polícia de Nova York|45-64                |BLACK                   |F            |(40.755701867, -73.978221916)|<18                |WHITE                   |M          |2018-05-18 08:05:00|Manhattan    |Manhã             |Nova York|\n",
            "|Homicídio Doloso|Departamento de Polícia de Nova York|45-64                |BLACK                   |M            |(40.846391886, -73.88412771) |45-64              |BLACK                   |F          |2018-09-10 08:00:00|Bronx        |Manhã             |Nova York|\n",
            "|Homicídio Doloso|Departamento de Polícia de Nova York|18-24                |WHITE HISPANIC          |M            |(40.865658464, -73.891310558)|<18                |WHITE HISPANIC          |M          |2018-12-10 17:58:00|Bronx        |Tarde             |Nova York|\n",
            "|Homicídio Doloso|Departamento de Polícia de Nova York|18-24                |WHITE HISPANIC          |M            |(40.649370543, -73.960875898)|18-24              |ASIAN / PACIFIC ISLANDER|M          |2018-06-07 22:35:00|Brooklyn     |Noite             |Nova York|\n",
            "|Homicídio Doloso|Departamento de Polícia de Nova York|25-44                |ASIAN / PACIFIC ISLANDER|M            |(40.75423956, -73.83034561)  |45-64              |ASIAN / PACIFIC ISLANDER|M          |2018-08-13 11:00:00|Queens       |Manhã             |Nova York|\n",
            "|Homicídio Doloso|Polícia de Moradia de Nova York     |25-44                |BLACK                   |F            |(40.887332818, -73.847250013)|18-24              |BLACK                   |M          |2018-11-15 12:00:00|Bronx        |Tarde             |Nova York|\n",
            "|Homicídio Doloso|Departamento de Polícia de Nova York|25-44                |BLACK                   |M            |(40.691532006, -73.91362704) |45-64              |BLACK                   |M          |2018-04-17 16:05:00|Brooklyn     |Tarde             |Nova York|\n",
            "|Homicídio Doloso|Departamento de Polícia de Nova York|25-44                |WHITE HISPANIC          |M            |(40.843471589, -73.866426662)|18-24              |WHITE HISPANIC          |M          |2018-06-19 16:06:00|Bronx        |Tarde             |Nova York|\n",
            "|Homicídio Doloso|Departamento de Polícia de Nova York|null                 |null                    |null         |(40.672089966, -73.890155181)|18-24              |UNKNOWN                 |F          |2018-10-05 18:56:00|Brooklyn     |Noite             |Nova York|\n",
            "|Homicídio Doloso|Departamento de Polícia de Nova York|25-44                |WHITE                   |M            |(40.632290269, -74.107267443)|25-44              |WHITE                   |M          |2018-12-21 16:30:00|Staten Island|Tarde             |Nova York|\n",
            "|Homicídio Doloso|Departamento de Polícia de Nova York|18-24                |WHITE HISPANIC          |M            |(40.602745951, -73.750077865)|18-24              |WHITE HISPANIC          |M          |2018-12-16 11:58:00|Queens       |Manhã             |Nova York|\n",
            "|Homicídio Doloso|Departamento de Polícia de Nova York|18-24                |WHITE HISPANIC          |M            |(40.860158821, -73.870731317)|25-44              |WHITE HISPANIC          |M          |2018-02-15 22:05:00|Bronx        |Noite             |Nova York|\n",
            "|Homicídio Doloso|Departamento de Polícia de Nova York|18-24                |BLACK HISPANIC          |M            |(40.70812437, -73.951528419) |18-24              |BLACK HISPANIC          |M          |2018-05-23 12:45:00|Brooklyn     |Tarde             |Nova York|\n",
            "|Homicídio Doloso|Departamento de Polícia de Nova York|25-44                |WHITE HISPANIC          |M            |(40.839739531, -73.913178032)|18-24              |WHITE HISPANIC          |M          |2018-12-14 00:42:00|Bronx        |Madrugada         |Nova York|\n",
            "|Homicídio Doloso|Departamento de Polícia de Nova York|18-24                |BLACK HISPANIC          |M            |(40.880400291, -73.90375164) |18-24              |WHITE HISPANIC          |M          |2018-08-31 00:37:00|Bronx        |Madrugada         |Nova York|\n",
            "|Homicídio Doloso|Polícia de Moradia de Nova York     |25-44                |BLACK                   |M            |(40.825057345, -73.868862814)|<18                |BLACK                   |M          |2018-05-24 22:34:00|Bronx        |Noite             |Nova York|\n",
            "|Homicídio Doloso|Departamento de Polícia de Nova York|null                 |null                    |null         |(40.826225799, -73.946889641)|25-44              |BLACK                   |M          |2018-05-20 02:03:00|Manhattan    |Madrugada         |Nova York|\n",
            "+----------------+------------------------------------+---------------------+------------------------+-------------+-----------------------------+-------------------+------------------------+-----------+-------------------+-------------+------------------+---------+\n",
            "only showing top 20 rows\n",
            "\n"
          ]
        }
      ]
    },
    {
      "cell_type": "code",
      "source": [
        "# Confirmando que as mudanças foram realizadas\n",
        "df.select('desc_foro').distinct().show(truncate=False)"
      ],
      "metadata": {
        "colab": {
          "base_uri": "https://localhost:8080/"
        },
        "id": "Nz6D-knATsba",
        "outputId": "d5fddae3-c80f-42c7-d865-8a990376061b"
      },
      "execution_count": 42,
      "outputs": [
        {
          "output_type": "stream",
          "name": "stdout",
          "text": [
            "+------------------------------------+\n",
            "|desc_foro                           |\n",
            "+------------------------------------+\n",
            "|Departamento de Polícia de Nova York|\n",
            "|Polícia de Moradia de Nova York     |\n",
            "|Polícia de Trânsito de Nova York    |\n",
            "|Outro                               |\n",
            "+------------------------------------+\n",
            "\n"
          ]
        }
      ]
    },
    {
      "cell_type": "markdown",
      "source": [
        "#### ✏️ **faixa_etaria_suspeito**"
      ],
      "metadata": {
        "id": "QwZK4Z0mUiZB"
      }
    },
    {
      "cell_type": "code",
      "source": [
        "# Inconsistências: 1056, null\n",
        "df.select('faixa_etaria_suspeito').distinct().show(truncate=False)"
      ],
      "metadata": {
        "colab": {
          "base_uri": "https://localhost:8080/"
        },
        "id": "7Jc003ESJUsq",
        "outputId": "024b0c95-cd09-4124-876b-1f2e052198d1"
      },
      "execution_count": 43,
      "outputs": [
        {
          "output_type": "stream",
          "name": "stdout",
          "text": [
            "+---------------------+\n",
            "|faixa_etaria_suspeito|\n",
            "+---------------------+\n",
            "|1056                 |\n",
            "|<18                  |\n",
            "|25-44                |\n",
            "|null                 |\n",
            "|UNKNOWN              |\n",
            "|65+                  |\n",
            "|18-24                |\n",
            "|45-64                |\n",
            "+---------------------+\n",
            "\n"
          ]
        }
      ]
    },
    {
      "cell_type": "code",
      "source": [
        "df.groupby('faixa_etaria_suspeito').count().show(truncate=False)"
      ],
      "metadata": {
        "colab": {
          "base_uri": "https://localhost:8080/"
        },
        "id": "w-t2oOUYVh8K",
        "outputId": "934c4148-7c69-4160-d4fc-561a580c9200"
      },
      "execution_count": 44,
      "outputs": [
        {
          "output_type": "stream",
          "name": "stdout",
          "text": [
            "+---------------------+-----+\n",
            "|faixa_etaria_suspeito|count|\n",
            "+---------------------+-----+\n",
            "|1056                 |1    |\n",
            "|<18                  |51   |\n",
            "|25-44                |542  |\n",
            "|null                 |530  |\n",
            "|UNKNOWN              |32   |\n",
            "|65+                  |9    |\n",
            "|18-24                |243  |\n",
            "|45-64                |151  |\n",
            "+---------------------+-----+\n",
            "\n"
          ]
        }
      ]
    },
    {
      "cell_type": "code",
      "source": [
        "# Substituindo dados inconsistentes para Desconhecido\n",
        "df = (df.withColumn('faixa_etaria_suspeito', F.when(F.col('faixa_etaria_suspeito') == '1056', 'Desconhecido')\n",
        "             .otherwise(F.col('faixa_etaria_suspeito')))\n",
        "             .withColumn('faixa_etaria_suspeito', F.when(F.isnull(F.col('faixa_etaria_suspeito')), 'Desconhecido')\n",
        "             .otherwise(F.col('faixa_etaria_suspeito')))\n",
        "             .withColumn('faixa_etaria_suspeito', F.when(F.col('faixa_etaria_suspeito') == 'UNKNOWN', 'Desconhecido')\n",
        "             .otherwise(F.col('faixa_etaria_suspeito')))\n",
        ")\n",
        "         \n",
        "df.show(truncate=False)"
      ],
      "metadata": {
        "colab": {
          "base_uri": "https://localhost:8080/"
        },
        "id": "IRVR24xTVxaQ",
        "outputId": "030322bc-5cd2-46e4-e32e-3429357dad8c"
      },
      "execution_count": 45,
      "outputs": [
        {
          "output_type": "stream",
          "name": "stdout",
          "text": [
            "+----------------+------------------------------------+---------------------+------------------------+-------------+-----------------------------+-------------------+------------------------+-----------+-------------------+-------------+------------------+---------+\n",
            "|tipo_crime      |desc_foro                           |faixa_etaria_suspeito|cor_pele_suspeito       |sexo_suspeito|latitude_longitude           |faixa_etaria_vitima|cor_pele_vitima         |sexo_vitima|data_ocorrencia    |distrito     |periodo_ocorrencia|cidade   |\n",
            "+----------------+------------------------------------+---------------------+------------------------+-------------+-----------------------------+-------------------+------------------------+-----------+-------------------+-------------+------------------+---------+\n",
            "|Homicídio Doloso|Outro                               |25-44                |WHITE HISPANIC          |M            |(40.804012949, -73.878331833)|25-44              |BLACK                   |M          |2018-07-09 14:25:00|Bronx        |Tarde             |Nova York|\n",
            "|Homicídio Doloso|Departamento de Polícia de Nova York|25-44                |BLACK                   |M            |(40.661502264, -73.907661037)|<18                |BLACK                   |F          |2018-03-14 05:00:00|Brooklyn     |Madrugada         |Nova York|\n",
            "|Homicídio Doloso|Departamento de Polícia de Nova York|Desconhecido         |null                    |null         |(40.693667261, -73.94451783) |25-44              |BLACK                   |M          |2018-04-18 20:40:00|Brooklyn     |Noite             |Nova York|\n",
            "|Homicídio Doloso|Departamento de Polícia de Nova York|45-64                |BLACK                   |F            |(40.755701867, -73.978221916)|<18                |WHITE                   |M          |2018-05-18 08:05:00|Manhattan    |Manhã             |Nova York|\n",
            "|Homicídio Doloso|Departamento de Polícia de Nova York|45-64                |BLACK                   |M            |(40.846391886, -73.88412771) |45-64              |BLACK                   |F          |2018-09-10 08:00:00|Bronx        |Manhã             |Nova York|\n",
            "|Homicídio Doloso|Departamento de Polícia de Nova York|18-24                |WHITE HISPANIC          |M            |(40.865658464, -73.891310558)|<18                |WHITE HISPANIC          |M          |2018-12-10 17:58:00|Bronx        |Tarde             |Nova York|\n",
            "|Homicídio Doloso|Departamento de Polícia de Nova York|18-24                |WHITE HISPANIC          |M            |(40.649370543, -73.960875898)|18-24              |ASIAN / PACIFIC ISLANDER|M          |2018-06-07 22:35:00|Brooklyn     |Noite             |Nova York|\n",
            "|Homicídio Doloso|Departamento de Polícia de Nova York|25-44                |ASIAN / PACIFIC ISLANDER|M            |(40.75423956, -73.83034561)  |45-64              |ASIAN / PACIFIC ISLANDER|M          |2018-08-13 11:00:00|Queens       |Manhã             |Nova York|\n",
            "|Homicídio Doloso|Polícia de Moradia de Nova York     |25-44                |BLACK                   |F            |(40.887332818, -73.847250013)|18-24              |BLACK                   |M          |2018-11-15 12:00:00|Bronx        |Tarde             |Nova York|\n",
            "|Homicídio Doloso|Departamento de Polícia de Nova York|25-44                |BLACK                   |M            |(40.691532006, -73.91362704) |45-64              |BLACK                   |M          |2018-04-17 16:05:00|Brooklyn     |Tarde             |Nova York|\n",
            "|Homicídio Doloso|Departamento de Polícia de Nova York|25-44                |WHITE HISPANIC          |M            |(40.843471589, -73.866426662)|18-24              |WHITE HISPANIC          |M          |2018-06-19 16:06:00|Bronx        |Tarde             |Nova York|\n",
            "|Homicídio Doloso|Departamento de Polícia de Nova York|Desconhecido         |null                    |null         |(40.672089966, -73.890155181)|18-24              |UNKNOWN                 |F          |2018-10-05 18:56:00|Brooklyn     |Noite             |Nova York|\n",
            "|Homicídio Doloso|Departamento de Polícia de Nova York|25-44                |WHITE                   |M            |(40.632290269, -74.107267443)|25-44              |WHITE                   |M          |2018-12-21 16:30:00|Staten Island|Tarde             |Nova York|\n",
            "|Homicídio Doloso|Departamento de Polícia de Nova York|18-24                |WHITE HISPANIC          |M            |(40.602745951, -73.750077865)|18-24              |WHITE HISPANIC          |M          |2018-12-16 11:58:00|Queens       |Manhã             |Nova York|\n",
            "|Homicídio Doloso|Departamento de Polícia de Nova York|18-24                |WHITE HISPANIC          |M            |(40.860158821, -73.870731317)|25-44              |WHITE HISPANIC          |M          |2018-02-15 22:05:00|Bronx        |Noite             |Nova York|\n",
            "|Homicídio Doloso|Departamento de Polícia de Nova York|18-24                |BLACK HISPANIC          |M            |(40.70812437, -73.951528419) |18-24              |BLACK HISPANIC          |M          |2018-05-23 12:45:00|Brooklyn     |Tarde             |Nova York|\n",
            "|Homicídio Doloso|Departamento de Polícia de Nova York|25-44                |WHITE HISPANIC          |M            |(40.839739531, -73.913178032)|18-24              |WHITE HISPANIC          |M          |2018-12-14 00:42:00|Bronx        |Madrugada         |Nova York|\n",
            "|Homicídio Doloso|Departamento de Polícia de Nova York|18-24                |BLACK HISPANIC          |M            |(40.880400291, -73.90375164) |18-24              |WHITE HISPANIC          |M          |2018-08-31 00:37:00|Bronx        |Madrugada         |Nova York|\n",
            "|Homicídio Doloso|Polícia de Moradia de Nova York     |25-44                |BLACK                   |M            |(40.825057345, -73.868862814)|<18                |BLACK                   |M          |2018-05-24 22:34:00|Bronx        |Noite             |Nova York|\n",
            "|Homicídio Doloso|Departamento de Polícia de Nova York|Desconhecido         |null                    |null         |(40.826225799, -73.946889641)|25-44              |BLACK                   |M          |2018-05-20 02:03:00|Manhattan    |Madrugada         |Nova York|\n",
            "+----------------+------------------------------------+---------------------+------------------------+-------------+-----------------------------+-------------------+------------------------+-----------+-------------------+-------------+------------------+---------+\n",
            "only showing top 20 rows\n",
            "\n"
          ]
        }
      ]
    },
    {
      "cell_type": "code",
      "source": [
        "# Verificando se mudanças foram feitas\n",
        "df.groupby('faixa_etaria_suspeito').count().show(truncate=False)"
      ],
      "metadata": {
        "colab": {
          "base_uri": "https://localhost:8080/"
        },
        "id": "0nG26UseW4JQ",
        "outputId": "e872545e-c088-481b-add0-c902f5cb22d4"
      },
      "execution_count": 46,
      "outputs": [
        {
          "output_type": "stream",
          "name": "stdout",
          "text": [
            "+---------------------+-----+\n",
            "|faixa_etaria_suspeito|count|\n",
            "+---------------------+-----+\n",
            "|<18                  |51   |\n",
            "|25-44                |542  |\n",
            "|Desconhecido         |563  |\n",
            "|65+                  |9    |\n",
            "|18-24                |243  |\n",
            "|45-64                |151  |\n",
            "+---------------------+-----+\n",
            "\n"
          ]
        }
      ]
    },
    {
      "cell_type": "markdown",
      "source": [
        "#### ✏️ **cor_pele_suspeito**\n"
      ],
      "metadata": {
        "id": "EQCTCKRPYtxy"
      }
    },
    {
      "cell_type": "code",
      "source": [
        "# Inconsistências: dados em inglês, null\n",
        "df.select('cor_pele_suspeito').distinct().show(truncate=False)"
      ],
      "metadata": {
        "colab": {
          "base_uri": "https://localhost:8080/"
        },
        "id": "S4VjMd2-JUp_",
        "outputId": "e4c41e3b-52a4-4b9a-ad68-7f9c0d2dd21f"
      },
      "execution_count": 47,
      "outputs": [
        {
          "output_type": "stream",
          "name": "stdout",
          "text": [
            "+------------------------+\n",
            "|cor_pele_suspeito       |\n",
            "+------------------------+\n",
            "|WHITE                   |\n",
            "|BLACK                   |\n",
            "|null                    |\n",
            "|BLACK HISPANIC          |\n",
            "|WHITE HISPANIC          |\n",
            "|UNKNOWN                 |\n",
            "|ASIAN / PACIFIC ISLANDER|\n",
            "+------------------------+\n",
            "\n"
          ]
        }
      ]
    },
    {
      "cell_type": "code",
      "source": [
        "# Traduzindo dados\n",
        "df = (df.withColumn('cor_pele_suspeito', \n",
        "                    F.when(F.col('cor_pele_suspeito') == 'WHITE', 'Branca')\n",
        "                    .when(F.col('cor_pele_suspeito') == 'BLACK', 'Preta')\n",
        "                    .when(F.isnull(F.col('cor_pele_suspeito')), 'Desconhecido')\n",
        "                    .when(F.col('cor_pele_suspeito') == 'BLACK HISPANIC', 'Preta')\n",
        "                    .when(F.col('cor_pele_suspeito') == 'WHITE HISPANIC', 'Branca')\n",
        "                    .when(F.col('cor_pele_suspeito') == 'UNKNOWN', 'Desconhecido')\n",
        "                    .when(F.col('cor_pele_suspeito') == 'ASIAN / PACIFIC ISLANDER', 'Amarela') \n",
        "                    .otherwise(F.col('cor_pele_suspeito')))\n",
        ")\n",
        "\n",
        "df.show(truncate=False)"
      ],
      "metadata": {
        "colab": {
          "base_uri": "https://localhost:8080/"
        },
        "id": "AnTtZJsOZ63p",
        "outputId": "aa514375-6706-4d71-a43b-a03c36f50918"
      },
      "execution_count": 48,
      "outputs": [
        {
          "output_type": "stream",
          "name": "stdout",
          "text": [
            "+----------------+------------------------------------+---------------------+-----------------+-------------+-----------------------------+-------------------+------------------------+-----------+-------------------+-------------+------------------+---------+\n",
            "|tipo_crime      |desc_foro                           |faixa_etaria_suspeito|cor_pele_suspeito|sexo_suspeito|latitude_longitude           |faixa_etaria_vitima|cor_pele_vitima         |sexo_vitima|data_ocorrencia    |distrito     |periodo_ocorrencia|cidade   |\n",
            "+----------------+------------------------------------+---------------------+-----------------+-------------+-----------------------------+-------------------+------------------------+-----------+-------------------+-------------+------------------+---------+\n",
            "|Homicídio Doloso|Outro                               |25-44                |Branca           |M            |(40.804012949, -73.878331833)|25-44              |BLACK                   |M          |2018-07-09 14:25:00|Bronx        |Tarde             |Nova York|\n",
            "|Homicídio Doloso|Departamento de Polícia de Nova York|25-44                |Preta            |M            |(40.661502264, -73.907661037)|<18                |BLACK                   |F          |2018-03-14 05:00:00|Brooklyn     |Madrugada         |Nova York|\n",
            "|Homicídio Doloso|Departamento de Polícia de Nova York|Desconhecido         |Desconhecido     |null         |(40.693667261, -73.94451783) |25-44              |BLACK                   |M          |2018-04-18 20:40:00|Brooklyn     |Noite             |Nova York|\n",
            "|Homicídio Doloso|Departamento de Polícia de Nova York|45-64                |Preta            |F            |(40.755701867, -73.978221916)|<18                |WHITE                   |M          |2018-05-18 08:05:00|Manhattan    |Manhã             |Nova York|\n",
            "|Homicídio Doloso|Departamento de Polícia de Nova York|45-64                |Preta            |M            |(40.846391886, -73.88412771) |45-64              |BLACK                   |F          |2018-09-10 08:00:00|Bronx        |Manhã             |Nova York|\n",
            "|Homicídio Doloso|Departamento de Polícia de Nova York|18-24                |Branca           |M            |(40.865658464, -73.891310558)|<18                |WHITE HISPANIC          |M          |2018-12-10 17:58:00|Bronx        |Tarde             |Nova York|\n",
            "|Homicídio Doloso|Departamento de Polícia de Nova York|18-24                |Branca           |M            |(40.649370543, -73.960875898)|18-24              |ASIAN / PACIFIC ISLANDER|M          |2018-06-07 22:35:00|Brooklyn     |Noite             |Nova York|\n",
            "|Homicídio Doloso|Departamento de Polícia de Nova York|25-44                |Amarela          |M            |(40.75423956, -73.83034561)  |45-64              |ASIAN / PACIFIC ISLANDER|M          |2018-08-13 11:00:00|Queens       |Manhã             |Nova York|\n",
            "|Homicídio Doloso|Polícia de Moradia de Nova York     |25-44                |Preta            |F            |(40.887332818, -73.847250013)|18-24              |BLACK                   |M          |2018-11-15 12:00:00|Bronx        |Tarde             |Nova York|\n",
            "|Homicídio Doloso|Departamento de Polícia de Nova York|25-44                |Preta            |M            |(40.691532006, -73.91362704) |45-64              |BLACK                   |M          |2018-04-17 16:05:00|Brooklyn     |Tarde             |Nova York|\n",
            "|Homicídio Doloso|Departamento de Polícia de Nova York|25-44                |Branca           |M            |(40.843471589, -73.866426662)|18-24              |WHITE HISPANIC          |M          |2018-06-19 16:06:00|Bronx        |Tarde             |Nova York|\n",
            "|Homicídio Doloso|Departamento de Polícia de Nova York|Desconhecido         |Desconhecido     |null         |(40.672089966, -73.890155181)|18-24              |UNKNOWN                 |F          |2018-10-05 18:56:00|Brooklyn     |Noite             |Nova York|\n",
            "|Homicídio Doloso|Departamento de Polícia de Nova York|25-44                |Branca           |M            |(40.632290269, -74.107267443)|25-44              |WHITE                   |M          |2018-12-21 16:30:00|Staten Island|Tarde             |Nova York|\n",
            "|Homicídio Doloso|Departamento de Polícia de Nova York|18-24                |Branca           |M            |(40.602745951, -73.750077865)|18-24              |WHITE HISPANIC          |M          |2018-12-16 11:58:00|Queens       |Manhã             |Nova York|\n",
            "|Homicídio Doloso|Departamento de Polícia de Nova York|18-24                |Branca           |M            |(40.860158821, -73.870731317)|25-44              |WHITE HISPANIC          |M          |2018-02-15 22:05:00|Bronx        |Noite             |Nova York|\n",
            "|Homicídio Doloso|Departamento de Polícia de Nova York|18-24                |Preta            |M            |(40.70812437, -73.951528419) |18-24              |BLACK HISPANIC          |M          |2018-05-23 12:45:00|Brooklyn     |Tarde             |Nova York|\n",
            "|Homicídio Doloso|Departamento de Polícia de Nova York|25-44                |Branca           |M            |(40.839739531, -73.913178032)|18-24              |WHITE HISPANIC          |M          |2018-12-14 00:42:00|Bronx        |Madrugada         |Nova York|\n",
            "|Homicídio Doloso|Departamento de Polícia de Nova York|18-24                |Preta            |M            |(40.880400291, -73.90375164) |18-24              |WHITE HISPANIC          |M          |2018-08-31 00:37:00|Bronx        |Madrugada         |Nova York|\n",
            "|Homicídio Doloso|Polícia de Moradia de Nova York     |25-44                |Preta            |M            |(40.825057345, -73.868862814)|<18                |BLACK                   |M          |2018-05-24 22:34:00|Bronx        |Noite             |Nova York|\n",
            "|Homicídio Doloso|Departamento de Polícia de Nova York|Desconhecido         |Desconhecido     |null         |(40.826225799, -73.946889641)|25-44              |BLACK                   |M          |2018-05-20 02:03:00|Manhattan    |Madrugada         |Nova York|\n",
            "+----------------+------------------------------------+---------------------+-----------------+-------------+-----------------------------+-------------------+------------------------+-----------+-------------------+-------------+------------------+---------+\n",
            "only showing top 20 rows\n",
            "\n"
          ]
        }
      ]
    },
    {
      "cell_type": "code",
      "source": [
        "# Confirmando se as mudanças foram realizadas\n",
        "df.select('cor_pele_suspeito').distinct().show(truncate=False)"
      ],
      "metadata": {
        "colab": {
          "base_uri": "https://localhost:8080/"
        },
        "id": "qDZ7TvPoZ6wz",
        "outputId": "e8ae17f2-f2eb-4156-b476-37c79d439efd"
      },
      "execution_count": 49,
      "outputs": [
        {
          "output_type": "stream",
          "name": "stdout",
          "text": [
            "+-----------------+\n",
            "|cor_pele_suspeito|\n",
            "+-----------------+\n",
            "|Preta            |\n",
            "|Desconhecido     |\n",
            "|Amarela          |\n",
            "|Branca           |\n",
            "+-----------------+\n",
            "\n"
          ]
        }
      ]
    },
    {
      "cell_type": "markdown",
      "source": [
        "#### ✏️ **sexo_suspeito**"
      ],
      "metadata": {
        "id": "oY6XNlZ9Z4P8"
      }
    },
    {
      "cell_type": "code",
      "source": [
        "# Inconsistências: dados em inglês e abreviados, null \n",
        "df.select('sexo_suspeito').distinct().show(truncate=False)"
      ],
      "metadata": {
        "colab": {
          "base_uri": "https://localhost:8080/"
        },
        "id": "qb_Qc2AFJUkh",
        "outputId": "c548c24e-413e-42a1-cc4a-a24cd20b0f53"
      },
      "execution_count": 50,
      "outputs": [
        {
          "output_type": "stream",
          "name": "stdout",
          "text": [
            "+-------------+\n",
            "|sexo_suspeito|\n",
            "+-------------+\n",
            "|F            |\n",
            "|null         |\n",
            "|M            |\n",
            "|U            |\n",
            "+-------------+\n",
            "\n"
          ]
        }
      ]
    },
    {
      "cell_type": "code",
      "source": [
        "# Traduzindo dados\n",
        "df = (df.withColumn('sexo_suspeito', F.when(F.col('sexo_suspeito') == 'F', 'Feminino') \n",
        "        .otherwise(F.col('sexo_suspeito')))\n",
        "        .withColumn('sexo_suspeito', F.when(F.col('sexo_suspeito') == 'M', 'Masculino') \n",
        "        .otherwise(F.col('sexo_suspeito')))\n",
        "        .withColumn('sexo_suspeito', F.when(F.col('sexo_suspeito') == 'U', 'Desconhecido') \n",
        "        .otherwise(F.col('sexo_suspeito')))\n",
        "        .withColumn('sexo_suspeito', F.when(F.isnull(F.col('sexo_suspeito')), 'Desconhecido') \n",
        "        .otherwise(F.col('sexo_suspeito')))\n",
        ")\n",
        "\n",
        "df.show(truncate=False)"
      ],
      "metadata": {
        "colab": {
          "base_uri": "https://localhost:8080/"
        },
        "id": "uy9G3-seaqlh",
        "outputId": "530e25fa-0763-4d98-905a-f182bff9ee6e"
      },
      "execution_count": 51,
      "outputs": [
        {
          "output_type": "stream",
          "name": "stdout",
          "text": [
            "+----------------+------------------------------------+---------------------+-----------------+-------------+-----------------------------+-------------------+------------------------+-----------+-------------------+-------------+------------------+---------+\n",
            "|tipo_crime      |desc_foro                           |faixa_etaria_suspeito|cor_pele_suspeito|sexo_suspeito|latitude_longitude           |faixa_etaria_vitima|cor_pele_vitima         |sexo_vitima|data_ocorrencia    |distrito     |periodo_ocorrencia|cidade   |\n",
            "+----------------+------------------------------------+---------------------+-----------------+-------------+-----------------------------+-------------------+------------------------+-----------+-------------------+-------------+------------------+---------+\n",
            "|Homicídio Doloso|Outro                               |25-44                |Branca           |Masculino    |(40.804012949, -73.878331833)|25-44              |BLACK                   |M          |2018-07-09 14:25:00|Bronx        |Tarde             |Nova York|\n",
            "|Homicídio Doloso|Departamento de Polícia de Nova York|25-44                |Preta            |Masculino    |(40.661502264, -73.907661037)|<18                |BLACK                   |F          |2018-03-14 05:00:00|Brooklyn     |Madrugada         |Nova York|\n",
            "|Homicídio Doloso|Departamento de Polícia de Nova York|Desconhecido         |Desconhecido     |Desconhecido |(40.693667261, -73.94451783) |25-44              |BLACK                   |M          |2018-04-18 20:40:00|Brooklyn     |Noite             |Nova York|\n",
            "|Homicídio Doloso|Departamento de Polícia de Nova York|45-64                |Preta            |Feminino     |(40.755701867, -73.978221916)|<18                |WHITE                   |M          |2018-05-18 08:05:00|Manhattan    |Manhã             |Nova York|\n",
            "|Homicídio Doloso|Departamento de Polícia de Nova York|45-64                |Preta            |Masculino    |(40.846391886, -73.88412771) |45-64              |BLACK                   |F          |2018-09-10 08:00:00|Bronx        |Manhã             |Nova York|\n",
            "|Homicídio Doloso|Departamento de Polícia de Nova York|18-24                |Branca           |Masculino    |(40.865658464, -73.891310558)|<18                |WHITE HISPANIC          |M          |2018-12-10 17:58:00|Bronx        |Tarde             |Nova York|\n",
            "|Homicídio Doloso|Departamento de Polícia de Nova York|18-24                |Branca           |Masculino    |(40.649370543, -73.960875898)|18-24              |ASIAN / PACIFIC ISLANDER|M          |2018-06-07 22:35:00|Brooklyn     |Noite             |Nova York|\n",
            "|Homicídio Doloso|Departamento de Polícia de Nova York|25-44                |Amarela          |Masculino    |(40.75423956, -73.83034561)  |45-64              |ASIAN / PACIFIC ISLANDER|M          |2018-08-13 11:00:00|Queens       |Manhã             |Nova York|\n",
            "|Homicídio Doloso|Polícia de Moradia de Nova York     |25-44                |Preta            |Feminino     |(40.887332818, -73.847250013)|18-24              |BLACK                   |M          |2018-11-15 12:00:00|Bronx        |Tarde             |Nova York|\n",
            "|Homicídio Doloso|Departamento de Polícia de Nova York|25-44                |Preta            |Masculino    |(40.691532006, -73.91362704) |45-64              |BLACK                   |M          |2018-04-17 16:05:00|Brooklyn     |Tarde             |Nova York|\n",
            "|Homicídio Doloso|Departamento de Polícia de Nova York|25-44                |Branca           |Masculino    |(40.843471589, -73.866426662)|18-24              |WHITE HISPANIC          |M          |2018-06-19 16:06:00|Bronx        |Tarde             |Nova York|\n",
            "|Homicídio Doloso|Departamento de Polícia de Nova York|Desconhecido         |Desconhecido     |Desconhecido |(40.672089966, -73.890155181)|18-24              |UNKNOWN                 |F          |2018-10-05 18:56:00|Brooklyn     |Noite             |Nova York|\n",
            "|Homicídio Doloso|Departamento de Polícia de Nova York|25-44                |Branca           |Masculino    |(40.632290269, -74.107267443)|25-44              |WHITE                   |M          |2018-12-21 16:30:00|Staten Island|Tarde             |Nova York|\n",
            "|Homicídio Doloso|Departamento de Polícia de Nova York|18-24                |Branca           |Masculino    |(40.602745951, -73.750077865)|18-24              |WHITE HISPANIC          |M          |2018-12-16 11:58:00|Queens       |Manhã             |Nova York|\n",
            "|Homicídio Doloso|Departamento de Polícia de Nova York|18-24                |Branca           |Masculino    |(40.860158821, -73.870731317)|25-44              |WHITE HISPANIC          |M          |2018-02-15 22:05:00|Bronx        |Noite             |Nova York|\n",
            "|Homicídio Doloso|Departamento de Polícia de Nova York|18-24                |Preta            |Masculino    |(40.70812437, -73.951528419) |18-24              |BLACK HISPANIC          |M          |2018-05-23 12:45:00|Brooklyn     |Tarde             |Nova York|\n",
            "|Homicídio Doloso|Departamento de Polícia de Nova York|25-44                |Branca           |Masculino    |(40.839739531, -73.913178032)|18-24              |WHITE HISPANIC          |M          |2018-12-14 00:42:00|Bronx        |Madrugada         |Nova York|\n",
            "|Homicídio Doloso|Departamento de Polícia de Nova York|18-24                |Preta            |Masculino    |(40.880400291, -73.90375164) |18-24              |WHITE HISPANIC          |M          |2018-08-31 00:37:00|Bronx        |Madrugada         |Nova York|\n",
            "|Homicídio Doloso|Polícia de Moradia de Nova York     |25-44                |Preta            |Masculino    |(40.825057345, -73.868862814)|<18                |BLACK                   |M          |2018-05-24 22:34:00|Bronx        |Noite             |Nova York|\n",
            "|Homicídio Doloso|Departamento de Polícia de Nova York|Desconhecido         |Desconhecido     |Desconhecido |(40.826225799, -73.946889641)|25-44              |BLACK                   |M          |2018-05-20 02:03:00|Manhattan    |Madrugada         |Nova York|\n",
            "+----------------+------------------------------------+---------------------+-----------------+-------------+-----------------------------+-------------------+------------------------+-----------+-------------------+-------------+------------------+---------+\n",
            "only showing top 20 rows\n",
            "\n"
          ]
        }
      ]
    },
    {
      "cell_type": "code",
      "source": [
        "# Confirmando se as mudanças foram realizadas\n",
        "df.select('sexo_suspeito').distinct().show(truncate=False)"
      ],
      "metadata": {
        "colab": {
          "base_uri": "https://localhost:8080/"
        },
        "id": "fSza8IDParSq",
        "outputId": "9cb3228a-8c8d-4187-96a0-7ebf87e0abfd"
      },
      "execution_count": 52,
      "outputs": [
        {
          "output_type": "stream",
          "name": "stdout",
          "text": [
            "+-------------+\n",
            "|sexo_suspeito|\n",
            "+-------------+\n",
            "|Desconhecido |\n",
            "|Feminino     |\n",
            "|Masculino    |\n",
            "+-------------+\n",
            "\n"
          ]
        }
      ]
    },
    {
      "cell_type": "markdown",
      "source": [
        "#### ✏️ **latitude_longitude**"
      ],
      "metadata": {
        "id": "SXrYpyGYaPcM"
      }
    },
    {
      "cell_type": "code",
      "source": [
        "# Inconsistências: \"(\" \")\" e espaço\n",
        "df.select('latitude_longitude').distinct().show(truncate=False)"
      ],
      "metadata": {
        "colab": {
          "base_uri": "https://localhost:8080/"
        },
        "id": "yCqBAqrzJZwp",
        "outputId": "427276bc-ed8c-4a3f-b96e-888223bdf15c"
      },
      "execution_count": 53,
      "outputs": [
        {
          "output_type": "stream",
          "name": "stdout",
          "text": [
            "+----------------------------------------+\n",
            "|latitude_longitude                      |\n",
            "+----------------------------------------+\n",
            "|(40.81950961800004, -73.95358253499995) |\n",
            "|(40.71662118300002, -73.99326291399994) |\n",
            "|(40.67560823700006, -73.91935098699997) |\n",
            "|(40.693780803, -73.735773689)           |\n",
            "|(40.597999401, -73.760016269)           |\n",
            "|(40.84512030900004, -73.92249595899995) |\n",
            "|(40.65921221700007, -73.90998894799998) |\n",
            "|(40.640592758000025, -73.918932091)     |\n",
            "|(40.67458330800008, -73.93022154099998) |\n",
            "|(40.85396027400003, -73.90012087499997) |\n",
            "|(40.86600470600007, -73.87043794899995) |\n",
            "|(40.666231521000036, -73.92253800099996)|\n",
            "|(40.66080625500007, -73.89923866699996) |\n",
            "|(40.819269208, -73.89628544)            |\n",
            "|(40.85359836700008, -73.90057688099995) |\n",
            "|(40.68465082400007, -73.95776878599996) |\n",
            "|(40.62141559900005, -74.08007850499997) |\n",
            "|(40.88708918800006, -73.86778566699996) |\n",
            "|(40.668503474000026, -73.92559940099994)|\n",
            "|(40.82286114200008, -73.91916530199995) |\n",
            "+----------------------------------------+\n",
            "only showing top 20 rows\n",
            "\n"
          ]
        }
      ]
    },
    {
      "cell_type": "code",
      "source": [
        "# Corrigindo inconsistências\n",
        "df = df.withColumn('latitude_longitude', F.translate('latitude_longitude', '() ', ''))\n",
        "df.show(5, truncate=False)"
      ],
      "metadata": {
        "colab": {
          "base_uri": "https://localhost:8080/"
        },
        "id": "54W-ES3ZOF1T",
        "outputId": "6f17a76d-3efe-47e0-d99d-726d18328874"
      },
      "execution_count": 54,
      "outputs": [
        {
          "output_type": "stream",
          "name": "stdout",
          "text": [
            "+----------------+------------------------------------+---------------------+-----------------+-------------+--------------------------+-------------------+---------------+-----------+-------------------+---------+------------------+---------+\n",
            "|tipo_crime      |desc_foro                           |faixa_etaria_suspeito|cor_pele_suspeito|sexo_suspeito|latitude_longitude        |faixa_etaria_vitima|cor_pele_vitima|sexo_vitima|data_ocorrencia    |distrito |periodo_ocorrencia|cidade   |\n",
            "+----------------+------------------------------------+---------------------+-----------------+-------------+--------------------------+-------------------+---------------+-----------+-------------------+---------+------------------+---------+\n",
            "|Homicídio Doloso|Outro                               |25-44                |Branca           |Masculino    |40.804012949,-73.878331833|25-44              |BLACK          |M          |2018-07-09 14:25:00|Bronx    |Tarde             |Nova York|\n",
            "|Homicídio Doloso|Departamento de Polícia de Nova York|25-44                |Preta            |Masculino    |40.661502264,-73.907661037|<18                |BLACK          |F          |2018-03-14 05:00:00|Brooklyn |Madrugada         |Nova York|\n",
            "|Homicídio Doloso|Departamento de Polícia de Nova York|Desconhecido         |Desconhecido     |Desconhecido |40.693667261,-73.94451783 |25-44              |BLACK          |M          |2018-04-18 20:40:00|Brooklyn |Noite             |Nova York|\n",
            "|Homicídio Doloso|Departamento de Polícia de Nova York|45-64                |Preta            |Feminino     |40.755701867,-73.978221916|<18                |WHITE          |M          |2018-05-18 08:05:00|Manhattan|Manhã             |Nova York|\n",
            "|Homicídio Doloso|Departamento de Polícia de Nova York|45-64                |Preta            |Masculino    |40.846391886,-73.88412771 |45-64              |BLACK          |F          |2018-09-10 08:00:00|Bronx    |Manhã             |Nova York|\n",
            "+----------------+------------------------------------+---------------------+-----------------+-------------+--------------------------+-------------------+---------------+-----------+-------------------+---------+------------------+---------+\n",
            "only showing top 5 rows\n",
            "\n"
          ]
        }
      ]
    },
    {
      "cell_type": "markdown",
      "source": [
        "#### ✏️ **faixa_etaria_vitima**"
      ],
      "metadata": {
        "id": "h2NHJGIjbMmE"
      }
    },
    {
      "cell_type": "code",
      "source": [
        "# Inconsistências: dados em inglês\n",
        "df.select('faixa_etaria_vitima').distinct().show(truncate=False)"
      ],
      "metadata": {
        "colab": {
          "base_uri": "https://localhost:8080/"
        },
        "id": "904vhhfqJZtI",
        "outputId": "aa073e66-3c5a-45b8-9e15-0550cc93271d"
      },
      "execution_count": 55,
      "outputs": [
        {
          "output_type": "stream",
          "name": "stdout",
          "text": [
            "+-------------------+\n",
            "|faixa_etaria_vitima|\n",
            "+-------------------+\n",
            "|<18                |\n",
            "|25-44              |\n",
            "|UNKNOWN            |\n",
            "|65+                |\n",
            "|18-24              |\n",
            "|45-64              |\n",
            "+-------------------+\n",
            "\n"
          ]
        }
      ]
    },
    {
      "cell_type": "code",
      "source": [
        "# Traduzindo dados\n",
        "df = (df.withColumn('faixa_etaria_vitima', F.when(F.col('faixa_etaria_vitima') == 'UNKNOWN', 'Desconhecido') \n",
        "        .otherwise(F.col('faixa_etaria_vitima')))\n",
        ")\n",
        "\n",
        "df.show(truncate=False)"
      ],
      "metadata": {
        "colab": {
          "base_uri": "https://localhost:8080/"
        },
        "id": "jQKpqzuFbSO6",
        "outputId": "cbca6dbb-37e8-4114-914e-138e92fd15c3"
      },
      "execution_count": 56,
      "outputs": [
        {
          "output_type": "stream",
          "name": "stdout",
          "text": [
            "+----------------+------------------------------------+---------------------+-----------------+-------------+--------------------------+-------------------+------------------------+-----------+-------------------+-------------+------------------+---------+\n",
            "|tipo_crime      |desc_foro                           |faixa_etaria_suspeito|cor_pele_suspeito|sexo_suspeito|latitude_longitude        |faixa_etaria_vitima|cor_pele_vitima         |sexo_vitima|data_ocorrencia    |distrito     |periodo_ocorrencia|cidade   |\n",
            "+----------------+------------------------------------+---------------------+-----------------+-------------+--------------------------+-------------------+------------------------+-----------+-------------------+-------------+------------------+---------+\n",
            "|Homicídio Doloso|Outro                               |25-44                |Branca           |Masculino    |40.804012949,-73.878331833|25-44              |BLACK                   |M          |2018-07-09 14:25:00|Bronx        |Tarde             |Nova York|\n",
            "|Homicídio Doloso|Departamento de Polícia de Nova York|25-44                |Preta            |Masculino    |40.661502264,-73.907661037|<18                |BLACK                   |F          |2018-03-14 05:00:00|Brooklyn     |Madrugada         |Nova York|\n",
            "|Homicídio Doloso|Departamento de Polícia de Nova York|Desconhecido         |Desconhecido     |Desconhecido |40.693667261,-73.94451783 |25-44              |BLACK                   |M          |2018-04-18 20:40:00|Brooklyn     |Noite             |Nova York|\n",
            "|Homicídio Doloso|Departamento de Polícia de Nova York|45-64                |Preta            |Feminino     |40.755701867,-73.978221916|<18                |WHITE                   |M          |2018-05-18 08:05:00|Manhattan    |Manhã             |Nova York|\n",
            "|Homicídio Doloso|Departamento de Polícia de Nova York|45-64                |Preta            |Masculino    |40.846391886,-73.88412771 |45-64              |BLACK                   |F          |2018-09-10 08:00:00|Bronx        |Manhã             |Nova York|\n",
            "|Homicídio Doloso|Departamento de Polícia de Nova York|18-24                |Branca           |Masculino    |40.865658464,-73.891310558|<18                |WHITE HISPANIC          |M          |2018-12-10 17:58:00|Bronx        |Tarde             |Nova York|\n",
            "|Homicídio Doloso|Departamento de Polícia de Nova York|18-24                |Branca           |Masculino    |40.649370543,-73.960875898|18-24              |ASIAN / PACIFIC ISLANDER|M          |2018-06-07 22:35:00|Brooklyn     |Noite             |Nova York|\n",
            "|Homicídio Doloso|Departamento de Polícia de Nova York|25-44                |Amarela          |Masculino    |40.75423956,-73.83034561  |45-64              |ASIAN / PACIFIC ISLANDER|M          |2018-08-13 11:00:00|Queens       |Manhã             |Nova York|\n",
            "|Homicídio Doloso|Polícia de Moradia de Nova York     |25-44                |Preta            |Feminino     |40.887332818,-73.847250013|18-24              |BLACK                   |M          |2018-11-15 12:00:00|Bronx        |Tarde             |Nova York|\n",
            "|Homicídio Doloso|Departamento de Polícia de Nova York|25-44                |Preta            |Masculino    |40.691532006,-73.91362704 |45-64              |BLACK                   |M          |2018-04-17 16:05:00|Brooklyn     |Tarde             |Nova York|\n",
            "|Homicídio Doloso|Departamento de Polícia de Nova York|25-44                |Branca           |Masculino    |40.843471589,-73.866426662|18-24              |WHITE HISPANIC          |M          |2018-06-19 16:06:00|Bronx        |Tarde             |Nova York|\n",
            "|Homicídio Doloso|Departamento de Polícia de Nova York|Desconhecido         |Desconhecido     |Desconhecido |40.672089966,-73.890155181|18-24              |UNKNOWN                 |F          |2018-10-05 18:56:00|Brooklyn     |Noite             |Nova York|\n",
            "|Homicídio Doloso|Departamento de Polícia de Nova York|25-44                |Branca           |Masculino    |40.632290269,-74.107267443|25-44              |WHITE                   |M          |2018-12-21 16:30:00|Staten Island|Tarde             |Nova York|\n",
            "|Homicídio Doloso|Departamento de Polícia de Nova York|18-24                |Branca           |Masculino    |40.602745951,-73.750077865|18-24              |WHITE HISPANIC          |M          |2018-12-16 11:58:00|Queens       |Manhã             |Nova York|\n",
            "|Homicídio Doloso|Departamento de Polícia de Nova York|18-24                |Branca           |Masculino    |40.860158821,-73.870731317|25-44              |WHITE HISPANIC          |M          |2018-02-15 22:05:00|Bronx        |Noite             |Nova York|\n",
            "|Homicídio Doloso|Departamento de Polícia de Nova York|18-24                |Preta            |Masculino    |40.70812437,-73.951528419 |18-24              |BLACK HISPANIC          |M          |2018-05-23 12:45:00|Brooklyn     |Tarde             |Nova York|\n",
            "|Homicídio Doloso|Departamento de Polícia de Nova York|25-44                |Branca           |Masculino    |40.839739531,-73.913178032|18-24              |WHITE HISPANIC          |M          |2018-12-14 00:42:00|Bronx        |Madrugada         |Nova York|\n",
            "|Homicídio Doloso|Departamento de Polícia de Nova York|18-24                |Preta            |Masculino    |40.880400291,-73.90375164 |18-24              |WHITE HISPANIC          |M          |2018-08-31 00:37:00|Bronx        |Madrugada         |Nova York|\n",
            "|Homicídio Doloso|Polícia de Moradia de Nova York     |25-44                |Preta            |Masculino    |40.825057345,-73.868862814|<18                |BLACK                   |M          |2018-05-24 22:34:00|Bronx        |Noite             |Nova York|\n",
            "|Homicídio Doloso|Departamento de Polícia de Nova York|Desconhecido         |Desconhecido     |Desconhecido |40.826225799,-73.946889641|25-44              |BLACK                   |M          |2018-05-20 02:03:00|Manhattan    |Madrugada         |Nova York|\n",
            "+----------------+------------------------------------+---------------------+-----------------+-------------+--------------------------+-------------------+------------------------+-----------+-------------------+-------------+------------------+---------+\n",
            "only showing top 20 rows\n",
            "\n"
          ]
        }
      ]
    },
    {
      "cell_type": "code",
      "source": [
        "# Confirmando se as mudanças foram realizadas\n",
        "df.select('faixa_etaria_vitima').distinct().show(truncate=False)"
      ],
      "metadata": {
        "colab": {
          "base_uri": "https://localhost:8080/"
        },
        "id": "7hfKPyB5bSCl",
        "outputId": "13fe4041-722a-46d7-bffe-e44a5dab8eed"
      },
      "execution_count": 57,
      "outputs": [
        {
          "output_type": "stream",
          "name": "stdout",
          "text": [
            "+-------------------+\n",
            "|faixa_etaria_vitima|\n",
            "+-------------------+\n",
            "|<18                |\n",
            "|25-44              |\n",
            "|Desconhecido       |\n",
            "|65+                |\n",
            "|18-24              |\n",
            "|45-64              |\n",
            "+-------------------+\n",
            "\n"
          ]
        }
      ]
    },
    {
      "cell_type": "markdown",
      "source": [
        "#### ✏️ **cor_pele_vitima**"
      ],
      "metadata": {
        "id": "qoLq_bpLbP3d"
      }
    },
    {
      "cell_type": "code",
      "source": [
        "# Inconsistências: dados em inglês\n",
        "df.select('cor_pele_vitima').distinct().show(truncate=False)"
      ],
      "metadata": {
        "colab": {
          "base_uri": "https://localhost:8080/"
        },
        "id": "A718QWGpJZpK",
        "outputId": "6d2bbfe2-30e0-4efa-cf74-2063f0617291"
      },
      "execution_count": 58,
      "outputs": [
        {
          "output_type": "stream",
          "name": "stdout",
          "text": [
            "+------------------------------+\n",
            "|cor_pele_vitima               |\n",
            "+------------------------------+\n",
            "|WHITE                         |\n",
            "|BLACK                         |\n",
            "|AMERICAN INDIAN/ALASKAN NATIVE|\n",
            "|BLACK HISPANIC                |\n",
            "|WHITE HISPANIC                |\n",
            "|UNKNOWN                       |\n",
            "|ASIAN / PACIFIC ISLANDER      |\n",
            "+------------------------------+\n",
            "\n"
          ]
        }
      ]
    },
    {
      "cell_type": "code",
      "source": [
        "# Traduzindo dados\n",
        "df = (df.withColumn('cor_pele_vitima', \n",
        "                    F.when(F.col('cor_pele_vitima') == 'WHITE', 'Branca')\n",
        "                    .when(F.col('cor_pele_vitima') == 'BLACK', 'Preta')\n",
        "                    .when(F.col('cor_pele_vitima') == 'BLACK HISPANIC', 'Preta')\n",
        "                    .when(F.col('cor_pele_vitima') == 'WHITE HISPANIC', 'Branca')\n",
        "                    .when(F.col('cor_pele_vitima') == 'UNKNOWN', 'Desconhecido')\n",
        "                    .when(F.col('cor_pele_vitima') == 'ASIAN / PACIFIC ISLANDER', 'Amarela')\n",
        "                    .when(F.col('cor_pele_vitima') == 'AMERICAN INDIAN/ALASKAN NATIVE', 'Povos originários') \n",
        "                    .otherwise(F.col('cor_pele_vitima')))\n",
        ")\n",
        "\n",
        "df.show(truncate=False)"
      ],
      "metadata": {
        "colab": {
          "base_uri": "https://localhost:8080/"
        },
        "id": "Mno2g1pBbvOa",
        "outputId": "5e82008f-f943-4446-ef71-380fcf25bd41"
      },
      "execution_count": 59,
      "outputs": [
        {
          "output_type": "stream",
          "name": "stdout",
          "text": [
            "+----------------+------------------------------------+---------------------+-----------------+-------------+--------------------------+-------------------+---------------+-----------+-------------------+-------------+------------------+---------+\n",
            "|tipo_crime      |desc_foro                           |faixa_etaria_suspeito|cor_pele_suspeito|sexo_suspeito|latitude_longitude        |faixa_etaria_vitima|cor_pele_vitima|sexo_vitima|data_ocorrencia    |distrito     |periodo_ocorrencia|cidade   |\n",
            "+----------------+------------------------------------+---------------------+-----------------+-------------+--------------------------+-------------------+---------------+-----------+-------------------+-------------+------------------+---------+\n",
            "|Homicídio Doloso|Outro                               |25-44                |Branca           |Masculino    |40.804012949,-73.878331833|25-44              |Preta          |M          |2018-07-09 14:25:00|Bronx        |Tarde             |Nova York|\n",
            "|Homicídio Doloso|Departamento de Polícia de Nova York|25-44                |Preta            |Masculino    |40.661502264,-73.907661037|<18                |Preta          |F          |2018-03-14 05:00:00|Brooklyn     |Madrugada         |Nova York|\n",
            "|Homicídio Doloso|Departamento de Polícia de Nova York|Desconhecido         |Desconhecido     |Desconhecido |40.693667261,-73.94451783 |25-44              |Preta          |M          |2018-04-18 20:40:00|Brooklyn     |Noite             |Nova York|\n",
            "|Homicídio Doloso|Departamento de Polícia de Nova York|45-64                |Preta            |Feminino     |40.755701867,-73.978221916|<18                |Branca         |M          |2018-05-18 08:05:00|Manhattan    |Manhã             |Nova York|\n",
            "|Homicídio Doloso|Departamento de Polícia de Nova York|45-64                |Preta            |Masculino    |40.846391886,-73.88412771 |45-64              |Preta          |F          |2018-09-10 08:00:00|Bronx        |Manhã             |Nova York|\n",
            "|Homicídio Doloso|Departamento de Polícia de Nova York|18-24                |Branca           |Masculino    |40.865658464,-73.891310558|<18                |Branca         |M          |2018-12-10 17:58:00|Bronx        |Tarde             |Nova York|\n",
            "|Homicídio Doloso|Departamento de Polícia de Nova York|18-24                |Branca           |Masculino    |40.649370543,-73.960875898|18-24              |Amarela        |M          |2018-06-07 22:35:00|Brooklyn     |Noite             |Nova York|\n",
            "|Homicídio Doloso|Departamento de Polícia de Nova York|25-44                |Amarela          |Masculino    |40.75423956,-73.83034561  |45-64              |Amarela        |M          |2018-08-13 11:00:00|Queens       |Manhã             |Nova York|\n",
            "|Homicídio Doloso|Polícia de Moradia de Nova York     |25-44                |Preta            |Feminino     |40.887332818,-73.847250013|18-24              |Preta          |M          |2018-11-15 12:00:00|Bronx        |Tarde             |Nova York|\n",
            "|Homicídio Doloso|Departamento de Polícia de Nova York|25-44                |Preta            |Masculino    |40.691532006,-73.91362704 |45-64              |Preta          |M          |2018-04-17 16:05:00|Brooklyn     |Tarde             |Nova York|\n",
            "|Homicídio Doloso|Departamento de Polícia de Nova York|25-44                |Branca           |Masculino    |40.843471589,-73.866426662|18-24              |Branca         |M          |2018-06-19 16:06:00|Bronx        |Tarde             |Nova York|\n",
            "|Homicídio Doloso|Departamento de Polícia de Nova York|Desconhecido         |Desconhecido     |Desconhecido |40.672089966,-73.890155181|18-24              |Desconhecido   |F          |2018-10-05 18:56:00|Brooklyn     |Noite             |Nova York|\n",
            "|Homicídio Doloso|Departamento de Polícia de Nova York|25-44                |Branca           |Masculino    |40.632290269,-74.107267443|25-44              |Branca         |M          |2018-12-21 16:30:00|Staten Island|Tarde             |Nova York|\n",
            "|Homicídio Doloso|Departamento de Polícia de Nova York|18-24                |Branca           |Masculino    |40.602745951,-73.750077865|18-24              |Branca         |M          |2018-12-16 11:58:00|Queens       |Manhã             |Nova York|\n",
            "|Homicídio Doloso|Departamento de Polícia de Nova York|18-24                |Branca           |Masculino    |40.860158821,-73.870731317|25-44              |Branca         |M          |2018-02-15 22:05:00|Bronx        |Noite             |Nova York|\n",
            "|Homicídio Doloso|Departamento de Polícia de Nova York|18-24                |Preta            |Masculino    |40.70812437,-73.951528419 |18-24              |Preta          |M          |2018-05-23 12:45:00|Brooklyn     |Tarde             |Nova York|\n",
            "|Homicídio Doloso|Departamento de Polícia de Nova York|25-44                |Branca           |Masculino    |40.839739531,-73.913178032|18-24              |Branca         |M          |2018-12-14 00:42:00|Bronx        |Madrugada         |Nova York|\n",
            "|Homicídio Doloso|Departamento de Polícia de Nova York|18-24                |Preta            |Masculino    |40.880400291,-73.90375164 |18-24              |Branca         |M          |2018-08-31 00:37:00|Bronx        |Madrugada         |Nova York|\n",
            "|Homicídio Doloso|Polícia de Moradia de Nova York     |25-44                |Preta            |Masculino    |40.825057345,-73.868862814|<18                |Preta          |M          |2018-05-24 22:34:00|Bronx        |Noite             |Nova York|\n",
            "|Homicídio Doloso|Departamento de Polícia de Nova York|Desconhecido         |Desconhecido     |Desconhecido |40.826225799,-73.946889641|25-44              |Preta          |M          |2018-05-20 02:03:00|Manhattan    |Madrugada         |Nova York|\n",
            "+----------------+------------------------------------+---------------------+-----------------+-------------+--------------------------+-------------------+---------------+-----------+-------------------+-------------+------------------+---------+\n",
            "only showing top 20 rows\n",
            "\n"
          ]
        }
      ]
    },
    {
      "cell_type": "code",
      "source": [
        "# Confirmando se as mudanças foram realizadas\n",
        "df.select('cor_pele_vitima').distinct().show(truncate=False)"
      ],
      "metadata": {
        "colab": {
          "base_uri": "https://localhost:8080/"
        },
        "id": "1NSxM48obvJ4",
        "outputId": "5567ac38-ce6a-49d4-8b19-57fc3d3ea623"
      },
      "execution_count": 60,
      "outputs": [
        {
          "output_type": "stream",
          "name": "stdout",
          "text": [
            "+-----------------+\n",
            "|cor_pele_vitima  |\n",
            "+-----------------+\n",
            "|Povos originários|\n",
            "|Preta            |\n",
            "|Desconhecido     |\n",
            "|Amarela          |\n",
            "|Branca           |\n",
            "+-----------------+\n",
            "\n"
          ]
        }
      ]
    },
    {
      "cell_type": "markdown",
      "source": [
        "#### ✏️ **sexo_vitima**"
      ],
      "metadata": {
        "id": "GIRbpQqKbtDT"
      }
    },
    {
      "cell_type": "code",
      "source": [
        "# Inconsistências: dados abreviados\n",
        "df.select('sexo_vitima').distinct().show(truncate=False)"
      ],
      "metadata": {
        "colab": {
          "base_uri": "https://localhost:8080/"
        },
        "id": "nNemUA-KJfYg",
        "outputId": "f72b2237-1df8-42fd-b9d6-10fa2c1fe663"
      },
      "execution_count": 61,
      "outputs": [
        {
          "output_type": "stream",
          "name": "stdout",
          "text": [
            "+-----------+\n",
            "|sexo_vitima|\n",
            "+-----------+\n",
            "|F          |\n",
            "|E          |\n",
            "|M          |\n",
            "|U          |\n",
            "+-----------+\n",
            "\n"
          ]
        }
      ]
    },
    {
      "cell_type": "code",
      "source": [
        "# Traduzindo dados\n",
        "df = (df.withColumn('sexo_vitima', F.when(F.col('sexo_vitima') == 'F', 'Feminino') \n",
        "        .otherwise(F.col('sexo_vitima')))\n",
        "        .withColumn('sexo_vitima', F.when(F.col('sexo_vitima') == 'M', 'Masculino') \n",
        "        .otherwise(F.col('sexo_vitima')))\n",
        "        .withColumn('sexo_vitima', F.when(F.col('sexo_vitima') == 'U', 'Desconhecido') \n",
        "        .otherwise(F.col('sexo_vitima')))\n",
        "        .withColumn('sexo_vitima', F.when(F.col('sexo_vitima') == 'E', 'Desconhecido') \n",
        "        .otherwise(F.col('sexo_vitima')))\n",
        ")\n",
        "\n",
        "df.show(truncate=False)"
      ],
      "metadata": {
        "colab": {
          "base_uri": "https://localhost:8080/"
        },
        "id": "yEmtBF3sbv5z",
        "outputId": "a2bc4868-0669-48d9-8cb1-2405207f7797"
      },
      "execution_count": 62,
      "outputs": [
        {
          "output_type": "stream",
          "name": "stdout",
          "text": [
            "+----------------+------------------------------------+---------------------+-----------------+-------------+--------------------------+-------------------+---------------+-----------+-------------------+-------------+------------------+---------+\n",
            "|tipo_crime      |desc_foro                           |faixa_etaria_suspeito|cor_pele_suspeito|sexo_suspeito|latitude_longitude        |faixa_etaria_vitima|cor_pele_vitima|sexo_vitima|data_ocorrencia    |distrito     |periodo_ocorrencia|cidade   |\n",
            "+----------------+------------------------------------+---------------------+-----------------+-------------+--------------------------+-------------------+---------------+-----------+-------------------+-------------+------------------+---------+\n",
            "|Homicídio Doloso|Outro                               |25-44                |Branca           |Masculino    |40.804012949,-73.878331833|25-44              |Preta          |Masculino  |2018-07-09 14:25:00|Bronx        |Tarde             |Nova York|\n",
            "|Homicídio Doloso|Departamento de Polícia de Nova York|25-44                |Preta            |Masculino    |40.661502264,-73.907661037|<18                |Preta          |Feminino   |2018-03-14 05:00:00|Brooklyn     |Madrugada         |Nova York|\n",
            "|Homicídio Doloso|Departamento de Polícia de Nova York|Desconhecido         |Desconhecido     |Desconhecido |40.693667261,-73.94451783 |25-44              |Preta          |Masculino  |2018-04-18 20:40:00|Brooklyn     |Noite             |Nova York|\n",
            "|Homicídio Doloso|Departamento de Polícia de Nova York|45-64                |Preta            |Feminino     |40.755701867,-73.978221916|<18                |Branca         |Masculino  |2018-05-18 08:05:00|Manhattan    |Manhã             |Nova York|\n",
            "|Homicídio Doloso|Departamento de Polícia de Nova York|45-64                |Preta            |Masculino    |40.846391886,-73.88412771 |45-64              |Preta          |Feminino   |2018-09-10 08:00:00|Bronx        |Manhã             |Nova York|\n",
            "|Homicídio Doloso|Departamento de Polícia de Nova York|18-24                |Branca           |Masculino    |40.865658464,-73.891310558|<18                |Branca         |Masculino  |2018-12-10 17:58:00|Bronx        |Tarde             |Nova York|\n",
            "|Homicídio Doloso|Departamento de Polícia de Nova York|18-24                |Branca           |Masculino    |40.649370543,-73.960875898|18-24              |Amarela        |Masculino  |2018-06-07 22:35:00|Brooklyn     |Noite             |Nova York|\n",
            "|Homicídio Doloso|Departamento de Polícia de Nova York|25-44                |Amarela          |Masculino    |40.75423956,-73.83034561  |45-64              |Amarela        |Masculino  |2018-08-13 11:00:00|Queens       |Manhã             |Nova York|\n",
            "|Homicídio Doloso|Polícia de Moradia de Nova York     |25-44                |Preta            |Feminino     |40.887332818,-73.847250013|18-24              |Preta          |Masculino  |2018-11-15 12:00:00|Bronx        |Tarde             |Nova York|\n",
            "|Homicídio Doloso|Departamento de Polícia de Nova York|25-44                |Preta            |Masculino    |40.691532006,-73.91362704 |45-64              |Preta          |Masculino  |2018-04-17 16:05:00|Brooklyn     |Tarde             |Nova York|\n",
            "|Homicídio Doloso|Departamento de Polícia de Nova York|25-44                |Branca           |Masculino    |40.843471589,-73.866426662|18-24              |Branca         |Masculino  |2018-06-19 16:06:00|Bronx        |Tarde             |Nova York|\n",
            "|Homicídio Doloso|Departamento de Polícia de Nova York|Desconhecido         |Desconhecido     |Desconhecido |40.672089966,-73.890155181|18-24              |Desconhecido   |Feminino   |2018-10-05 18:56:00|Brooklyn     |Noite             |Nova York|\n",
            "|Homicídio Doloso|Departamento de Polícia de Nova York|25-44                |Branca           |Masculino    |40.632290269,-74.107267443|25-44              |Branca         |Masculino  |2018-12-21 16:30:00|Staten Island|Tarde             |Nova York|\n",
            "|Homicídio Doloso|Departamento de Polícia de Nova York|18-24                |Branca           |Masculino    |40.602745951,-73.750077865|18-24              |Branca         |Masculino  |2018-12-16 11:58:00|Queens       |Manhã             |Nova York|\n",
            "|Homicídio Doloso|Departamento de Polícia de Nova York|18-24                |Branca           |Masculino    |40.860158821,-73.870731317|25-44              |Branca         |Masculino  |2018-02-15 22:05:00|Bronx        |Noite             |Nova York|\n",
            "|Homicídio Doloso|Departamento de Polícia de Nova York|18-24                |Preta            |Masculino    |40.70812437,-73.951528419 |18-24              |Preta          |Masculino  |2018-05-23 12:45:00|Brooklyn     |Tarde             |Nova York|\n",
            "|Homicídio Doloso|Departamento de Polícia de Nova York|25-44                |Branca           |Masculino    |40.839739531,-73.913178032|18-24              |Branca         |Masculino  |2018-12-14 00:42:00|Bronx        |Madrugada         |Nova York|\n",
            "|Homicídio Doloso|Departamento de Polícia de Nova York|18-24                |Preta            |Masculino    |40.880400291,-73.90375164 |18-24              |Branca         |Masculino  |2018-08-31 00:37:00|Bronx        |Madrugada         |Nova York|\n",
            "|Homicídio Doloso|Polícia de Moradia de Nova York     |25-44                |Preta            |Masculino    |40.825057345,-73.868862814|<18                |Preta          |Masculino  |2018-05-24 22:34:00|Bronx        |Noite             |Nova York|\n",
            "|Homicídio Doloso|Departamento de Polícia de Nova York|Desconhecido         |Desconhecido     |Desconhecido |40.826225799,-73.946889641|25-44              |Preta          |Masculino  |2018-05-20 02:03:00|Manhattan    |Madrugada         |Nova York|\n",
            "+----------------+------------------------------------+---------------------+-----------------+-------------+--------------------------+-------------------+---------------+-----------+-------------------+-------------+------------------+---------+\n",
            "only showing top 20 rows\n",
            "\n"
          ]
        }
      ]
    },
    {
      "cell_type": "code",
      "source": [
        "# Confirmando se as mudanças foram realizadas\n",
        "df.select('sexo_suspeito').distinct().show(truncate=False)"
      ],
      "metadata": {
        "colab": {
          "base_uri": "https://localhost:8080/"
        },
        "id": "Yic8JiI5bvzj",
        "outputId": "b8fe6bac-18ca-495f-e669-34e386cc44da"
      },
      "execution_count": 63,
      "outputs": [
        {
          "output_type": "stream",
          "name": "stdout",
          "text": [
            "+-------------+\n",
            "|sexo_suspeito|\n",
            "+-------------+\n",
            "|Desconhecido |\n",
            "|Feminino     |\n",
            "|Masculino    |\n",
            "+-------------+\n",
            "\n"
          ]
        }
      ]
    },
    {
      "cell_type": "markdown",
      "source": [
        "#### ✏️ **data_ocorrencia**"
      ],
      "metadata": {
        "id": "JLc9oS8lbqJc"
      }
    },
    {
      "cell_type": "code",
      "source": [
        "# Dados ok\n",
        "df.select('data_ocorrencia').sort('data_ocorrencia').show(truncate=False)"
      ],
      "metadata": {
        "colab": {
          "base_uri": "https://localhost:8080/"
        },
        "id": "X5rVg9ZVJfNl",
        "outputId": "9f230357-355f-418f-f6d4-83a3110bbdde"
      },
      "execution_count": 64,
      "outputs": [
        {
          "output_type": "stream",
          "name": "stdout",
          "text": [
            "+-------------------+\n",
            "|data_ocorrencia    |\n",
            "+-------------------+\n",
            "|2018-01-01 13:09:00|\n",
            "|2018-01-03 20:37:00|\n",
            "|2018-01-06 21:05:00|\n",
            "|2018-01-09 23:36:00|\n",
            "|2018-01-10 14:30:00|\n",
            "|2018-01-10 14:30:00|\n",
            "|2018-01-12 20:17:00|\n",
            "|2018-01-13 13:32:00|\n",
            "|2018-01-15 23:39:00|\n",
            "|2018-01-16 02:00:00|\n",
            "|2018-01-16 21:30:00|\n",
            "|2018-01-18 08:26:00|\n",
            "|2018-01-18 21:58:00|\n",
            "|2018-01-21 01:05:00|\n",
            "|2018-01-21 02:35:00|\n",
            "|2018-01-21 17:40:00|\n",
            "|2018-01-27 08:43:00|\n",
            "|2018-01-28 05:10:00|\n",
            "|2018-01-29 12:45:00|\n",
            "|2018-02-02 18:30:00|\n",
            "+-------------------+\n",
            "only showing top 20 rows\n",
            "\n"
          ]
        }
      ]
    },
    {
      "cell_type": "code",
      "source": [
        "# Dados ok\n",
        "df.select('data_ocorrencia').sort('data_ocorrencia', ascending=False).show(truncate=False)"
      ],
      "metadata": {
        "colab": {
          "base_uri": "https://localhost:8080/"
        },
        "id": "70ntnLGg5vjH",
        "outputId": "d6ed56ad-88bb-45d1-caf8-8354b147c1a5"
      },
      "execution_count": 65,
      "outputs": [
        {
          "output_type": "stream",
          "name": "stdout",
          "text": [
            "+-------------------+\n",
            "|data_ocorrencia    |\n",
            "+-------------------+\n",
            "|2021-12-31 19:23:00|\n",
            "|2021-12-27 20:04:00|\n",
            "|2021-12-27 15:48:00|\n",
            "|2021-12-26 22:45:00|\n",
            "|2021-12-26 12:20:00|\n",
            "|2021-12-26 04:07:00|\n",
            "|2021-12-26 04:07:00|\n",
            "|2021-12-25 23:54:00|\n",
            "|2021-12-25 19:15:00|\n",
            "|2021-12-23 23:05:00|\n",
            "|2021-12-23 04:05:00|\n",
            "|2021-12-22 23:17:00|\n",
            "|2021-12-22 05:35:00|\n",
            "|2021-12-21 21:30:00|\n",
            "|2021-12-20 18:35:00|\n",
            "|2021-12-18 00:15:00|\n",
            "|2021-12-17 22:13:00|\n",
            "|2021-12-17 20:59:00|\n",
            "|2021-12-17 06:21:00|\n",
            "|2021-12-17 00:10:00|\n",
            "+-------------------+\n",
            "only showing top 20 rows\n",
            "\n"
          ]
        }
      ]
    },
    {
      "cell_type": "markdown",
      "source": [
        "###▶️ **Reorganizando colunas**"
      ],
      "metadata": {
        "id": "uj740EVRTA2E"
      }
    },
    {
      "cell_type": "code",
      "source": [
        "df = df.select('cidade', 'tipo_crime', 'distrito', 'data_ocorrencia', \n",
        "               'periodo_ocorrencia', 'faixa_etaria_suspeito', 'cor_pele_suspeito',\n",
        "               'sexo_suspeito', 'faixa_etaria_vitima', 'cor_pele_vitima',\n",
        "               'sexo_vitima', 'latitude_longitude', 'desc_foro')"
      ],
      "metadata": {
        "id": "EtSCWeAyTEuy"
      },
      "execution_count": 66,
      "outputs": []
    },
    {
      "cell_type": "code",
      "source": [
        "df.show(truncate=False)"
      ],
      "metadata": {
        "colab": {
          "base_uri": "https://localhost:8080/"
        },
        "id": "4n_WEnUALTcK",
        "outputId": "ce0e3665-826d-4fcd-c331-e2027519893b"
      },
      "execution_count": 67,
      "outputs": [
        {
          "output_type": "stream",
          "name": "stdout",
          "text": [
            "+---------+----------------+-------------+-------------------+------------------+---------------------+-----------------+-------------+-------------------+---------------+-----------+--------------------------+------------------------------------+\n",
            "|cidade   |tipo_crime      |distrito     |data_ocorrencia    |periodo_ocorrencia|faixa_etaria_suspeito|cor_pele_suspeito|sexo_suspeito|faixa_etaria_vitima|cor_pele_vitima|sexo_vitima|latitude_longitude        |desc_foro                           |\n",
            "+---------+----------------+-------------+-------------------+------------------+---------------------+-----------------+-------------+-------------------+---------------+-----------+--------------------------+------------------------------------+\n",
            "|Nova York|Homicídio Doloso|Bronx        |2018-07-09 14:25:00|Tarde             |25-44                |Branca           |Masculino    |25-44              |Preta          |Masculino  |40.804012949,-73.878331833|Outro                               |\n",
            "|Nova York|Homicídio Doloso|Brooklyn     |2018-03-14 05:00:00|Madrugada         |25-44                |Preta            |Masculino    |<18                |Preta          |Feminino   |40.661502264,-73.907661037|Departamento de Polícia de Nova York|\n",
            "|Nova York|Homicídio Doloso|Brooklyn     |2018-04-18 20:40:00|Noite             |Desconhecido         |Desconhecido     |Desconhecido |25-44              |Preta          |Masculino  |40.693667261,-73.94451783 |Departamento de Polícia de Nova York|\n",
            "|Nova York|Homicídio Doloso|Manhattan    |2018-05-18 08:05:00|Manhã             |45-64                |Preta            |Feminino     |<18                |Branca         |Masculino  |40.755701867,-73.978221916|Departamento de Polícia de Nova York|\n",
            "|Nova York|Homicídio Doloso|Bronx        |2018-09-10 08:00:00|Manhã             |45-64                |Preta            |Masculino    |45-64              |Preta          |Feminino   |40.846391886,-73.88412771 |Departamento de Polícia de Nova York|\n",
            "|Nova York|Homicídio Doloso|Bronx        |2018-12-10 17:58:00|Tarde             |18-24                |Branca           |Masculino    |<18                |Branca         |Masculino  |40.865658464,-73.891310558|Departamento de Polícia de Nova York|\n",
            "|Nova York|Homicídio Doloso|Brooklyn     |2018-06-07 22:35:00|Noite             |18-24                |Branca           |Masculino    |18-24              |Amarela        |Masculino  |40.649370543,-73.960875898|Departamento de Polícia de Nova York|\n",
            "|Nova York|Homicídio Doloso|Queens       |2018-08-13 11:00:00|Manhã             |25-44                |Amarela          |Masculino    |45-64              |Amarela        |Masculino  |40.75423956,-73.83034561  |Departamento de Polícia de Nova York|\n",
            "|Nova York|Homicídio Doloso|Bronx        |2018-11-15 12:00:00|Tarde             |25-44                |Preta            |Feminino     |18-24              |Preta          |Masculino  |40.887332818,-73.847250013|Polícia de Moradia de Nova York     |\n",
            "|Nova York|Homicídio Doloso|Brooklyn     |2018-04-17 16:05:00|Tarde             |25-44                |Preta            |Masculino    |45-64              |Preta          |Masculino  |40.691532006,-73.91362704 |Departamento de Polícia de Nova York|\n",
            "|Nova York|Homicídio Doloso|Bronx        |2018-06-19 16:06:00|Tarde             |25-44                |Branca           |Masculino    |18-24              |Branca         |Masculino  |40.843471589,-73.866426662|Departamento de Polícia de Nova York|\n",
            "|Nova York|Homicídio Doloso|Brooklyn     |2018-10-05 18:56:00|Noite             |Desconhecido         |Desconhecido     |Desconhecido |18-24              |Desconhecido   |Feminino   |40.672089966,-73.890155181|Departamento de Polícia de Nova York|\n",
            "|Nova York|Homicídio Doloso|Staten Island|2018-12-21 16:30:00|Tarde             |25-44                |Branca           |Masculino    |25-44              |Branca         |Masculino  |40.632290269,-74.107267443|Departamento de Polícia de Nova York|\n",
            "|Nova York|Homicídio Doloso|Queens       |2018-12-16 11:58:00|Manhã             |18-24                |Branca           |Masculino    |18-24              |Branca         |Masculino  |40.602745951,-73.750077865|Departamento de Polícia de Nova York|\n",
            "|Nova York|Homicídio Doloso|Bronx        |2018-02-15 22:05:00|Noite             |18-24                |Branca           |Masculino    |25-44              |Branca         |Masculino  |40.860158821,-73.870731317|Departamento de Polícia de Nova York|\n",
            "|Nova York|Homicídio Doloso|Brooklyn     |2018-05-23 12:45:00|Tarde             |18-24                |Preta            |Masculino    |18-24              |Preta          |Masculino  |40.70812437,-73.951528419 |Departamento de Polícia de Nova York|\n",
            "|Nova York|Homicídio Doloso|Bronx        |2018-12-14 00:42:00|Madrugada         |25-44                |Branca           |Masculino    |18-24              |Branca         |Masculino  |40.839739531,-73.913178032|Departamento de Polícia de Nova York|\n",
            "|Nova York|Homicídio Doloso|Bronx        |2018-08-31 00:37:00|Madrugada         |18-24                |Preta            |Masculino    |18-24              |Branca         |Masculino  |40.880400291,-73.90375164 |Departamento de Polícia de Nova York|\n",
            "|Nova York|Homicídio Doloso|Bronx        |2018-05-24 22:34:00|Noite             |25-44                |Preta            |Masculino    |<18                |Preta          |Masculino  |40.825057345,-73.868862814|Polícia de Moradia de Nova York     |\n",
            "|Nova York|Homicídio Doloso|Manhattan    |2018-05-20 02:03:00|Madrugada         |Desconhecido         |Desconhecido     |Desconhecido |25-44              |Preta          |Masculino  |40.826225799,-73.946889641|Departamento de Polícia de Nova York|\n",
            "+---------+----------------+-------------+-------------------+------------------+---------------------+-----------------+-------------+-------------------+---------------+-----------+--------------------------+------------------------------------+\n",
            "only showing top 20 rows\n",
            "\n"
          ]
        }
      ]
    },
    {
      "cell_type": "markdown",
      "source": [
        "##💿 **7 - Upload de arquivo final**\n"
      ],
      "metadata": {
        "id": "YcSru-Uld3Bt"
      }
    },
    {
      "cell_type": "markdown",
      "source": [
        "###⬆️ **Load do arquivo**"
      ],
      "metadata": {
        "id": "Dq4TlygIeNO9"
      }
    },
    {
      "cell_type": "code",
      "source": [
        "df_pd = df.toPandas()"
      ],
      "metadata": {
        "id": "liTj7DgotEdW"
      },
      "execution_count": 68,
      "outputs": []
    },
    {
      "cell_type": "code",
      "source": [
        "df_pd.to_csv('ny_geral_tratado.csv', index=False)"
      ],
      "metadata": {
        "id": "quUHWRDztX_y"
      },
      "execution_count": 69,
      "outputs": []
    },
    {
      "cell_type": "code",
      "source": [
        "df_tratado = pd.read_csv('/content/ny_geral_tratado.csv')"
      ],
      "metadata": {
        "id": "fNAen9wxsUIB"
      },
      "execution_count": 70,
      "outputs": []
    },
    {
      "cell_type": "code",
      "source": [
        "df_tratado"
      ],
      "metadata": {
        "colab": {
          "base_uri": "https://localhost:8080/",
          "height": 818
        },
        "id": "VA9Tn4gpseXP",
        "outputId": "120583ca-762b-4fbd-c4ae-46c2ee70a7e8"
      },
      "execution_count": 71,
      "outputs": [
        {
          "output_type": "execute_result",
          "data": {
            "text/plain": [
              "         cidade         tipo_crime   distrito      data_ocorrencia  \\\n",
              "0     Nova York   Homicídio Doloso      Bronx  2018-07-09 14:25:00   \n",
              "1     Nova York   Homicídio Doloso   Brooklyn  2018-03-14 05:00:00   \n",
              "2     Nova York   Homicídio Doloso   Brooklyn  2018-04-18 20:40:00   \n",
              "3     Nova York   Homicídio Doloso  Manhattan  2018-05-18 08:05:00   \n",
              "4     Nova York   Homicídio Doloso      Bronx  2018-09-10 08:00:00   \n",
              "...         ...                ...        ...                  ...   \n",
              "1554  Nova York  Homicídio Culposo     Queens  2018-11-22 03:43:00   \n",
              "1555  Nova York   Homicídio Doloso  Manhattan  2018-07-17 19:58:00   \n",
              "1556  Nova York  Homicídio Culposo  Manhattan  2018-10-19 22:50:00   \n",
              "1557  Nova York   Homicídio Doloso   Brooklyn  2018-03-14 05:00:00   \n",
              "1558  Nova York   Homicídio Doloso      Bronx  2018-06-11 20:34:00   \n",
              "\n",
              "     periodo_ocorrencia faixa_etaria_suspeito cor_pele_suspeito sexo_suspeito  \\\n",
              "0                 Tarde                 25-44            Branca     Masculino   \n",
              "1             Madrugada                 25-44             Preta     Masculino   \n",
              "2                 Noite          Desconhecido      Desconhecido  Desconhecido   \n",
              "3                 Manhã                 45-64             Preta      Feminino   \n",
              "4                 Manhã                 45-64             Preta     Masculino   \n",
              "...                 ...                   ...               ...           ...   \n",
              "1554          Madrugada          Desconhecido            Branca     Masculino   \n",
              "1555              Noite                 25-44             Preta     Masculino   \n",
              "1556              Noite          Desconhecido      Desconhecido  Desconhecido   \n",
              "1557          Madrugada                 25-44             Preta     Masculino   \n",
              "1558              Noite                 45-64             Preta     Masculino   \n",
              "\n",
              "     faixa_etaria_vitima cor_pele_vitima sexo_vitima  \\\n",
              "0                  25-44           Preta   Masculino   \n",
              "1                    <18           Preta    Feminino   \n",
              "2                  25-44           Preta   Masculino   \n",
              "3                    <18          Branca   Masculino   \n",
              "4                  45-64           Preta    Feminino   \n",
              "...                  ...             ...         ...   \n",
              "1554               18-24          Branca   Masculino   \n",
              "1555               18-24           Preta   Masculino   \n",
              "1556               25-44           Preta   Masculino   \n",
              "1557               45-64           Preta   Masculino   \n",
              "1558                 65+    Desconhecido   Masculino   \n",
              "\n",
              "              latitude_longitude                             desc_foro  \n",
              "0     40.804012949,-73.878331833                                 Outro  \n",
              "1     40.661502264,-73.907661037  Departamento de Polícia de Nova York  \n",
              "2      40.693667261,-73.94451783  Departamento de Polícia de Nova York  \n",
              "3     40.755701867,-73.978221916  Departamento de Polícia de Nova York  \n",
              "4      40.846391886,-73.88412771  Departamento de Polícia de Nova York  \n",
              "...                          ...                                   ...  \n",
              "1554   40.74360542,-73.920986473  Departamento de Polícia de Nova York  \n",
              "1555  40.828076123,-73.936770657  Departamento de Polícia de Nova York  \n",
              "1556  40.827462608,-73.939192193  Departamento de Polícia de Nova York  \n",
              "1557  40.661502264,-73.907661037  Departamento de Polícia de Nova York  \n",
              "1558  40.809042997,-73.913698516  Departamento de Polícia de Nova York  \n",
              "\n",
              "[1559 rows x 13 columns]"
            ],
            "text/html": [
              "\n",
              "  <div id=\"df-cce62b10-6ab6-46e0-9e02-d8b73f74abd0\">\n",
              "    <div class=\"colab-df-container\">\n",
              "      <div>\n",
              "<style scoped>\n",
              "    .dataframe tbody tr th:only-of-type {\n",
              "        vertical-align: middle;\n",
              "    }\n",
              "\n",
              "    .dataframe tbody tr th {\n",
              "        vertical-align: top;\n",
              "    }\n",
              "\n",
              "    .dataframe thead th {\n",
              "        text-align: right;\n",
              "    }\n",
              "</style>\n",
              "<table border=\"1\" class=\"dataframe\">\n",
              "  <thead>\n",
              "    <tr style=\"text-align: right;\">\n",
              "      <th></th>\n",
              "      <th>cidade</th>\n",
              "      <th>tipo_crime</th>\n",
              "      <th>distrito</th>\n",
              "      <th>data_ocorrencia</th>\n",
              "      <th>periodo_ocorrencia</th>\n",
              "      <th>faixa_etaria_suspeito</th>\n",
              "      <th>cor_pele_suspeito</th>\n",
              "      <th>sexo_suspeito</th>\n",
              "      <th>faixa_etaria_vitima</th>\n",
              "      <th>cor_pele_vitima</th>\n",
              "      <th>sexo_vitima</th>\n",
              "      <th>latitude_longitude</th>\n",
              "      <th>desc_foro</th>\n",
              "    </tr>\n",
              "  </thead>\n",
              "  <tbody>\n",
              "    <tr>\n",
              "      <th>0</th>\n",
              "      <td>Nova York</td>\n",
              "      <td>Homicídio Doloso</td>\n",
              "      <td>Bronx</td>\n",
              "      <td>2018-07-09 14:25:00</td>\n",
              "      <td>Tarde</td>\n",
              "      <td>25-44</td>\n",
              "      <td>Branca</td>\n",
              "      <td>Masculino</td>\n",
              "      <td>25-44</td>\n",
              "      <td>Preta</td>\n",
              "      <td>Masculino</td>\n",
              "      <td>40.804012949,-73.878331833</td>\n",
              "      <td>Outro</td>\n",
              "    </tr>\n",
              "    <tr>\n",
              "      <th>1</th>\n",
              "      <td>Nova York</td>\n",
              "      <td>Homicídio Doloso</td>\n",
              "      <td>Brooklyn</td>\n",
              "      <td>2018-03-14 05:00:00</td>\n",
              "      <td>Madrugada</td>\n",
              "      <td>25-44</td>\n",
              "      <td>Preta</td>\n",
              "      <td>Masculino</td>\n",
              "      <td>&lt;18</td>\n",
              "      <td>Preta</td>\n",
              "      <td>Feminino</td>\n",
              "      <td>40.661502264,-73.907661037</td>\n",
              "      <td>Departamento de Polícia de Nova York</td>\n",
              "    </tr>\n",
              "    <tr>\n",
              "      <th>2</th>\n",
              "      <td>Nova York</td>\n",
              "      <td>Homicídio Doloso</td>\n",
              "      <td>Brooklyn</td>\n",
              "      <td>2018-04-18 20:40:00</td>\n",
              "      <td>Noite</td>\n",
              "      <td>Desconhecido</td>\n",
              "      <td>Desconhecido</td>\n",
              "      <td>Desconhecido</td>\n",
              "      <td>25-44</td>\n",
              "      <td>Preta</td>\n",
              "      <td>Masculino</td>\n",
              "      <td>40.693667261,-73.94451783</td>\n",
              "      <td>Departamento de Polícia de Nova York</td>\n",
              "    </tr>\n",
              "    <tr>\n",
              "      <th>3</th>\n",
              "      <td>Nova York</td>\n",
              "      <td>Homicídio Doloso</td>\n",
              "      <td>Manhattan</td>\n",
              "      <td>2018-05-18 08:05:00</td>\n",
              "      <td>Manhã</td>\n",
              "      <td>45-64</td>\n",
              "      <td>Preta</td>\n",
              "      <td>Feminino</td>\n",
              "      <td>&lt;18</td>\n",
              "      <td>Branca</td>\n",
              "      <td>Masculino</td>\n",
              "      <td>40.755701867,-73.978221916</td>\n",
              "      <td>Departamento de Polícia de Nova York</td>\n",
              "    </tr>\n",
              "    <tr>\n",
              "      <th>4</th>\n",
              "      <td>Nova York</td>\n",
              "      <td>Homicídio Doloso</td>\n",
              "      <td>Bronx</td>\n",
              "      <td>2018-09-10 08:00:00</td>\n",
              "      <td>Manhã</td>\n",
              "      <td>45-64</td>\n",
              "      <td>Preta</td>\n",
              "      <td>Masculino</td>\n",
              "      <td>45-64</td>\n",
              "      <td>Preta</td>\n",
              "      <td>Feminino</td>\n",
              "      <td>40.846391886,-73.88412771</td>\n",
              "      <td>Departamento de Polícia de Nova York</td>\n",
              "    </tr>\n",
              "    <tr>\n",
              "      <th>...</th>\n",
              "      <td>...</td>\n",
              "      <td>...</td>\n",
              "      <td>...</td>\n",
              "      <td>...</td>\n",
              "      <td>...</td>\n",
              "      <td>...</td>\n",
              "      <td>...</td>\n",
              "      <td>...</td>\n",
              "      <td>...</td>\n",
              "      <td>...</td>\n",
              "      <td>...</td>\n",
              "      <td>...</td>\n",
              "      <td>...</td>\n",
              "    </tr>\n",
              "    <tr>\n",
              "      <th>1554</th>\n",
              "      <td>Nova York</td>\n",
              "      <td>Homicídio Culposo</td>\n",
              "      <td>Queens</td>\n",
              "      <td>2018-11-22 03:43:00</td>\n",
              "      <td>Madrugada</td>\n",
              "      <td>Desconhecido</td>\n",
              "      <td>Branca</td>\n",
              "      <td>Masculino</td>\n",
              "      <td>18-24</td>\n",
              "      <td>Branca</td>\n",
              "      <td>Masculino</td>\n",
              "      <td>40.74360542,-73.920986473</td>\n",
              "      <td>Departamento de Polícia de Nova York</td>\n",
              "    </tr>\n",
              "    <tr>\n",
              "      <th>1555</th>\n",
              "      <td>Nova York</td>\n",
              "      <td>Homicídio Doloso</td>\n",
              "      <td>Manhattan</td>\n",
              "      <td>2018-07-17 19:58:00</td>\n",
              "      <td>Noite</td>\n",
              "      <td>25-44</td>\n",
              "      <td>Preta</td>\n",
              "      <td>Masculino</td>\n",
              "      <td>18-24</td>\n",
              "      <td>Preta</td>\n",
              "      <td>Masculino</td>\n",
              "      <td>40.828076123,-73.936770657</td>\n",
              "      <td>Departamento de Polícia de Nova York</td>\n",
              "    </tr>\n",
              "    <tr>\n",
              "      <th>1556</th>\n",
              "      <td>Nova York</td>\n",
              "      <td>Homicídio Culposo</td>\n",
              "      <td>Manhattan</td>\n",
              "      <td>2018-10-19 22:50:00</td>\n",
              "      <td>Noite</td>\n",
              "      <td>Desconhecido</td>\n",
              "      <td>Desconhecido</td>\n",
              "      <td>Desconhecido</td>\n",
              "      <td>25-44</td>\n",
              "      <td>Preta</td>\n",
              "      <td>Masculino</td>\n",
              "      <td>40.827462608,-73.939192193</td>\n",
              "      <td>Departamento de Polícia de Nova York</td>\n",
              "    </tr>\n",
              "    <tr>\n",
              "      <th>1557</th>\n",
              "      <td>Nova York</td>\n",
              "      <td>Homicídio Doloso</td>\n",
              "      <td>Brooklyn</td>\n",
              "      <td>2018-03-14 05:00:00</td>\n",
              "      <td>Madrugada</td>\n",
              "      <td>25-44</td>\n",
              "      <td>Preta</td>\n",
              "      <td>Masculino</td>\n",
              "      <td>45-64</td>\n",
              "      <td>Preta</td>\n",
              "      <td>Masculino</td>\n",
              "      <td>40.661502264,-73.907661037</td>\n",
              "      <td>Departamento de Polícia de Nova York</td>\n",
              "    </tr>\n",
              "    <tr>\n",
              "      <th>1558</th>\n",
              "      <td>Nova York</td>\n",
              "      <td>Homicídio Doloso</td>\n",
              "      <td>Bronx</td>\n",
              "      <td>2018-06-11 20:34:00</td>\n",
              "      <td>Noite</td>\n",
              "      <td>45-64</td>\n",
              "      <td>Preta</td>\n",
              "      <td>Masculino</td>\n",
              "      <td>65+</td>\n",
              "      <td>Desconhecido</td>\n",
              "      <td>Masculino</td>\n",
              "      <td>40.809042997,-73.913698516</td>\n",
              "      <td>Departamento de Polícia de Nova York</td>\n",
              "    </tr>\n",
              "  </tbody>\n",
              "</table>\n",
              "<p>1559 rows × 13 columns</p>\n",
              "</div>\n",
              "      <button class=\"colab-df-convert\" onclick=\"convertToInteractive('df-cce62b10-6ab6-46e0-9e02-d8b73f74abd0')\"\n",
              "              title=\"Convert this dataframe to an interactive table.\"\n",
              "              style=\"display:none;\">\n",
              "        \n",
              "  <svg xmlns=\"http://www.w3.org/2000/svg\" height=\"24px\"viewBox=\"0 0 24 24\"\n",
              "       width=\"24px\">\n",
              "    <path d=\"M0 0h24v24H0V0z\" fill=\"none\"/>\n",
              "    <path d=\"M18.56 5.44l.94 2.06.94-2.06 2.06-.94-2.06-.94-.94-2.06-.94 2.06-2.06.94zm-11 1L8.5 8.5l.94-2.06 2.06-.94-2.06-.94L8.5 2.5l-.94 2.06-2.06.94zm10 10l.94 2.06.94-2.06 2.06-.94-2.06-.94-.94-2.06-.94 2.06-2.06.94z\"/><path d=\"M17.41 7.96l-1.37-1.37c-.4-.4-.92-.59-1.43-.59-.52 0-1.04.2-1.43.59L10.3 9.45l-7.72 7.72c-.78.78-.78 2.05 0 2.83L4 21.41c.39.39.9.59 1.41.59.51 0 1.02-.2 1.41-.59l7.78-7.78 2.81-2.81c.8-.78.8-2.07 0-2.86zM5.41 20L4 18.59l7.72-7.72 1.47 1.35L5.41 20z\"/>\n",
              "  </svg>\n",
              "      </button>\n",
              "      \n",
              "  <style>\n",
              "    .colab-df-container {\n",
              "      display:flex;\n",
              "      flex-wrap:wrap;\n",
              "      gap: 12px;\n",
              "    }\n",
              "\n",
              "    .colab-df-convert {\n",
              "      background-color: #E8F0FE;\n",
              "      border: none;\n",
              "      border-radius: 50%;\n",
              "      cursor: pointer;\n",
              "      display: none;\n",
              "      fill: #1967D2;\n",
              "      height: 32px;\n",
              "      padding: 0 0 0 0;\n",
              "      width: 32px;\n",
              "    }\n",
              "\n",
              "    .colab-df-convert:hover {\n",
              "      background-color: #E2EBFA;\n",
              "      box-shadow: 0px 1px 2px rgba(60, 64, 67, 0.3), 0px 1px 3px 1px rgba(60, 64, 67, 0.15);\n",
              "      fill: #174EA6;\n",
              "    }\n",
              "\n",
              "    [theme=dark] .colab-df-convert {\n",
              "      background-color: #3B4455;\n",
              "      fill: #D2E3FC;\n",
              "    }\n",
              "\n",
              "    [theme=dark] .colab-df-convert:hover {\n",
              "      background-color: #434B5C;\n",
              "      box-shadow: 0px 1px 3px 1px rgba(0, 0, 0, 0.15);\n",
              "      filter: drop-shadow(0px 1px 2px rgba(0, 0, 0, 0.3));\n",
              "      fill: #FFFFFF;\n",
              "    }\n",
              "  </style>\n",
              "\n",
              "      <script>\n",
              "        const buttonEl =\n",
              "          document.querySelector('#df-cce62b10-6ab6-46e0-9e02-d8b73f74abd0 button.colab-df-convert');\n",
              "        buttonEl.style.display =\n",
              "          google.colab.kernel.accessAllowed ? 'block' : 'none';\n",
              "\n",
              "        async function convertToInteractive(key) {\n",
              "          const element = document.querySelector('#df-cce62b10-6ab6-46e0-9e02-d8b73f74abd0');\n",
              "          const dataTable =\n",
              "            await google.colab.kernel.invokeFunction('convertToInteractive',\n",
              "                                                     [key], {});\n",
              "          if (!dataTable) return;\n",
              "\n",
              "          const docLinkHtml = 'Like what you see? Visit the ' +\n",
              "            '<a target=\"_blank\" href=https://colab.research.google.com/notebooks/data_table.ipynb>data table notebook</a>'\n",
              "            + ' to learn more about interactive tables.';\n",
              "          element.innerHTML = '';\n",
              "          dataTable['output_type'] = 'display_data';\n",
              "          await google.colab.output.renderOutput(dataTable, element);\n",
              "          const docLink = document.createElement('div');\n",
              "          docLink.innerHTML = docLinkHtml;\n",
              "          element.appendChild(docLink);\n",
              "        }\n",
              "      </script>\n",
              "    </div>\n",
              "  </div>\n",
              "  "
            ]
          },
          "metadata": {},
          "execution_count": 71
        }
      ]
    },
    {
      "cell_type": "markdown",
      "source": [
        "###⬆️ **Envio ao MongoDB**"
      ],
      "metadata": {
        "id": "sRuDmnq4eT3-"
      }
    },
    {
      "cell_type": "code",
      "source": [
        "# Conector do mongo atlas\n",
        "uri = \"mongodb+srv://cluster0.2qynihy.mongodb.net/?authSource=%24external&authMechanism=MONGODB-X509&retryWrites=true&w=majority\"\n",
        "client = MongoClient(uri, \n",
        "                     tls=True,\n",
        "                     tlsCertificateKeyFile='/content/X509-cert-7694731329810785124.pem')"
      ],
      "metadata": {
        "id": "Rhe3lK5bd2Zz"
      },
      "execution_count": 72,
      "outputs": []
    },
    {
      "cell_type": "code",
      "source": [
        "# Escolha/crie o database e colecao\n",
        "db = client['projeto_final']\n",
        "colecao = db['ny_geral_tratado']\n",
        "\n",
        "# Verificar conexão / Qtd. documentos da coleção\n",
        "colecao.count_documents({})"
      ],
      "metadata": {
        "colab": {
          "base_uri": "https://localhost:8080/"
        },
        "id": "zNtYy8cypGrc",
        "outputId": "ea66ab86-df26-49a6-afdd-77c0fa070b46"
      },
      "execution_count": 73,
      "outputs": [
        {
          "output_type": "execute_result",
          "data": {
            "text/plain": [
              "0"
            ]
          },
          "metadata": {},
          "execution_count": 73
        }
      ]
    },
    {
      "cell_type": "code",
      "source": [
        "# Enviar o DF para colecao selecionada no mongo\n",
        "colecao.drop()\n",
        "df_dict = df_tratado.to_dict(\"records\")\n",
        "colecao.insert_many(df_dict)"
      ],
      "metadata": {
        "colab": {
          "base_uri": "https://localhost:8080/"
        },
        "id": "qM6C4GW5p4tk",
        "outputId": "606a4bce-21f6-46c9-a5ee-48854bdeeab6"
      },
      "execution_count": 74,
      "outputs": [
        {
          "output_type": "execute_result",
          "data": {
            "text/plain": [
              "<pymongo.results.InsertManyResult at 0x7f32a37c9280>"
            ]
          },
          "metadata": {},
          "execution_count": 74
        }
      ]
    },
    {
      "cell_type": "code",
      "source": [
        "colecao.count_documents({})"
      ],
      "metadata": {
        "colab": {
          "base_uri": "https://localhost:8080/"
        },
        "id": "a-QQBSYIpu5y",
        "outputId": "700d4e49-8920-4dde-b95b-548599134e9f"
      },
      "execution_count": 75,
      "outputs": [
        {
          "output_type": "execute_result",
          "data": {
            "text/plain": [
              "1559"
            ]
          },
          "metadata": {},
          "execution_count": 75
        }
      ]
    },
    {
      "cell_type": "markdown",
      "source": [
        "###⬆️ **Envio ao Google Cloud Storage**"
      ],
      "metadata": {
        "id": "XoB0A9p2jvI4"
      }
    },
    {
      "cell_type": "code",
      "source": [
        "# Configuração da chave de segurança\n",
        "serviceAccount = '/content/chave-projeto-final.json'\n",
        "os.environ['GOOGLE_APPLICATION_CREDENTIALS'] = serviceAccount"
      ],
      "metadata": {
        "id": "5PEtxBtgj5dy"
      },
      "execution_count": 76,
      "outputs": []
    },
    {
      "cell_type": "code",
      "source": [
        "# Função para fazer upload de arquivo no bucket\n",
        "def upload_blob(bucket, arquivo, destino):\n",
        "    client = storage.Client()\n",
        "    bucket = client.bucket(bucket)\n",
        "    blob = bucket.blob(destino)\n",
        "\n",
        "    blob.upload_from_filename(arquivo)\n",
        "\n",
        "    print(\n",
        "        f\"Arquivo {arquivo} enviado a {destino}.\"\n",
        "    )"
      ],
      "metadata": {
        "id": "0jGAqvOujrBx"
      },
      "execution_count": 77,
      "outputs": []
    },
    {
      "cell_type": "code",
      "source": [
        "# Upload do arquivo \n",
        "bucket = 'projeto_final_soulcode'\n",
        "arquivo = '/content/ny_geral_tratado.csv'\n",
        "destino = 'Arquivos_Tratados/ny_geral_tratado.csv'\n",
        "upload_blob(bucket, arquivo, destino)"
      ],
      "metadata": {
        "colab": {
          "base_uri": "https://localhost:8080/"
        },
        "id": "XcwAEV9Cj9ww",
        "outputId": "98ceb11e-3d60-416b-cb36-92055fdf2323"
      },
      "execution_count": 78,
      "outputs": [
        {
          "output_type": "stream",
          "name": "stdout",
          "text": [
            "Arquivo /content/ny_geral_tratado.csv enviado a Arquivos_Tratados/ny_geral_tratado.csv.\n"
          ]
        }
      ]
    },
    {
      "cell_type": "code",
      "source": [
        "path_tratado = 'gs://projeto_final_soulcode/Arquivos_Tratados/ny_geral_tratado.csv'"
      ],
      "metadata": {
        "id": "Djnse8a_k3rC"
      },
      "execution_count": 79,
      "outputs": []
    },
    {
      "cell_type": "code",
      "source": [
        "# Conferindo se o carregamento deu certo\n",
        "df_tratado = (\n",
        "    spark.read.format('csv')\n",
        "              .option('header', 'true')\n",
        "              .option('delimiter', ',')\n",
        "              .load(path_tratado)\n",
        ")"
      ],
      "metadata": {
        "id": "4mFSq4vdkDjI"
      },
      "execution_count": 80,
      "outputs": []
    },
    {
      "cell_type": "code",
      "source": [
        "df_tratado.show(truncate=False)"
      ],
      "metadata": {
        "colab": {
          "base_uri": "https://localhost:8080/"
        },
        "id": "ms6p29Epk_ja",
        "outputId": "ef82dcd7-c4af-416f-e0e3-576346fd848f"
      },
      "execution_count": 81,
      "outputs": [
        {
          "output_type": "stream",
          "name": "stdout",
          "text": [
            "+---------+----------------+-------------+-------------------+------------------+---------------------+-----------------+-------------+-------------------+---------------+-----------+--------------------------+------------------------------------+\n",
            "|cidade   |tipo_crime      |distrito     |data_ocorrencia    |periodo_ocorrencia|faixa_etaria_suspeito|cor_pele_suspeito|sexo_suspeito|faixa_etaria_vitima|cor_pele_vitima|sexo_vitima|latitude_longitude        |desc_foro                           |\n",
            "+---------+----------------+-------------+-------------------+------------------+---------------------+-----------------+-------------+-------------------+---------------+-----------+--------------------------+------------------------------------+\n",
            "|Nova York|Homicídio Doloso|Bronx        |2018-07-09 14:25:00|Tarde             |25-44                |Branca           |Masculino    |25-44              |Preta          |Masculino  |40.804012949,-73.878331833|Outro                               |\n",
            "|Nova York|Homicídio Doloso|Brooklyn     |2018-03-14 05:00:00|Madrugada         |25-44                |Preta            |Masculino    |<18                |Preta          |Feminino   |40.661502264,-73.907661037|Departamento de Polícia de Nova York|\n",
            "|Nova York|Homicídio Doloso|Brooklyn     |2018-04-18 20:40:00|Noite             |Desconhecido         |Desconhecido     |Desconhecido |25-44              |Preta          |Masculino  |40.693667261,-73.94451783 |Departamento de Polícia de Nova York|\n",
            "|Nova York|Homicídio Doloso|Manhattan    |2018-05-18 08:05:00|Manhã             |45-64                |Preta            |Feminino     |<18                |Branca         |Masculino  |40.755701867,-73.978221916|Departamento de Polícia de Nova York|\n",
            "|Nova York|Homicídio Doloso|Bronx        |2018-09-10 08:00:00|Manhã             |45-64                |Preta            |Masculino    |45-64              |Preta          |Feminino   |40.846391886,-73.88412771 |Departamento de Polícia de Nova York|\n",
            "|Nova York|Homicídio Doloso|Bronx        |2018-12-10 17:58:00|Tarde             |18-24                |Branca           |Masculino    |<18                |Branca         |Masculino  |40.865658464,-73.891310558|Departamento de Polícia de Nova York|\n",
            "|Nova York|Homicídio Doloso|Brooklyn     |2018-06-07 22:35:00|Noite             |18-24                |Branca           |Masculino    |18-24              |Amarela        |Masculino  |40.649370543,-73.960875898|Departamento de Polícia de Nova York|\n",
            "|Nova York|Homicídio Doloso|Queens       |2018-08-13 11:00:00|Manhã             |25-44                |Amarela          |Masculino    |45-64              |Amarela        |Masculino  |40.75423956,-73.83034561  |Departamento de Polícia de Nova York|\n",
            "|Nova York|Homicídio Doloso|Bronx        |2018-11-15 12:00:00|Tarde             |25-44                |Preta            |Feminino     |18-24              |Preta          |Masculino  |40.887332818,-73.847250013|Polícia de Moradia de Nova York     |\n",
            "|Nova York|Homicídio Doloso|Brooklyn     |2018-04-17 16:05:00|Tarde             |25-44                |Preta            |Masculino    |45-64              |Preta          |Masculino  |40.691532006,-73.91362704 |Departamento de Polícia de Nova York|\n",
            "|Nova York|Homicídio Doloso|Bronx        |2018-06-19 16:06:00|Tarde             |25-44                |Branca           |Masculino    |18-24              |Branca         |Masculino  |40.843471589,-73.866426662|Departamento de Polícia de Nova York|\n",
            "|Nova York|Homicídio Doloso|Brooklyn     |2018-10-05 18:56:00|Noite             |Desconhecido         |Desconhecido     |Desconhecido |18-24              |Desconhecido   |Feminino   |40.672089966,-73.890155181|Departamento de Polícia de Nova York|\n",
            "|Nova York|Homicídio Doloso|Staten Island|2018-12-21 16:30:00|Tarde             |25-44                |Branca           |Masculino    |25-44              |Branca         |Masculino  |40.632290269,-74.107267443|Departamento de Polícia de Nova York|\n",
            "|Nova York|Homicídio Doloso|Queens       |2018-12-16 11:58:00|Manhã             |18-24                |Branca           |Masculino    |18-24              |Branca         |Masculino  |40.602745951,-73.750077865|Departamento de Polícia de Nova York|\n",
            "|Nova York|Homicídio Doloso|Bronx        |2018-02-15 22:05:00|Noite             |18-24                |Branca           |Masculino    |25-44              |Branca         |Masculino  |40.860158821,-73.870731317|Departamento de Polícia de Nova York|\n",
            "|Nova York|Homicídio Doloso|Brooklyn     |2018-05-23 12:45:00|Tarde             |18-24                |Preta            |Masculino    |18-24              |Preta          |Masculino  |40.70812437,-73.951528419 |Departamento de Polícia de Nova York|\n",
            "|Nova York|Homicídio Doloso|Bronx        |2018-12-14 00:42:00|Madrugada         |25-44                |Branca           |Masculino    |18-24              |Branca         |Masculino  |40.839739531,-73.913178032|Departamento de Polícia de Nova York|\n",
            "|Nova York|Homicídio Doloso|Bronx        |2018-08-31 00:37:00|Madrugada         |18-24                |Preta            |Masculino    |18-24              |Branca         |Masculino  |40.880400291,-73.90375164 |Departamento de Polícia de Nova York|\n",
            "|Nova York|Homicídio Doloso|Bronx        |2018-05-24 22:34:00|Noite             |25-44                |Preta            |Masculino    |<18                |Preta          |Masculino  |40.825057345,-73.868862814|Polícia de Moradia de Nova York     |\n",
            "|Nova York|Homicídio Doloso|Manhattan    |2018-05-20 02:03:00|Madrugada         |Desconhecido         |Desconhecido     |Desconhecido |25-44              |Preta          |Masculino  |40.826225799,-73.946889641|Departamento de Polícia de Nova York|\n",
            "+---------+----------------+-------------+-------------------+------------------+---------------------+-----------------+-------------+-------------------+---------------+-----------+--------------------------+------------------------------------+\n",
            "only showing top 20 rows\n",
            "\n"
          ]
        }
      ]
    },
    {
      "cell_type": "code",
      "source": [
        "df_tratado.printSchema()"
      ],
      "metadata": {
        "colab": {
          "base_uri": "https://localhost:8080/"
        },
        "id": "aX9Dj242lYAh",
        "outputId": "afd8020d-3dd1-43f9-fb2e-d25746814423"
      },
      "execution_count": 82,
      "outputs": [
        {
          "output_type": "stream",
          "name": "stdout",
          "text": [
            "root\n",
            " |-- cidade: string (nullable = true)\n",
            " |-- tipo_crime: string (nullable = true)\n",
            " |-- distrito: string (nullable = true)\n",
            " |-- data_ocorrencia: string (nullable = true)\n",
            " |-- periodo_ocorrencia: string (nullable = true)\n",
            " |-- faixa_etaria_suspeito: string (nullable = true)\n",
            " |-- cor_pele_suspeito: string (nullable = true)\n",
            " |-- sexo_suspeito: string (nullable = true)\n",
            " |-- faixa_etaria_vitima: string (nullable = true)\n",
            " |-- cor_pele_vitima: string (nullable = true)\n",
            " |-- sexo_vitima: string (nullable = true)\n",
            " |-- latitude_longitude: string (nullable = true)\n",
            " |-- desc_foro: string (nullable = true)\n",
            "\n"
          ]
        }
      ]
    },
    {
      "cell_type": "markdown",
      "source": [
        "## 📈 **8 - Criando os insigths preliminares**"
      ],
      "metadata": {
        "id": "VHoZ90fUdkac"
      }
    },
    {
      "cell_type": "markdown",
      "source": [
        "### 🔎 **Spark SQL**"
      ],
      "metadata": {
        "id": "bEdSSXYpdypE"
      }
    },
    {
      "cell_type": "code",
      "source": [
        "# Criando database ny\n",
        "spark.sql('create database ny').show()"
      ],
      "metadata": {
        "colab": {
          "base_uri": "https://localhost:8080/"
        },
        "id": "ET0B2PbkyOLl",
        "outputId": "119da157-6f81-4314-95de-de675cca1e6b"
      },
      "execution_count": 83,
      "outputs": [
        {
          "output_type": "stream",
          "name": "stdout",
          "text": [
            "++\n",
            "||\n",
            "++\n",
            "++\n",
            "\n"
          ]
        }
      ]
    },
    {
      "cell_type": "code",
      "source": [
        "# Verificando se foi criada\n",
        "spark.sql('show databases').show()"
      ],
      "metadata": {
        "colab": {
          "base_uri": "https://localhost:8080/"
        },
        "id": "0xdv9iMzyYOO",
        "outputId": "e0256a2d-f1e5-47a1-a6c6-cf715e24554d"
      },
      "execution_count": 84,
      "outputs": [
        {
          "output_type": "stream",
          "name": "stdout",
          "text": [
            "+---------+\n",
            "|namespace|\n",
            "+---------+\n",
            "|  default|\n",
            "|       ny|\n",
            "+---------+\n",
            "\n"
          ]
        }
      ]
    },
    {
      "cell_type": "code",
      "source": [
        "# Escolhendo o database\n",
        "spark.sql('use ny')"
      ],
      "metadata": {
        "colab": {
          "base_uri": "https://localhost:8080/"
        },
        "id": "n6KgRTycyYMF",
        "outputId": "b9ac961a-872a-4902-ec7a-f6f80b69227d"
      },
      "execution_count": 85,
      "outputs": [
        {
          "output_type": "execute_result",
          "data": {
            "text/plain": [
              "DataFrame[]"
            ]
          },
          "metadata": {},
          "execution_count": 85
        }
      ]
    },
    {
      "cell_type": "code",
      "source": [
        "# Transformando df em table\n",
        "df_tratado.write.saveAsTable('ny_tratado')"
      ],
      "metadata": {
        "id": "h6cmFduWyYCl"
      },
      "execution_count": 86,
      "outputs": []
    },
    {
      "cell_type": "code",
      "source": [
        "# Verificando se foi criada\n",
        "spark.sql('show tables').show()"
      ],
      "metadata": {
        "colab": {
          "base_uri": "https://localhost:8080/"
        },
        "id": "MKgZuQq_zP1V",
        "outputId": "c6675b43-f623-4d3d-9fd3-c672f3f66385"
      },
      "execution_count": 87,
      "outputs": [
        {
          "output_type": "stream",
          "name": "stdout",
          "text": [
            "+---------+----------+-----------+\n",
            "|namespace| tableName|isTemporary|\n",
            "+---------+----------+-----------+\n",
            "|       ny|ny_tratado|      false|\n",
            "+---------+----------+-----------+\n",
            "\n"
          ]
        }
      ]
    },
    {
      "cell_type": "code",
      "source": [
        "# Mostrando todos os dados da tabela\n",
        "spark.sql('select * from ny_tratado').show(truncate=False)"
      ],
      "metadata": {
        "colab": {
          "base_uri": "https://localhost:8080/"
        },
        "id": "xZC-lIUrzTB1",
        "outputId": "cb820527-6384-457c-9576-9332d2b31634"
      },
      "execution_count": 88,
      "outputs": [
        {
          "output_type": "stream",
          "name": "stdout",
          "text": [
            "+---------+----------------+-------------+-------------------+------------------+---------------------+-----------------+-------------+-------------------+---------------+-----------+--------------------------+------------------------------------+\n",
            "|cidade   |tipo_crime      |distrito     |data_ocorrencia    |periodo_ocorrencia|faixa_etaria_suspeito|cor_pele_suspeito|sexo_suspeito|faixa_etaria_vitima|cor_pele_vitima|sexo_vitima|latitude_longitude        |desc_foro                           |\n",
            "+---------+----------------+-------------+-------------------+------------------+---------------------+-----------------+-------------+-------------------+---------------+-----------+--------------------------+------------------------------------+\n",
            "|Nova York|Homicídio Doloso|Bronx        |2018-07-09 14:25:00|Tarde             |25-44                |Branca           |Masculino    |25-44              |Preta          |Masculino  |40.804012949,-73.878331833|Outro                               |\n",
            "|Nova York|Homicídio Doloso|Brooklyn     |2018-03-14 05:00:00|Madrugada         |25-44                |Preta            |Masculino    |<18                |Preta          |Feminino   |40.661502264,-73.907661037|Departamento de Polícia de Nova York|\n",
            "|Nova York|Homicídio Doloso|Brooklyn     |2018-04-18 20:40:00|Noite             |Desconhecido         |Desconhecido     |Desconhecido |25-44              |Preta          |Masculino  |40.693667261,-73.94451783 |Departamento de Polícia de Nova York|\n",
            "|Nova York|Homicídio Doloso|Manhattan    |2018-05-18 08:05:00|Manhã             |45-64                |Preta            |Feminino     |<18                |Branca         |Masculino  |40.755701867,-73.978221916|Departamento de Polícia de Nova York|\n",
            "|Nova York|Homicídio Doloso|Bronx        |2018-09-10 08:00:00|Manhã             |45-64                |Preta            |Masculino    |45-64              |Preta          |Feminino   |40.846391886,-73.88412771 |Departamento de Polícia de Nova York|\n",
            "|Nova York|Homicídio Doloso|Bronx        |2018-12-10 17:58:00|Tarde             |18-24                |Branca           |Masculino    |<18                |Branca         |Masculino  |40.865658464,-73.891310558|Departamento de Polícia de Nova York|\n",
            "|Nova York|Homicídio Doloso|Brooklyn     |2018-06-07 22:35:00|Noite             |18-24                |Branca           |Masculino    |18-24              |Amarela        |Masculino  |40.649370543,-73.960875898|Departamento de Polícia de Nova York|\n",
            "|Nova York|Homicídio Doloso|Queens       |2018-08-13 11:00:00|Manhã             |25-44                |Amarela          |Masculino    |45-64              |Amarela        |Masculino  |40.75423956,-73.83034561  |Departamento de Polícia de Nova York|\n",
            "|Nova York|Homicídio Doloso|Bronx        |2018-11-15 12:00:00|Tarde             |25-44                |Preta            |Feminino     |18-24              |Preta          |Masculino  |40.887332818,-73.847250013|Polícia de Moradia de Nova York     |\n",
            "|Nova York|Homicídio Doloso|Brooklyn     |2018-04-17 16:05:00|Tarde             |25-44                |Preta            |Masculino    |45-64              |Preta          |Masculino  |40.691532006,-73.91362704 |Departamento de Polícia de Nova York|\n",
            "|Nova York|Homicídio Doloso|Bronx        |2018-06-19 16:06:00|Tarde             |25-44                |Branca           |Masculino    |18-24              |Branca         |Masculino  |40.843471589,-73.866426662|Departamento de Polícia de Nova York|\n",
            "|Nova York|Homicídio Doloso|Brooklyn     |2018-10-05 18:56:00|Noite             |Desconhecido         |Desconhecido     |Desconhecido |18-24              |Desconhecido   |Feminino   |40.672089966,-73.890155181|Departamento de Polícia de Nova York|\n",
            "|Nova York|Homicídio Doloso|Staten Island|2018-12-21 16:30:00|Tarde             |25-44                |Branca           |Masculino    |25-44              |Branca         |Masculino  |40.632290269,-74.107267443|Departamento de Polícia de Nova York|\n",
            "|Nova York|Homicídio Doloso|Queens       |2018-12-16 11:58:00|Manhã             |18-24                |Branca           |Masculino    |18-24              |Branca         |Masculino  |40.602745951,-73.750077865|Departamento de Polícia de Nova York|\n",
            "|Nova York|Homicídio Doloso|Bronx        |2018-02-15 22:05:00|Noite             |18-24                |Branca           |Masculino    |25-44              |Branca         |Masculino  |40.860158821,-73.870731317|Departamento de Polícia de Nova York|\n",
            "|Nova York|Homicídio Doloso|Brooklyn     |2018-05-23 12:45:00|Tarde             |18-24                |Preta            |Masculino    |18-24              |Preta          |Masculino  |40.70812437,-73.951528419 |Departamento de Polícia de Nova York|\n",
            "|Nova York|Homicídio Doloso|Bronx        |2018-12-14 00:42:00|Madrugada         |25-44                |Branca           |Masculino    |18-24              |Branca         |Masculino  |40.839739531,-73.913178032|Departamento de Polícia de Nova York|\n",
            "|Nova York|Homicídio Doloso|Bronx        |2018-08-31 00:37:00|Madrugada         |18-24                |Preta            |Masculino    |18-24              |Branca         |Masculino  |40.880400291,-73.90375164 |Departamento de Polícia de Nova York|\n",
            "|Nova York|Homicídio Doloso|Bronx        |2018-05-24 22:34:00|Noite             |25-44                |Preta            |Masculino    |<18                |Preta          |Masculino  |40.825057345,-73.868862814|Polícia de Moradia de Nova York     |\n",
            "|Nova York|Homicídio Doloso|Manhattan    |2018-05-20 02:03:00|Madrugada         |Desconhecido         |Desconhecido     |Desconhecido |25-44              |Preta          |Masculino  |40.826225799,-73.946889641|Departamento de Polícia de Nova York|\n",
            "+---------+----------------+-------------+-------------------+------------------+---------------------+-----------------+-------------+-------------------+---------------+-----------+--------------------------+------------------------------------+\n",
            "only showing top 20 rows\n",
            "\n"
          ]
        }
      ]
    },
    {
      "cell_type": "code",
      "source": [
        "# Distrito com mais crimes de morte\n",
        "spark.sql('''\n",
        "SELECT\n",
        "  distrito,\n",
        "  COUNT(*) AS crimes_morte\n",
        "FROM\n",
        "  ny_tratado\n",
        "GROUP BY\n",
        "  distrito\n",
        "ORDER BY\n",
        "  crimes_morte DESC\n",
        "''').show(truncate=False)"
      ],
      "metadata": {
        "colab": {
          "base_uri": "https://localhost:8080/"
        },
        "id": "JnPmTxfiafiY",
        "outputId": "485dafac-d6e3-416c-b511-acd40813e1a6"
      },
      "execution_count": 89,
      "outputs": [
        {
          "output_type": "stream",
          "name": "stdout",
          "text": [
            "+-------------+------------+\n",
            "|distrito     |crimes_morte|\n",
            "+-------------+------------+\n",
            "|Brooklyn     |517         |\n",
            "|Bronx        |435         |\n",
            "|Queens       |280         |\n",
            "|Manhattan    |263         |\n",
            "|Staten Island|61          |\n",
            "|Desconhecido |3           |\n",
            "+-------------+------------+\n",
            "\n"
          ]
        }
      ]
    },
    {
      "cell_type": "code",
      "source": [
        "# Sexo da vítima em crimes de morte\n",
        "spark.sql('''\n",
        "SELECT\n",
        "  sexo_vitima,\n",
        "  COUNT(*) AS crimes_morte\n",
        "FROM\n",
        "  ny_tratado\n",
        "GROUP BY\n",
        "  sexo_vitima\n",
        "ORDER BY\n",
        "  crimes_morte DESC\n",
        "''').show(truncate=False)"
      ],
      "metadata": {
        "colab": {
          "base_uri": "https://localhost:8080/"
        },
        "id": "2aSj5WYCxJjD",
        "outputId": "ab7a326a-ef6b-44c2-d739-71314a0739f0"
      },
      "execution_count": 90,
      "outputs": [
        {
          "output_type": "stream",
          "name": "stdout",
          "text": [
            "+------------+------------+\n",
            "|sexo_vitima |crimes_morte|\n",
            "+------------+------------+\n",
            "|Masculino   |1319        |\n",
            "|Feminino    |238         |\n",
            "|Desconhecido|2           |\n",
            "+------------+------------+\n",
            "\n"
          ]
        }
      ]
    },
    {
      "cell_type": "code",
      "source": [
        "# Sexo do suspeito em crimes de morte\n",
        "spark.sql('''\n",
        "SELECT\n",
        "  sexo_suspeito,\n",
        "  COUNT(*) AS crimes_morte\n",
        "FROM\n",
        "  ny_tratado\n",
        "GROUP BY\n",
        "  sexo_suspeito\n",
        "ORDER BY\n",
        "  crimes_morte DESC\n",
        "''').show(truncate=False)"
      ],
      "metadata": {
        "colab": {
          "base_uri": "https://localhost:8080/"
        },
        "id": "W75-sHojxZjk",
        "outputId": "4344ca3b-78de-4bd1-b0d5-0ad18cd1c11f"
      },
      "execution_count": 91,
      "outputs": [
        {
          "output_type": "stream",
          "name": "stdout",
          "text": [
            "+-------------+------------+\n",
            "|sexo_suspeito|crimes_morte|\n",
            "+-------------+------------+\n",
            "|Masculino    |930         |\n",
            "|Desconhecido |556         |\n",
            "|Feminino     |73          |\n",
            "+-------------+------------+\n",
            "\n"
          ]
        }
      ]
    },
    {
      "cell_type": "code",
      "source": [
        "# PerÍodo do dia com mais crimes de morte\n",
        "spark.sql('''\n",
        "SELECT\n",
        "  periodo_ocorrencia,\n",
        "  COUNT(*) AS crimes_morte\n",
        "FROM\n",
        "  ny_tratado\n",
        "GROUP BY\n",
        "  periodo_ocorrencia\n",
        "ORDER BY\n",
        "  crimes_morte DESC\n",
        "''').show(truncate=False)"
      ],
      "metadata": {
        "colab": {
          "base_uri": "https://localhost:8080/"
        },
        "id": "hmWOJ8TtbzIv",
        "outputId": "8e4477b3-2709-46b7-b72a-d8b116d8b112"
      },
      "execution_count": 92,
      "outputs": [
        {
          "output_type": "stream",
          "name": "stdout",
          "text": [
            "+------------------+------------+\n",
            "|periodo_ocorrencia|crimes_morte|\n",
            "+------------------+------------+\n",
            "|Noite             |577         |\n",
            "|Madrugada         |453         |\n",
            "|Tarde             |352         |\n",
            "|Manhã             |177         |\n",
            "+------------------+------------+\n",
            "\n"
          ]
        }
      ]
    },
    {
      "cell_type": "code",
      "source": [
        "# Faixa etária da vítima\n",
        "spark.sql('''\n",
        "SELECT\n",
        "  faixa_etaria_vitima,\n",
        "  COUNT(*) AS crimes_morte\n",
        "FROM\n",
        "  ny_tratado\n",
        "WHERE\n",
        "  NOT faixa_etaria_vitima = \"Desconhecido\"\n",
        "GROUP BY\n",
        "  faixa_etaria_vitima\n",
        "ORDER BY\n",
        "  crimes_morte DESC\n",
        "''').show(truncate=False)"
      ],
      "metadata": {
        "colab": {
          "base_uri": "https://localhost:8080/"
        },
        "id": "wg9VfGhhcGeJ",
        "outputId": "61e76b13-e6c5-4e97-c859-96263ac9e97a"
      },
      "execution_count": 93,
      "outputs": [
        {
          "output_type": "stream",
          "name": "stdout",
          "text": [
            "+-------------------+------------+\n",
            "|faixa_etaria_vitima|crimes_morte|\n",
            "+-------------------+------------+\n",
            "|25-44              |803         |\n",
            "|18-24              |299         |\n",
            "|45-64              |245         |\n",
            "|<18                |98          |\n",
            "|65+                |86          |\n",
            "+-------------------+------------+\n",
            "\n"
          ]
        }
      ]
    },
    {
      "cell_type": "code",
      "source": [
        "# Faixa etária do suspeito\n",
        "spark.sql('''\n",
        "SELECT\n",
        "  faixa_etaria_suspeito,\n",
        "  COUNT(*) AS crimes_morte\n",
        "FROM\n",
        "  ny_tratado\n",
        "WHERE\n",
        "  NOT faixa_etaria_suspeito = \"Desconhecido\"\n",
        "GROUP BY\n",
        "  faixa_etaria_suspeito\n",
        "ORDER BY\n",
        "  crimes_morte DESC\n",
        "''').show(truncate=False)"
      ],
      "metadata": {
        "colab": {
          "base_uri": "https://localhost:8080/"
        },
        "id": "en513h_OxrxN",
        "outputId": "3367e374-74c5-46f2-cf4e-95c1d7fc8486"
      },
      "execution_count": 94,
      "outputs": [
        {
          "output_type": "stream",
          "name": "stdout",
          "text": [
            "+---------------------+------------+\n",
            "|faixa_etaria_suspeito|crimes_morte|\n",
            "+---------------------+------------+\n",
            "|25-44                |542         |\n",
            "|18-24                |243         |\n",
            "|45-64                |151         |\n",
            "|<18                  |51          |\n",
            "|65+                  |9           |\n",
            "+---------------------+------------+\n",
            "\n"
          ]
        }
      ]
    },
    {
      "cell_type": "code",
      "source": [
        "# Cor de pele do suspeito de crimes de morte por distrito\n",
        "spark.sql('''\n",
        "SELECT\n",
        "  distrito,\n",
        "  cor_pele_suspeito,\n",
        "  COUNT(*) AS crimes_morte\n",
        "FROM\n",
        "  ny_tratado\n",
        "WHERE\n",
        "  NOT cor_pele_suspeito = \"Desconhecido\"\n",
        "GROUP BY\n",
        "  distrito,\n",
        "  cor_pele_suspeito\n",
        "ORDER BY\n",
        "  distrito,\n",
        "  crimes_morte DESC\n",
        "''').show(truncate=False)"
      ],
      "metadata": {
        "colab": {
          "base_uri": "https://localhost:8080/"
        },
        "id": "uP5pntwGcc9n",
        "outputId": "211a7bb0-fad9-4515-b2ad-a8c8930b4d20"
      },
      "execution_count": 95,
      "outputs": [
        {
          "output_type": "stream",
          "name": "stdout",
          "text": [
            "+-------------+-----------------+------------+\n",
            "|distrito     |cor_pele_suspeito|crimes_morte|\n",
            "+-------------+-----------------+------------+\n",
            "|Bronx        |Preta            |243         |\n",
            "|Bronx        |Branca           |85          |\n",
            "|Bronx        |Amarela          |1           |\n",
            "|Brooklyn     |Preta            |222         |\n",
            "|Brooklyn     |Branca           |47          |\n",
            "|Brooklyn     |Amarela          |5           |\n",
            "|Manhattan    |Preta            |130         |\n",
            "|Manhattan    |Branca           |50          |\n",
            "|Manhattan    |Amarela          |2           |\n",
            "|Queens       |Preta            |89          |\n",
            "|Queens       |Branca           |56          |\n",
            "|Queens       |Amarela          |23          |\n",
            "|Staten Island|Preta            |21          |\n",
            "|Staten Island|Branca           |16          |\n",
            "|Staten Island|Amarela          |2           |\n",
            "+-------------+-----------------+------------+\n",
            "\n"
          ]
        }
      ]
    },
    {
      "cell_type": "code",
      "source": [
        "# Cor de pele da vítima de crimes de morte por distrito\n",
        "spark.sql('''\n",
        "SELECT\n",
        "  distrito,\n",
        "  cor_pele_vitima,\n",
        "  COUNT(*) AS crimes_morte\n",
        "FROM\n",
        "  ny_tratado\n",
        "WHERE\n",
        "  NOT cor_pele_vitima = \"Desconhecido\"\n",
        "GROUP BY\n",
        "  distrito,\n",
        "  cor_pele_vitima\n",
        "ORDER BY\n",
        "  distrito,\n",
        "  crimes_morte DESC\n",
        "''').show(truncate=False)"
      ],
      "metadata": {
        "colab": {
          "base_uri": "https://localhost:8080/"
        },
        "id": "L3YEp23XdvTo",
        "outputId": "1d91855a-2a26-48e0-adcd-f0022dffc6be"
      },
      "execution_count": 96,
      "outputs": [
        {
          "output_type": "stream",
          "name": "stdout",
          "text": [
            "+-------------+-----------------+------------+\n",
            "|distrito     |cor_pele_vitima  |crimes_morte|\n",
            "+-------------+-----------------+------------+\n",
            "|Bronx        |Preta            |300         |\n",
            "|Bronx        |Branca           |124         |\n",
            "|Bronx        |Amarela          |2           |\n",
            "|Brooklyn     |Preta            |406         |\n",
            "|Brooklyn     |Branca           |89          |\n",
            "|Brooklyn     |Amarela          |17          |\n",
            "|Desconhecido |Preta            |2           |\n",
            "|Desconhecido |Branca           |1           |\n",
            "|Manhattan    |Preta            |164         |\n",
            "|Manhattan    |Branca           |84          |\n",
            "|Manhattan    |Amarela          |12          |\n",
            "|Queens       |Preta            |163         |\n",
            "|Queens       |Branca           |91          |\n",
            "|Queens       |Amarela          |24          |\n",
            "|Queens       |Povos originários|1           |\n",
            "|Staten Island|Preta            |36          |\n",
            "|Staten Island|Branca           |23          |\n",
            "|Staten Island|Amarela          |1           |\n",
            "+-------------+-----------------+------------+\n",
            "\n"
          ]
        }
      ]
    },
    {
      "cell_type": "code",
      "source": [
        "# Meses com mais crimes de morte\n",
        "spark.sql('''\n",
        "SELECT\n",
        "  CASE MONTH(data_ocorrencia)\n",
        "    WHEN 1 THEN 'Janeiro'\n",
        "    WHEN 2 THEN 'Fevereiro'\n",
        "    WHEN 3 THEN 'Março'\n",
        "    WHEN 4 THEN 'Abril'\n",
        "    WHEN 5 THEN 'Maio'\n",
        "    WHEN 6 THEN 'Junho'\n",
        "    WHEN 7 THEN 'Julho'\n",
        "    WHEN 8 THEN 'Agosto'\n",
        "    WHEN 9 THEN 'Setembro'\n",
        "    WHEN 10 THEN 'Outubro'\n",
        "    WHEN 11 THEN 'Novembro'\n",
        "    WHEN 12 THEN 'Dezembro'\n",
        "END\n",
        "  AS mes,\n",
        "  COUNT(*) AS crimes_morte\n",
        "FROM\n",
        "  ny_tratado\n",
        "GROUP BY\n",
        "  mes\n",
        "ORDER BY\n",
        "  crimes_morte DESC\n",
        "''').show(truncate=False)"
      ],
      "metadata": {
        "colab": {
          "base_uri": "https://localhost:8080/"
        },
        "id": "i_gTMigGlglX",
        "outputId": "1636791e-e073-4040-961b-3bac096393fd"
      },
      "execution_count": 97,
      "outputs": [
        {
          "output_type": "stream",
          "name": "stdout",
          "text": [
            "+---------+------------+\n",
            "|mes      |crimes_morte|\n",
            "+---------+------------+\n",
            "|Agosto   |179         |\n",
            "|Setembro |172         |\n",
            "|Julho    |156         |\n",
            "|Junho    |146         |\n",
            "|Outubro  |142         |\n",
            "|Maio     |129         |\n",
            "|Abril    |127         |\n",
            "|Dezembro |118         |\n",
            "|Janeiro  |103         |\n",
            "|Março    |101         |\n",
            "|Novembro |100         |\n",
            "|Fevereiro|86          |\n",
            "+---------+------------+\n",
            "\n"
          ]
        }
      ]
    },
    {
      "cell_type": "code",
      "source": [
        "# Dias da semana com mais crimes de morte\n",
        "spark.sql('''\n",
        "SELECT\n",
        "  CASE DAYOFWEEK(data_ocorrencia)\n",
        "    WHEN 1 THEN 'Domingo'\n",
        "    WHEN 2 THEN 'Segunda'\n",
        "    WHEN 3 THEN 'Terça'\n",
        "    WHEN 4 THEN 'Quarta'\n",
        "    WHEN 5 THEN 'Quinta'\n",
        "    WHEN 6 THEN 'Sexta'\n",
        "    WHEN 7 THEN 'Sábado'\n",
        "END\n",
        "  AS dia_semana,\n",
        "  COUNT(*) AS crimes_morte\n",
        "FROM\n",
        "  ny_tratado\n",
        "GROUP BY\n",
        "  dia_semana\n",
        "ORDER BY\n",
        "  crimes_morte DESC\n",
        "''').show(truncate=False)"
      ],
      "metadata": {
        "colab": {
          "base_uri": "https://localhost:8080/"
        },
        "id": "N8hOpSQVptUo",
        "outputId": "4bfd1312-f74c-49ef-88d3-9d9ffcb7afe1"
      },
      "execution_count": 98,
      "outputs": [
        {
          "output_type": "stream",
          "name": "stdout",
          "text": [
            "+----------+------------+\n",
            "|dia_semana|crimes_morte|\n",
            "+----------+------------+\n",
            "|Domingo   |290         |\n",
            "|Sábado    |268         |\n",
            "|Segunda   |212         |\n",
            "|Sexta     |210         |\n",
            "|Terça     |200         |\n",
            "|Quarta    |200         |\n",
            "|Quinta    |179         |\n",
            "+----------+------------+\n",
            "\n"
          ]
        }
      ]
    }
  ]
}